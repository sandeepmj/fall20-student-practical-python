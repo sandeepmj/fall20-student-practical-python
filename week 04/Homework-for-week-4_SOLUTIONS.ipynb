{
 "cells": [
  {
   "cell_type": "markdown",
   "metadata": {},
   "source": [
    "# Homework for week 4"
   ]
  },
  {
   "cell_type": "markdown",
   "metadata": {},
   "source": [
    "## Conditionals\n",
    "\n"
   ]
  },
  {
   "cell_type": "markdown",
   "metadata": {},
   "source": [
    "### 1. Run the next cell to create a list of 10 random numbers anywhere from -100 to 100 \n"
   ]
  },
  {
   "cell_type": "code",
   "execution_count": 6,
   "metadata": {},
   "outputs": [
    {
     "data": {
      "text/plain": [
       "[75, 21, -32, 37, 36, 11, -74, 97, 99, 57]"
      ]
     },
     "execution_count": 6,
     "metadata": {},
     "output_type": "execute_result"
    }
   ],
   "source": [
    "\n",
    "import random\n",
    "numbers = random.sample(range(-100, 100), 10)\n",
    "numbers"
   ]
  },
  {
   "cell_type": "markdown",
   "metadata": {},
   "source": [
    "### 2. Review\n",
    "\n",
    "In class we wrote the following conditional statements to tell us if the last number and the penultimate number are positive or negative.\n"
   ]
  },
  {
   "cell_type": "code",
   "execution_count": 3,
   "metadata": {},
   "outputs": [
    {
     "name": "stdout",
     "output_type": "stream",
     "text": [
      "The last number (82) is positive while the  penultimate number (-71) is negative\n"
     ]
    }
   ],
   "source": [
    "## if else statements\n",
    "if numbers[-2] > 0:\n",
    "    penultimate_status = \"positive\"\n",
    "    \n",
    "else: penultimate_status = \"negative\"\n",
    "        \n",
    "if numbers[-1] > 0:\n",
    "    last_status = \"positive\"\n",
    "else: last_status = \"negative\"\n",
    "        \n",
    "print(f\"The last number ({numbers[-1]}) is {last_status} while \\\n",
    "the  penultimate number ({numbers[-2]}) is {penultimate_status}\")"
   ]
  },
  {
   "cell_type": "markdown",
   "metadata": {},
   "source": [
    "### 3. Activate the following list\n"
   ]
  },
  {
   "cell_type": "code",
   "execution_count": 7,
   "metadata": {},
   "outputs": [],
   "source": [
    "## run this cell\n",
    "numbers = [46, 30, 31, -56, 18, 57, -90, 81, 0, 0]"
   ]
  },
  {
   "cell_type": "markdown",
   "metadata": {},
   "source": [
    "### 4. Update the conditional expression\n",
    "\n",
    "Write ```if else``` expressions to update the conditional statement we wrote in class to deal with Zeros. For example if the random list generates:\n",
    "\n",
    "```[46, 30, 31, -56, 18, 57, -90, 81, 0, 0]```\n",
    "\n",
    "It should print out:\n",
    "\n",
    "```The last number (0) is neither negative or positive at zero while the penultimate number (0) is neither negative or positive at zero.```"
   ]
  },
  {
   "cell_type": "code",
   "execution_count": 10,
   "metadata": {},
   "outputs": [
    {
     "name": "stdout",
     "output_type": "stream",
     "text": [
      "The last number (0) is neither negative or positive while the  penultimate number (0) is neither negative or positive\n"
     ]
    }
   ],
   "source": [
    "## Write if/else expression here\n",
    "\n",
    "if numbers[-2] > 0:\n",
    "    penultimate_status = \"positive\"\n",
    "\n",
    "elif numbers[-2] == 0:\n",
    "    penultimate_status = \"neither negative or positive\"\n",
    "    \n",
    "else: penultimate_status = \"negative\"\n",
    "        \n",
    "if numbers[-1] > 0:\n",
    "    last_status = \"positive\"\n",
    "\n",
    "elif numbers[-1] == 0:\n",
    "    last_status = \"neither negative or positive\"\n",
    "    \n",
    "else: last_status = \"negative\"\n",
    "        \n",
    "print(f\"The last number ({numbers[-1]}) is {last_status} while \\\n",
    "the  penultimate number ({numbers[-2]}) is {penultimate_status}\")"
   ]
  },
  {
   "cell_type": "markdown",
   "metadata": {},
   "source": [
    "### 5. Update with Tenary expression \n",
    "\n",
    "Take your if/else statement that accounts for Zeroes and turn it into a tenary expression\n"
   ]
  },
  {
   "cell_type": "code",
   "execution_count": 9,
   "metadata": {},
   "outputs": [
    {
     "name": "stdout",
     "output_type": "stream",
     "text": [
      "The last number (0) is neither negative or positive while the penultimate number (0) is neither negative or positive.\n"
     ]
    }
   ],
   "source": [
    "## write your multiple ternary expression\n",
    "pen_status = \"positive\" if numbers[-2] > 0 else \"negative\" if numbers[-2] < 0 else \"neither negative or positive\"\n",
    "\n",
    "last_status = \"positive\" if numbers[-1] > 0 else \"negative\" if numbers[-1] < 0 else \"neither negative or positive\"\n",
    "\n",
    "print(f\"The last number ({numbers[-1]}) is {last_status} while \\\n",
    "the penultimate number ({numbers[-2]}) is {pen_status}.\")"
   ]
  },
  {
   "cell_type": "markdown",
   "metadata": {},
   "source": [
    "## Function 1- string to integer"
   ]
  },
  {
   "cell_type": "markdown",
   "metadata": {},
   "source": [
    "#### 1. Convert String Number to Integer\n",
    "Create a function that can take something like ```\"$5,356\"``` or ```\"$250,000\"``` or even ```\"$10.75\"``` and covert into integers like return ```5356```, ```250000``` and ```11``` respectively."
   ]
  },
  {
   "cell_type": "code",
   "execution_count": 14,
   "metadata": {},
   "outputs": [],
   "source": [
    "## build function here and call it clean_numbers\n",
    "def clean_numbers(some_string_number):\n",
    "  '''\n",
    "  Enter a number or a list of numbers that are in a string format, and I will convert it to an integer.\n",
    "  '''\n",
    "  amount = some_string_number.replace(\"$\",\"\").replace(\",\",\"\")\n",
    "  return round(float(amount))"
   ]
  },
  {
   "cell_type": "code",
   "execution_count": 15,
   "metadata": {},
   "outputs": [
    {
     "data": {
      "text/plain": [
       "5356"
      ]
     },
     "execution_count": 15,
     "metadata": {},
     "output_type": "execute_result"
    }
   ],
   "source": [
    "## call the function on \"$5,356\"\n",
    "## Did you get 5356?\n",
    "clean_numbers(\"$5,356\")"
   ]
  },
  {
   "cell_type": "code",
   "execution_count": 16,
   "metadata": {},
   "outputs": [
    {
     "data": {
      "text/plain": [
       "11"
      ]
     },
     "execution_count": 16,
     "metadata": {},
     "output_type": "execute_result"
    }
   ],
   "source": [
    "## call the function on \"$10.75\"\n",
    "## Did you get 11?\n",
    "\n",
    "clean_numbers(\"$10.75\")"
   ]
  },
  {
   "cell_type": "code",
   "execution_count": 17,
   "metadata": {},
   "outputs": [
    {
     "data": {
      "text/plain": [
       "[12, 4576, 23629]"
      ]
     },
     "execution_count": 17,
     "metadata": {},
     "output_type": "execute_result"
    }
   ],
   "source": [
    "## Use map() to run your function on the following list\n",
    "## save result in a list called updated_list\n",
    "my_amounts = [\"$12.24\", \"$4,576.33\", \"$23,629.01\"]\n",
    "\n",
    "updated_list = list(map(clean_numbers, my_amounts))\n",
    "updated_list"
   ]
  },
  {
   "cell_type": "markdown",
   "metadata": {},
   "source": [
    "### 3. What if we encounter a list that has a mix of numbers as strings and integers and floats?"
   ]
  },
  {
   "cell_type": "code",
   "execution_count": 19,
   "metadata": {},
   "outputs": [],
   "source": [
    "## Run this cell\n",
    "more_amounts = [960, \"$12.24\", \"$4,576.33\", \"$23,629.01\", 23.656]"
   ]
  },
  {
   "cell_type": "code",
   "execution_count": 20,
   "metadata": {},
   "outputs": [],
   "source": [
    "## tweaked the function here to handle all situations\n",
    "def clean_numbers(some_string_number):\n",
    "  '''\n",
    "  Enter a number or a list of numbers. The items can be strings, integers, floats or a mix of all. I will convert it to an integer.\n",
    "  '''\n",
    "  if isinstance(some_string_number, str): \n",
    "    amount = int(round(float(some_string_number.replace(\"$\",\"\").replace(\",\",\"\"))))\n",
    "\n",
    "  else:\n",
    "    amount = int(round(float(some_string_number)))\n",
    "\n",
    "  return amount"
   ]
  },
  {
   "cell_type": "code",
   "execution_count": 22,
   "metadata": {},
   "outputs": [
    {
     "data": {
      "text/plain": [
       "[960, 12, 4576, 23629, 24]"
      ]
     },
     "execution_count": 22,
     "metadata": {},
     "output_type": "execute_result"
    }
   ],
   "source": [
    "## run it on more_amounts using map()\n",
    "list(map(clean_numbers, more_amounts))"
   ]
  },
  {
   "cell_type": "markdown",
   "metadata": {},
   "source": [
    "## Function 2 - Increase by 10 percent"
   ]
  },
  {
   "cell_type": "code",
   "execution_count": 42,
   "metadata": {},
   "outputs": [],
   "source": [
    "## call function ten_pct\n",
    "\n",
    "def ten_pct(some_num):\n",
    "    \"\"\"\n",
    "    enter argument of a single number \n",
    "    and function returns the number increased by 10 percent\n",
    "    \n",
    "    \"\"\"\n",
    "    return(some_num + some_num*.1)"
   ]
  },
  {
   "cell_type": "code",
   "execution_count": 36,
   "metadata": {},
   "outputs": [
    {
     "data": {
      "text/plain": [
       "110.0"
      ]
     },
     "execution_count": 36,
     "metadata": {},
     "output_type": "execute_result"
    }
   ],
   "source": [
    "## test it on the number 100\n",
    "\n",
    "ten_pct(100)"
   ]
  },
  {
   "cell_type": "markdown",
   "metadata": {},
   "source": [
    "## Function 3 - Function to call functions\n",
    "\n",
    "* You have a list of numbers that are strings with dollars signs.\n",
    "* You want to take those and clean them so you can run calculations on them.\n",
    "* Once cleaned, increase each number by 10%\n",
    "\n",
    "Oh, it turns out you already wrote functions that each do part of what is required.\n",
    "\n",
    "### Write a function that calls your modular functions to acomplish your task"
   ]
  },
  {
   "cell_type": "code",
   "execution_count": 39,
   "metadata": {},
   "outputs": [],
   "source": [
    "## Run this cell\n",
    "## numbers you want to clean and increase by 10%\n",
    "my_amounts = [\"$12.24\", \"$4,576.33\", \"$23,629.01\"]"
   ]
  },
  {
   "cell_type": "code",
   "execution_count": 40,
   "metadata": {},
   "outputs": [],
   "source": [
    "## A function that calls other functions\n",
    "def process(a_list):\n",
    "    temp_list = list(map(clean_numbers, a_list))\n",
    "    return (list(map(ten_pct,temp_list)))\n",
    "    \n",
    "    "
   ]
  },
  {
   "cell_type": "code",
   "execution_count": 44,
   "metadata": {},
   "outputs": [
    {
     "data": {
      "text/plain": [
       "[13.2, 5033.6, 25991.9]"
      ]
     },
     "execution_count": 44,
     "metadata": {},
     "output_type": "execute_result"
    }
   ],
   "source": [
    "## test your function on my_amount\n",
    "process(my_amounts)"
   ]
  },
  {
   "cell_type": "code",
   "execution_count": 43,
   "metadata": {},
   "outputs": [],
   "source": [
    "## can be this too, but this is harder to read\n",
    "def process(a_list):\n",
    "    return (list(map(ten_pct, list(map(clean_numbers, a_list)))))"
   ]
  },
  {
   "cell_type": "code",
   "execution_count": null,
   "metadata": {},
   "outputs": [],
   "source": []
  }
 ],
 "metadata": {
  "kernelspec": {
   "display_name": "Python 3",
   "language": "python",
   "name": "python3"
  },
  "language_info": {
   "codemirror_mode": {
    "name": "ipython",
    "version": 3
   },
   "file_extension": ".py",
   "mimetype": "text/x-python",
   "name": "python",
   "nbconvert_exporter": "python",
   "pygments_lexer": "ipython3",
   "version": "3.7.7"
  }
 },
 "nbformat": 4,
 "nbformat_minor": 4
}
