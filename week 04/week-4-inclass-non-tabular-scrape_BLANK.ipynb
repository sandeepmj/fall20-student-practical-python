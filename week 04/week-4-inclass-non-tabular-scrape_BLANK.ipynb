{
 "cells": [
  {
   "cell_type": "markdown",
   "metadata": {
    "slideshow": {
     "slide_type": "slide"
    }
   },
   "source": [
    "# Scraping non-tabular data\n",
    "\n",
    "Look at the first section of CEO data:\n",
    "\n",
    "```https://sandeepmj.github.io/scrape-example-page/#organized```"
   ]
  },
  {
   "cell_type": "markdown",
   "metadata": {
    "slideshow": {
     "slide_type": "slide"
    }
   },
   "source": [
    "### This won't be as simple as scraping a table:\n",
    "\n",
    "* Where and how is the content held on the page?\n",
    "* How can we access it?\n",
    "* Is there a pattern?\n",
    "* Is there anything that breaks the pattern?"
   ]
  },
  {
   "cell_type": "code",
   "execution_count": null,
   "metadata": {
    "slideshow": {
     "slide_type": "slide"
    }
   },
   "outputs": [],
   "source": [
    "## import libraries\n",
    "from bs4 import BeautifulSoup\n",
    "import pandas as pd\n",
    "import requests ## a library that returns information from websites.\n",
    "import re ## Regular expressions to help clean our headers"
   ]
  },
  {
   "cell_type": "code",
   "execution_count": null,
   "metadata": {
    "slideshow": {
     "slide_type": "slide"
    }
   },
   "outputs": [],
   "source": [
    "# url to scrape\n",
    "url = \"https://sandeepmj.github.io/scrape-example-page\""
   ]
  },
  {
   "cell_type": "code",
   "execution_count": null,
   "metadata": {
    "slideshow": {
     "slide_type": "slide"
    }
   },
   "outputs": [],
   "source": [
    "## We use the request library to grab page content\n",
    "## get contents of URL and store in object called page.\n",
    "## Let's print page and see what we have.\n"
   ]
  },
  {
   "cell_type": "code",
   "execution_count": null,
   "metadata": {
    "slideshow": {
     "slide_type": "slide"
    }
   },
   "outputs": [],
   "source": [
    "## what type of object is it?\n"
   ]
  },
  {
   "cell_type": "code",
   "execution_count": null,
   "metadata": {
    "slideshow": {
     "slide_type": "slide"
    }
   },
   "outputs": [],
   "source": [
    "## We'll used BeautifulSoup to convert content into content we recognize\n"
   ]
  },
  {
   "cell_type": "code",
   "execution_count": null,
   "metadata": {
    "slideshow": {
     "slide_type": "slide"
    }
   },
   "outputs": [],
   "source": [
    "## prettify the print so it's easier to see the HTML tree.\n"
   ]
  },
  {
   "cell_type": "markdown",
   "metadata": {
    "slideshow": {
     "slide_type": "slide"
    }
   },
   "source": [
    "## Non-tabular data in classes"
   ]
  },
  {
   "cell_type": "code",
   "execution_count": null,
   "metadata": {
    "slideshow": {
     "slide_type": "slide"
    }
   },
   "outputs": [],
   "source": [
    "## soup captures the entire page.\n",
    "## we narrow it down to capture our target section and store in object called dis\n"
   ]
  },
  {
   "cell_type": "code",
   "execution_count": null,
   "metadata": {
    "slideshow": {
     "slide_type": "slide"
    }
   },
   "outputs": [],
   "source": [
    "def sanitize_label(label):\n",
    "    \"\"\"This function takes a string and lowercases it; strips it of trailing and leading spaces; and puts underscores between words\"\n",
    "    \"\"\"\n",
    "    value = label.lower().replace(\":\", \"\").strip()\n",
    "    value = re.sub(r'[^A-Za-z0-9]+', '_', value)\n",
    "    return value"
   ]
  },
  {
   "cell_type": "code",
   "execution_count": null,
   "metadata": {
    "slideshow": {
     "slide_type": "slide"
    }
   },
   "outputs": [],
   "source": [
    "## find the labels (column headers)\n",
    "## using for loop and store in list called labels_fl\n",
    "\n"
   ]
  },
  {
   "cell_type": "code",
   "execution_count": null,
   "metadata": {
    "slideshow": {
     "slide_type": "slide"
    }
   },
   "outputs": [],
   "source": [
    "## find the labels (column headers)\n",
    "## using list comprehension save in a list called labels_lc\n"
   ]
  },
  {
   "cell_type": "code",
   "execution_count": null,
   "metadata": {
    "slideshow": {
     "slide_type": "slide"
    }
   },
   "outputs": [],
   "source": [
    "## find class ceo and store in object called ceos\n"
   ]
  },
  {
   "cell_type": "code",
   "execution_count": null,
   "metadata": {},
   "outputs": [],
   "source": [
    "## GET RID OF SPAN DATA\n",
    "for ceo in ceos:\n",
    "    ceo.span.decompose()\n",
    "    print(ceo)"
   ]
  },
  {
   "cell_type": "markdown",
   "metadata": {
    "slideshow": {
     "slide_type": "slide"
    }
   },
   "source": [
    "### BUILDING A DICTIONARY  USING { }"
   ]
  },
  {
   "cell_type": "code",
   "execution_count": null,
   "metadata": {
    "slideshow": {
     "slide_type": "slide"
    }
   },
   "outputs": [],
   "source": [
    "## let's store ceo vitals stats in a list of dicts called all_ceos_dict_list\n",
    "ceo_dict_list = []\n",
    "for ceo in ceos:\n",
    "    \n",
    "    ceo = ceo.find_all(\"p\")\n",
    "#     print(type(ceo))\n",
    "#     print(ceo)\n",
    "    rank = ceo[0].get_text()\n",
    "    print(rank)\n",
    "    name = ceo[1].get_text()\n",
    "    print(name)\n",
    "    compensation = ceo[2].get_text()\n",
    "#     print(compensation)\n",
    "    company = ceo[3].get_text()\n",
    "#     print(company)\n",
    "    ceo_dict = {\"rank\": rank,\n",
    "                \"CEO_name\": name,\n",
    "                \"compensation\": compensation,\n",
    "                \"company\": company\n",
    "               }\n",
    "    ceo_dict_list.append(ceo_dict)\n",
    "\n",
    "ceo_dict_list"
   ]
  },
  {
   "cell_type": "markdown",
   "metadata": {},
   "source": [
    "### BUILDING A DICTIONARY USING DICT AND ZIP"
   ]
  },
  {
   "cell_type": "code",
   "execution_count": null,
   "metadata": {},
   "outputs": [],
   "source": [
    "## let's store ceo vitals stats in a list of dicts called all_ceos_dict_list\n",
    "\n",
    "all_ceos_dict_list = [] ## a list that will hold dictionaries for each ceo\n",
    "for ceo in ceos:\n",
    "    ceos_list = [] \n",
    "    ceo = ceo.find_all(\"p\")\n",
    "    rank = ceo[0].get_text()\n",
    "    name = ceo[1].get_text()\n",
    "    annual_compensation = ceo[2].get_text()\n",
    "    company = ceo[3].get_text()\n",
    "    print(company)\n",
    "    ceos_list.extend([rank, name, annual_compensation, company])\n",
    "    ceo_dict = dict(zip(labels_lc, ceos_list))\n",
    "#     print(ceo_dict)\n",
    "    all_ceos_dict_list.append(ceo_dict)\n",
    "    \n",
    "all_ceos_dict_list  "
   ]
  },
  {
   "cell_type": "code",
   "execution_count": null,
   "metadata": {},
   "outputs": [],
   "source": [
    "def export2csv(a_list, filename):\n",
    "    '''\n",
    "    provide list name first\n",
    "    provide filename as a string\n",
    "    '''\n",
    "    df = pd.DataFrame(a_list)\n",
    "    df.to_csv(filename, encoding='utf-8', index=False)\n",
    "    print(f\"{filename} is in your project folder!\")"
   ]
  },
  {
   "cell_type": "code",
   "execution_count": null,
   "metadata": {},
   "outputs": [],
   "source": [
    "## export to csv\n",
    "export2csv(all_ceos_dict_list, \"ceo_ranks.csv\")"
   ]
  },
  {
   "cell_type": "markdown",
   "metadata": {},
   "source": [
    "# Scrape the non-tabular data in id=\"disorganized\""
   ]
  },
  {
   "cell_type": "code",
   "execution_count": null,
   "metadata": {},
   "outputs": [],
   "source": [
    "## soup captures the entire page.\n",
    "## we narrow it down to capture our target section and store in object called dis\n"
   ]
  },
  {
   "cell_type": "code",
   "execution_count": null,
   "metadata": {},
   "outputs": [],
   "source": [
    "## find the labels (column headers)\n",
    "## using for loop and store in list called labels_fl\n",
    "\n"
   ]
  },
  {
   "cell_type": "code",
   "execution_count": null,
   "metadata": {},
   "outputs": [],
   "source": [
    "## find the labels (column headers)\n",
    "## using list comprehension save in a list called labels_lc\n"
   ]
  },
  {
   "cell_type": "code",
   "execution_count": null,
   "metadata": {},
   "outputs": [],
   "source": [
    "## find class ceo and store in object called ceos\n"
   ]
  },
  {
   "cell_type": "code",
   "execution_count": null,
   "metadata": {},
   "outputs": [],
   "source": [
    "\n",
    "\n",
    "## we only printed them out. let's store in a list of dicts called ceo_dict_list\n",
    "ceo_dict_list = []\n",
    "for ceo in ceos:\n",
    "    each_ceo = ceo.find_all(\"dt\")\n",
    "    rank = each_ceo[0].get_text()\n",
    "    name = each_ceo[1].get_text()\n",
    "    annual_compensation = each_ceo[2].get_text()\n",
    "    company = each_ceo[3].get_text()\n",
    "    ceo_dict = {\"Rank\": rank, \"Name\": name, \"Company\": company, \"Annual Compensation\": annual_compensation}\n",
    "    ceo_dict_list.append(ceo_dict)\n",
    "ceo_dict_list"
   ]
  },
  {
   "cell_type": "code",
   "execution_count": null,
   "metadata": {},
   "outputs": [],
   "source": [
    "## we only printed them out. let's store in a list of dicts called ceo_dict_list\n",
    "ceo_dict_list2 = []\n",
    "for ceo in ceos:\n",
    "    my_list = []\n",
    "    each_ceo = ceo.find_all(\"dt\")\n",
    "    rank1 = each_ceo[0].get_text()\n",
    "    name1 = each_ceo[1].get_text()\n",
    "    annual_compensation1 = each_ceo[2].get_text()\n",
    "    company1 = each_ceo[3].get_text()\n",
    "    my_list.extend([rank1, name1, annual_compensation1, company1])\n",
    "    ceo_dict = dict(zip(labels_lc, my_list))\n",
    "    ceo_dict_list2.append(ceo_dict)\n",
    "ceo_dict_list2"
   ]
  },
  {
   "cell_type": "code",
   "execution_count": null,
   "metadata": {},
   "outputs": [],
   "source": [
    "## use pandas to write to csv file\n",
    "filename = \"disorganized.csv\" ## what are file name is\n",
    "df = pd.DataFrame(ceo_dict_list) ## we turn our list of dicts into a dataframe which we're call df\n",
    "df.to_csv(filename, encoding='utf-8', index=False) ## export to csv as utf-8 coding (it just has to be this)\n",
    "\n",
    "print(f\"{filename} is in your project folder!\") ## a print out that tells us the file is ready"
   ]
  },
  {
   "cell_type": "code",
   "execution_count": null,
   "metadata": {},
   "outputs": [],
   "source": []
  }
 ],
 "metadata": {
  "celltoolbar": "Slideshow",
  "kernelspec": {
   "display_name": "Python 3",
   "language": "python",
   "name": "python3"
  },
  "language_info": {
   "codemirror_mode": {
    "name": "ipython",
    "version": 3
   },
   "file_extension": ".py",
   "mimetype": "text/x-python",
   "name": "python",
   "nbconvert_exporter": "python",
   "pygments_lexer": "ipython3",
   "version": "3.8.3"
  }
 },
 "nbformat": 4,
 "nbformat_minor": 4
}
