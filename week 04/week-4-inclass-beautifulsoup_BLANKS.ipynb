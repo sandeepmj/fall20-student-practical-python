{
 "cells": [
  {
   "cell_type": "markdown",
   "metadata": {
    "slideshow": {
     "slide_type": "slide"
    }
   },
   "source": [
    "# Scraping with BeautifulSoup"
   ]
  },
  {
   "cell_type": "code",
   "execution_count": null,
   "metadata": {},
   "outputs": [],
   "source": [
    "html_doc = \"\"\"\n",
    "<html><head><title>The title is Demo for BeautifulSoup</title></head>\n",
    "<body>\n",
    "<h1 class=\"title\"><b>The title headline is Demo for BeautifulSoup</b></p>\n",
    "\n",
    "<section class=\"main\" id=\"all_plants\">\n",
    "\n",
    "<p class=\"article\">There are three things to keep in mind:\n",
    "<a href=\"http://example.com/plant1\" class=\"plants life\" id=\"plant1\">Plant 1</a>: <span class=\"cost\">$10</span>,\n",
    "<a href=\"http://example.com/plant2\" class=\"plants life\" id=\"plant2\">Plant 2</a>: <span class=\"cost\">$20</span> and\n",
    "<a href=\"http://example.com/plant3\" class=\"plants life\" id=\"plant3\">Plant 3</a> <span class=\"cost\">$30</span>;\n",
    "</p>\n",
    "<strong>Don't forget to water these 3 plants.</strong>\n",
    "\n",
    "\n",
    "</section>\n",
    "\n",
    "<section class=\"main\" id=\"all_animals\">\n",
    "<p class=\"article\"> There are three animals in the barn:\n",
    "<a href=\"http://example.com/animal1\" class=\"animals life\" id=\"animal1\">Animal 1</a>: <span class=\"cost\">$500</span>,\n",
    "<a href=\"http://example.com/animal2\" class=\"animals life\" id=\"animal2\">Animal 2</a>: <span class=\"cost\">$600</span> and\n",
    "<a href=\"http://example.com/animal3\" class=\"animals life\" id=\"animal3\">Animal 3</a>: <span class=\"cost\">$700</span>;\n",
    "</p>\n",
    "<strong>Don't forget these feed these 3 animals.</strong>\n",
    "</section>\n",
    "\n",
    "\n",
    "<section>\n",
    "<p><span>Inanimate object 1</span></p>\n",
    "<p><span>Inanimate object 2</span></p>\n",
    "<p><span>Inanimate object 3</span></p>\n",
    "</section>\n",
    "\"\"\"\n",
    "\n",
    "print(html_doc)"
   ]
  },
  {
   "cell_type": "code",
   "execution_count": null,
   "metadata": {},
   "outputs": [],
   "source": [
    "## import library"
   ]
  },
  {
   "cell_type": "markdown",
   "metadata": {},
   "source": [
    "## Create a BeautifulSoup object\n",
    "<img src=\"../support_files/bs-soup.png\">"
   ]
  },
  {
   "cell_type": "code",
   "execution_count": null,
   "metadata": {},
   "outputs": [],
   "source": [
    "## we add name of our file\n"
   ]
  },
  {
   "cell_type": "code",
   "execution_count": null,
   "metadata": {},
   "outputs": [],
   "source": [
    "## What type of file is it?\n"
   ]
  },
  {
   "cell_type": "code",
   "execution_count": null,
   "metadata": {},
   "outputs": [],
   "source": [
    "## get title of page\n"
   ]
  },
  {
   "cell_type": "code",
   "execution_count": null,
   "metadata": {},
   "outputs": [],
   "source": [
    "## What about the h1 tag with the class of title? \n",
    "## How can we have two titles?\n",
    "\n"
   ]
  },
  {
   "cell_type": "markdown",
   "metadata": {},
   "source": [
    "### string v. get_text()\n",
    "\n",
    "In most cases, our final step in a scrape is to convert everything to a string. We don't want all the html. \n",
    "\n",
    "We can use ```.string``` or ```get_text().```\n",
    "\n",
    "- ```get_text()``` is far more powerful because you can add parameters to strip, specify separators, etc.\n"
   ]
  },
  {
   "cell_type": "code",
   "execution_count": null,
   "metadata": {},
   "outputs": [],
   "source": [
    "## get text from soup\n"
   ]
  },
  {
   "cell_type": "code",
   "execution_count": null,
   "metadata": {},
   "outputs": [],
   "source": [
    "## get the type\n"
   ]
  },
  {
   "cell_type": "code",
   "execution_count": null,
   "metadata": {},
   "outputs": [],
   "source": [
    "## string will only work on individual tags, not on the entire soup object.\n",
    "##soup.string returns nothing\n"
   ]
  },
  {
   "cell_type": "code",
   "execution_count": null,
   "metadata": {},
   "outputs": [],
   "source": [
    "## TYPE\n"
   ]
  },
  {
   "cell_type": "code",
   "execution_count": null,
   "metadata": {},
   "outputs": [],
   "source": [
    "## return just a string of the tag:\n"
   ]
  },
  {
   "cell_type": "code",
   "execution_count": null,
   "metadata": {},
   "outputs": [],
   "source": [
    "## get only title text and not html\n"
   ]
  },
  {
   "cell_type": "code",
   "execution_count": null,
   "metadata": {},
   "outputs": [],
   "source": [
    "## get all p tag text\n"
   ]
  },
  {
   "cell_type": "code",
   "execution_count": null,
   "metadata": {},
   "outputs": [],
   "source": [
    "## get rid of weird characters\n"
   ]
  },
  {
   "cell_type": "markdown",
   "metadata": {},
   "source": [
    "## Finding ```class```\n",
    "\n",
    "### There are three ways ranging from simplicity to precision.\n",
    "\n",
    "```find()``` returns the first occurence of any item you are searching for.\n"
   ]
  },
  {
   "cell_type": "markdown",
   "metadata": {},
   "source": [
    "### 1. Simplicity\n",
    "\n",
    "Because ```find``` is one of the most popular functions in ```BeautifulSoup```, \n",
    "you don't even have to write it.\n",
    "\n",
    "```soup(\"tag_name\", \"class_name\")```\n"
   ]
  },
  {
   "cell_type": "code",
   "execution_count": null,
   "metadata": {},
   "outputs": [],
   "source": [
    "## simple but without precision\n",
    "# find all p tags with class \"article\" \n"
   ]
  },
  {
   "cell_type": "markdown",
   "metadata": {},
   "source": [
    "### 2. Clarity\n",
    "\n",
    "We want to be clear what we are writing so all team members can more easily understand it later.\n",
    "\n",
    "- Use ```find``` to know what function it is.\n",
    "- Use ```soup.find(class_=\"class_name\"``` to be clear what class we are looking for.\n",
    "- ```class_``` is not Python or BeautifulSoup. It is simply there to tell us we are looking for a ```class```. Because ```class``` (a type of data) is a Python reserved word, we add the ```_``` to tell us we are referring to an ```HTML class```.\n"
   ]
  },
  {
   "cell_type": "code",
   "execution_count": null,
   "metadata": {},
   "outputs": [],
   "source": [
    "# find all tags in the first occurence class \"article\" \n"
   ]
  },
  {
   "cell_type": "markdown",
   "metadata": {},
   "source": [
    "### 3. Precision\n",
    "\n",
    "In the previous example, we could have run into trouble in case the ```class = \"article\"``` applied to multiple tags.\n",
    "\n",
    "- Use the tag name to add precision.\n",
    "- ```soup.find(\"tag_name\", class_=\"class_name\")```"
   ]
  },
  {
   "cell_type": "code",
   "execution_count": null,
   "metadata": {},
   "outputs": [],
   "source": [
    "## WITH PRECISION\n"
   ]
  },
  {
   "cell_type": "markdown",
   "metadata": {},
   "source": [
    "## ```find_all``` tags, classes\n",
    "\n",
    "- ```find_all``` is *the most widely* used BeautifulSoup command.\n",
    "- Unlike ```find``` it returns *ALL* occurences of a class or tag.\n",
    "- Remember ```find``` returns just the first occurence.\n",
    "- It returns all occurences in a ```beautifulSoup object``` that is similiar to a ```list```."
   ]
  },
  {
   "cell_type": "code",
   "execution_count": null,
   "metadata": {},
   "outputs": [],
   "source": [
    "## Return all p tags with class article\n"
   ]
  },
  {
   "cell_type": "code",
   "execution_count": null,
   "metadata": {},
   "outputs": [],
   "source": [
    "## What if you want only the second group of life forms?\n"
   ]
  },
  {
   "cell_type": "code",
   "execution_count": null,
   "metadata": {},
   "outputs": [],
   "source": [
    "## SEARCH BY ID for \"animal1\"\n"
   ]
  },
  {
   "cell_type": "code",
   "execution_count": null,
   "metadata": {},
   "outputs": [],
   "source": [
    "## SEARCH BY ID for \"plant1\"\n"
   ]
  },
  {
   "cell_type": "markdown",
   "metadata": {},
   "source": [
    "## Storing values\n",
    "\n",
    "We haven't been saving in values in memory. \n",
    "\n",
    "If we want to move beyond a demo, we need to start saving them."
   ]
  },
  {
   "cell_type": "code",
   "execution_count": null,
   "metadata": {},
   "outputs": [],
   "source": [
    "## save all lifeforms in a object called lifeforms\n"
   ]
  },
  {
   "cell_type": "code",
   "execution_count": null,
   "metadata": {},
   "outputs": [],
   "source": [
    "## what kind of object it it?\n"
   ]
  },
  {
   "cell_type": "markdown",
   "metadata": {},
   "source": [
    "### Print lifeforms. Does it look familiar?"
   ]
  },
  {
   "cell_type": "code",
   "execution_count": null,
   "metadata": {},
   "outputs": [],
   "source": [
    "## print lifeforms\n"
   ]
  },
  {
   "cell_type": "code",
   "execution_count": null,
   "metadata": {},
   "outputs": [],
   "source": [
    "## This breaks!\n",
    "## You can't just get the text for the lifeforms.\n",
    "## Why? Because you can't call .get_text() on a <class 'bs4.element.ResultSet'>\n",
    "# print(lifeforms.string)\n"
   ]
  },
  {
   "cell_type": "code",
   "execution_count": null,
   "metadata": {},
   "outputs": [],
   "source": [
    "## just the text, no html\n",
    "## Using for loop\n",
    "   "
   ]
  },
  {
   "cell_type": "code",
   "execution_count": null,
   "metadata": {},
   "outputs": [],
   "source": [
    "## just the text, no html\n",
    "## Using for list comprehension\n",
    "\n"
   ]
  },
  {
   "cell_type": "markdown",
   "metadata": {},
   "source": [
    "## Get the urls for each"
   ]
  },
  {
   "cell_type": "code",
   "execution_count": null,
   "metadata": {},
   "outputs": [],
   "source": [
    "## use for loop\n",
    " \n",
    "    \n"
   ]
  },
  {
   "cell_type": "code",
   "execution_count": null,
   "metadata": {},
   "outputs": [],
   "source": [
    "# using list comprehension\n",
    "\n"
   ]
  },
  {
   "cell_type": "markdown",
   "metadata": {},
   "source": [
    "## Cost\n",
    "\n",
    "Let's grab the cost\n",
    "\n",
    "How do we target the cost?"
   ]
  },
  {
   "cell_type": "code",
   "execution_count": null,
   "metadata": {},
   "outputs": [],
   "source": [
    "## A wide target:\n"
   ]
  },
  {
   "cell_type": "code",
   "execution_count": null,
   "metadata": {},
   "outputs": [],
   "source": [
    "## narrow the target\n"
   ]
  },
  {
   "cell_type": "code",
   "execution_count": null,
   "metadata": {},
   "outputs": [],
   "source": [
    "## using for loop\n"
   ]
  },
  {
   "cell_type": "code",
   "execution_count": null,
   "metadata": {},
   "outputs": [],
   "source": [
    "## using list comprehension\n"
   ]
  },
  {
   "cell_type": "markdown",
   "metadata": {},
   "source": [
    "## Prepare to Export\n",
    "\n",
    "You now have one list that holds the name of the lifeform and another that holds the related URL.\n",
    "\n",
    "Let's create a dict call ```life_dict```.\n",
    "\n",
    "Keys are name and url...values are the related values\n"
   ]
  },
  {
   "cell_type": "code",
   "execution_count": null,
   "metadata": {},
   "outputs": [],
   "source": []
  },
  {
   "cell_type": "markdown",
   "metadata": {},
   "source": [
    "## Export as CSV\n",
    "\n",
    "We'll use Pandas to export our data to an external file.\n",
    "\n",
    "We'll cover this in more detail soon, but for now here it is:"
   ]
  },
  {
   "cell_type": "code",
   "execution_count": null,
   "metadata": {},
   "outputs": [],
   "source": [
    "## import pandas\n",
    "import pandas as pd"
   ]
  },
  {
   "cell_type": "code",
   "execution_count": null,
   "metadata": {},
   "outputs": [],
   "source": [
    "## use pandas to write to csv file\n",
    "filename = \"test.csv\" ## what are file name is\n",
    "df = pd.DataFrame(life_dict_list) ## we turn our life dict into a dataframe which we're call df\n",
    "df.to_csv(filename, encoding='utf-8', index=False) ## export to csv as utf-8 coding (it just has to be this)\n",
    "\n",
    "print(f\"{filename} is in your project folder!\") ## a print out that tells us the file is ready"
   ]
  },
  {
   "cell_type": "markdown",
   "metadata": {},
   "source": [
    "# BeautifulSoup\n",
    "\n",
    "We covered some basic BeautifulSoup functionality:\n",
    "\n",
    "- Remember ```soup``` is just a term we use to store an entire webpage or file. We could call it anything we want.\n",
    "- Searching by ```tags``` like ```title```, ```h1```, ```span``` etc.\n",
    "- Searching by ```class``` or ```id```\n",
    "- Finding all occurences of an item using ```find_all()```\n",
    "- Finding the first occurence of an item using ```find()```\n",
    "- Removing the html and returning just the string by using ```.string``` or ```get_text()```\n",
    "- Grabbing just the URL(s) using ```get(\"href\")```\n",
    "\n",
    "These are the most frequently used BeautifulSoup functions. You can [find many more](https://www.crummy.com/software/BeautifulSoup/bs4/doc/#) in the documentation. \n"
   ]
  }
 ],
 "metadata": {
  "celltoolbar": "Slideshow",
  "kernelspec": {
   "display_name": "Python 3",
   "language": "python",
   "name": "python3"
  },
  "language_info": {
   "codemirror_mode": {
    "name": "ipython",
    "version": 3
   },
   "file_extension": ".py",
   "mimetype": "text/x-python",
   "name": "python",
   "nbconvert_exporter": "python",
   "pygments_lexer": "ipython3",
   "version": "3.8.3"
  }
 },
 "nbformat": 4,
 "nbformat_minor": 4
}
