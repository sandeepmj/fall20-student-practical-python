{
  "nbformat": 4,
  "nbformat_minor": 0,
  "metadata": {
    "colab": {
      "name": "week_9_obnoxious_PDFs.ipynb",
      "provenance": [],
      "collapsed_sections": []
    },
    "kernelspec": {
      "name": "python3",
      "display_name": "Python 3"
    }
  },
  "cells": [
    {
      "cell_type": "markdown",
      "metadata": {
        "id": "uE95tjkZQTj7"
      },
      "source": [
        "# Unlocking Troublesome PDFs\n"
      ]
    },
    {
      "cell_type": "markdown",
      "metadata": {
        "id": "2fdfeth_NZ_l"
      },
      "source": [
        "# Importing files\n",
        "\n",
        "We can use an import library specific to Colab\n",
        "\n",
        "## *WARNING*: These are temporary uploads. When you restart, you need to reupload.\n",
        "\n",
        "```from google.colab import files```\n",
        "\n",
        "```myupload = files.upload()```"
      ]
    },
    {
      "cell_type": "code",
      "metadata": {
        "id": "IaU26eI8OIc5"
      },
      "source": [
        "from google.colab import files\n",
        "files.upload()"
      ],
      "execution_count": null,
      "outputs": []
    },
    {
      "cell_type": "markdown",
      "metadata": {
        "id": "bsTxp9CmN1-F"
      },
      "source": [
        "## Using a path\n",
        "\n",
        "We can store our path structure to a variable.\n",
        "\n",
        "Right-click on the folder in the left column and copy path:\n",
        "```/content/sample_data```\n",
        "\n",
        "This is the raw path. We are already in ```content``` so instead we want:\n",
        "```sample_data``` plus what files we are looking for"
      ]
    },
    {
      "cell_type": "code",
      "metadata": {
        "id": "yeliJ7ZJQQxl"
      },
      "source": [
        "## install PyPDF2 as part of our process\n",
        "## It's not part of the standard library.\n",
        "!pip install pypdf2"
      ],
      "execution_count": null,
      "outputs": []
    },
    {
      "cell_type": "code",
      "metadata": {
        "id": "B7nWxEgfQR-d"
      },
      "source": [
        "import PyPDF2\n",
        "## in order to export our file to our computer drive, you need this only in Colab:\n",
        "from google.colab import files"
      ],
      "execution_count": null,
      "outputs": []
    },
    {
      "cell_type": "code",
      "metadata": {
        "id": "6SGLHdzmWPSG"
      },
      "source": [
        "## import colab's file uploader\n",
        "## upload \n",
        "files.upload()"
      ],
      "execution_count": null,
      "outputs": []
    },
    {
      "cell_type": "code",
      "metadata": {
        "id": "xg_561LJQSCQ"
      },
      "source": [
        "## read and store document in an object\n",
        "pdfFileObj = open(\"nixon-memo2.pdf\", \"rb\")"
      ],
      "execution_count": null,
      "outputs": []
    },
    {
      "cell_type": "code",
      "metadata": {
        "id": "MOe7N8fgQSF5"
      },
      "source": [
        "type(pdfFileObj)"
      ],
      "execution_count": null,
      "outputs": []
    },
    {
      "cell_type": "code",
      "metadata": {
        "id": "EQRclxSKQSJE"
      },
      "source": [
        "## use pypdf to read that object\n",
        "pdfReader = PyPDF2.PdfFileReader(pdfFileObj)"
      ],
      "execution_count": null,
      "outputs": []
    },
    {
      "cell_type": "code",
      "metadata": {
        "id": "18R6CacHQSMG"
      },
      "source": [
        "type(pdfReader)"
      ],
      "execution_count": null,
      "outputs": []
    },
    {
      "cell_type": "code",
      "metadata": {
        "id": "CjOlmUhNQSPR"
      },
      "source": [
        "## let's see how many pages we have\n",
        "number_of_pages = pdfReader.numPages\n",
        "number_of_pages"
      ],
      "execution_count": null,
      "outputs": []
    },
    {
      "cell_type": "code",
      "metadata": {
        "id": "O8u29TQ8QSR7"
      },
      "source": [
        "## read a single page \n",
        "pageObj = pdfReader.getPage(0)\n",
        "pageObj.extractText()"
      ],
      "execution_count": null,
      "outputs": []
    },
    {
      "cell_type": "code",
      "metadata": {
        "id": "uwwnODiRQSVB"
      },
      "source": [
        "## read all pages and store in a list\n",
        "all_pages = []\n",
        "for page_number in range(number_of_pages):\n",
        "  page = pdfReader.getPage(page_number)\n",
        "  all_pages.append(page.extractText())\n",
        "\n",
        "all_pages"
      ],
      "execution_count": null,
      "outputs": []
    },
    {
      "cell_type": "code",
      "metadata": {
        "id": "dXwt-hH1QSX_"
      },
      "source": [
        "type(all_pages)"
      ],
      "execution_count": null,
      "outputs": []
    },
    {
      "cell_type": "code",
      "metadata": {
        "id": "VvyjwrGKQSaz"
      },
      "source": [
        "## print all pages so we can see them\n",
        "for page in all_pages:\n",
        "  print(page)"
      ],
      "execution_count": null,
      "outputs": []
    },
    {
      "cell_type": "markdown",
      "metadata": {
        "id": "PyQk9P8RQyqb"
      },
      "source": [
        "## An even more obnoxious PDF"
      ]
    },
    {
      "cell_type": "code",
      "metadata": {
        "id": "3L_u2nPAXBGa"
      },
      "source": [
        "## import colab's file uploader\n",
        "## upload columbus_bank_trust.pdf\n",
        "files.upload()"
      ],
      "execution_count": null,
      "outputs": []
    },
    {
      "cell_type": "code",
      "metadata": {
        "id": "dUZxGxc1QSeR"
      },
      "source": [
        "## place in an object\n",
        "pdfFileObj2 = open('columbus_bank_trust.pdf', 'rb')"
      ],
      "execution_count": null,
      "outputs": []
    },
    {
      "cell_type": "code",
      "metadata": {
        "id": "gldOdsIbQShu"
      },
      "source": [
        "## read it using PyPDF\n",
        "pdfReader2 = PyPDF2.PdfFileReader(pdfFileObj2)"
      ],
      "execution_count": null,
      "outputs": []
    },
    {
      "cell_type": "code",
      "metadata": {
        "id": "1UUwPmXFQSlC"
      },
      "source": [
        "## how many pages?\n",
        "pdfReader2.numPages"
      ],
      "execution_count": null,
      "outputs": []
    },
    {
      "cell_type": "code",
      "metadata": {
        "id": "Unh73yRoQSoK"
      },
      "source": [
        "## extract a page\n",
        "pageObj2 = pdfReader2.getPage(1)\n",
        "columbia_text = pageObj2.extractText()"
      ],
      "execution_count": null,
      "outputs": []
    },
    {
      "cell_type": "code",
      "metadata": {
        "id": "v57FA8r5QSrq"
      },
      "source": [
        "## read text\n",
        "columbia_text"
      ],
      "execution_count": null,
      "outputs": []
    },
    {
      "cell_type": "markdown",
      "metadata": {
        "id": "Glx0bEpqRFLX"
      },
      "source": [
        "# Strategy to Vanquish Obnoxious PDFs\n",
        "\n",
        "\n",
        "### The problem:\n",
        "*   PDFs all have different encodings: UTF-8, ASCII, Unicode, etc\n",
        "*   Therefore a possible loss of data during the coversion \n",
        "\n",
        "### The solution:\n",
        "*   Convert the PDF to an image\n",
        "*   Use optical character recognition (OCR) to capture the text\n",
        "*   Export to a text file\n",
        "\n",
        "\n",
        "\n",
        "\n",
        "\n",
        "### Let's use Google's tesseract OCR (and all its dependencies)"
      ]
    },
    {
      "cell_type": "code",
      "metadata": {
        "id": "iZjLlIV6QSu4"
      },
      "source": [
        "## We need pytesseract (not part of standard library) to wrap around Google's tesseract-ocr\n",
        "!pip install pytesseract"
      ],
      "execution_count": null,
      "outputs": []
    },
    {
      "cell_type": "code",
      "metadata": {
        "id": "IERS3l2KRaR-"
      },
      "source": [
        "## need google tesseract-ocr\n",
        "\n",
        "!apt install tesseract-ocr"
      ],
      "execution_count": null,
      "outputs": []
    },
    {
      "cell_type": "code",
      "metadata": {
        "id": "IkY87c9fRai0"
      },
      "source": [
        "## Poppler enables you to convert .pdf files to .txt\n",
        "## but not part of standard library\n",
        "\n",
        "!apt-get install poppler-utils "
      ],
      "execution_count": null,
      "outputs": []
    },
    {
      "cell_type": "code",
      "metadata": {
        "id": "RSWgIijhRaqd"
      },
      "source": [
        "## Convert PDF to a PIL Image object\n",
        "!pip install pdf2image"
      ],
      "execution_count": null,
      "outputs": []
    },
    {
      "cell_type": "code",
      "metadata": {
        "id": "6hBIxLmIRa40"
      },
      "source": [
        "# Import libraries\n",
        "from PIL import Image\n",
        "import pytesseract\n",
        "from pdf2image import convert_from_path\n",
        "import glob\n",
        "## in order to export our file to our computer drive, you need this only in Colab:\n",
        "from google.colab import files"
      ],
      "execution_count": null,
      "outputs": []
    },
    {
      "cell_type": "code",
      "metadata": {
        "id": "SPpOws82Ra8a"
      },
      "source": [
        "## import colab's file uploader\n",
        "## upload \n",
        "files.upload()"
      ],
      "execution_count": null,
      "outputs": []
    },
    {
      "cell_type": "code",
      "metadata": {
        "id": "6IfpzkLqRauS"
      },
      "source": [
        "PDF_file = \"columbus_bank_trust.pdf\""
      ],
      "execution_count": null,
      "outputs": []
    },
    {
      "cell_type": "code",
      "metadata": {
        "id": "KZ4hNNIHRanJ"
      },
      "source": [
        "## Take your PDF and convert each page to a JPEG\n",
        "\n",
        "# Store all the pages of the PDF in a variable\n",
        "pages = convert_from_path(PDF_file, 500) ## 500 dpi. balance between hi-res and computation power\n",
        "print(pages)\n",
        "print(f\"Give me a second...converting '{PDF_file}' to a JPEG\")\n",
        "\n",
        "# Counter to store images of each page of PDF to image\n",
        "image_counter = 1\n",
        "\n",
        "# Iterate through all the pages stored above\n",
        "for page in pages:\n",
        "    ## Declaring filename for each page of PDF as JPG\n",
        "    ## remove the .pdf extention (last 4 characters)\n",
        "    filename = str(PDF_file[ : -4])+\"_page_\"+str(image_counter)+\".jpg\"\n",
        "    print(f\"Here we go: {filename}\")\n",
        "    print(type(filename))\n",
        "    # Save the image of the page in system\n",
        "    page.save(filename, 'JPEG')\n",
        "    # Increment the counter to update filename\n",
        "    image_counter+=1"
      ],
      "execution_count": null,
      "outputs": []
    },
    {
      "cell_type": "code",
      "metadata": {
        "id": "bGP9SNXWRaXT"
      },
      "source": [
        "!pwd"
      ],
      "execution_count": null,
      "outputs": []
    },
    {
      "cell_type": "code",
      "metadata": {
        "id": "ODFqobmiRaE9"
      },
      "source": [
        "## path to the jpegs that were just produced\n",
        "\n",
        "img_path = \"columbus*.jpg\"\n",
        "myfiles = sorted(glob.glob(img_path))\n",
        "myfiles"
      ],
      "execution_count": null,
      "outputs": []
    },
    {
      "cell_type": "code",
      "metadata": {
        "id": "CQnuT7YYR4WI"
      },
      "source": [
        "outfile = \"columbusBank_digital_conversion.txt\""
      ],
      "execution_count": null,
      "outputs": []
    },
    {
      "cell_type": "code",
      "metadata": {
        "id": "N8YYpQvCR4c6"
      },
      "source": [
        "## Open each Jpeg, OCR and append text to output file\n",
        "\n",
        "with open(outfile, \"a\") as my_conversion_file:\n",
        "  ## grab all jpegs\n",
        "  img_files = sorted(glob.glob(img_path))\n",
        "  # print(img_files)\n",
        "  counter = 0\n",
        "  for img_file in img_files:\n",
        "    counter+=1\n",
        "    print(f\"Converting image {counter} of {len(img_files)} to text\")\n",
        "    text = f\"\\n\\n\\nFILE_Info: {img_file} \\n\\n\\n + {str(pytesseract.image_to_string(Image.open(img_file)))}\" \n",
        "\n",
        "  ## In many PDFs, at line ending, if a word can't\n",
        "    ## be written fully, a 'hyphen' is added.\n",
        "    ## To remove this, we replace every '-\\n' to ''.\n",
        "    text = text.replace('-\\n', '')\n",
        "\n",
        "    my_conversion_file.write(text)\n",
        "\n",
        "print(f\"Your converted PDFs are waiting in {outfile}!\")"
      ],
      "execution_count": null,
      "outputs": []
    },
    {
      "cell_type": "markdown",
      "metadata": {
        "id": "3C_0TQG2y7wp"
      },
      "source": [
        "# OCRing languages other than English.\n",
        "\n",
        "English is the default language for Tesseract. \n",
        "\n",
        "The installation process is confusing and cumbersome. I have have tried to make it as clear as possible here in *Colab*. \n",
        "\n",
        "Installation in Jupyter Notebooks is a little different and so is installation for a virtual environment.\n",
        "\n",
        "[More here](https://askubuntu.com/questions/793634/how-do-i-install-a-new-language-pack-for-tesseract-on-16-04\n",
        ").\n",
        "\n"
      ]
    },
    {
      "cell_type": "markdown",
      "metadata": {
        "id": "ydLoy20zH70Y"
      },
      "source": [
        "# Installations"
      ]
    },
    {
      "cell_type": "code",
      "metadata": {
        "id": "P-9brS_xF6NM"
      },
      "source": [
        "## We need Tesseract-ocr, an optical character recognition engine (not part of standard library)\n",
        "## But we use apt install because it is hosted on a Ubuntu repositories which are hosted by Canonical.\n",
        "\n",
        "!apt install tesseract-ocr"
      ],
      "execution_count": null,
      "outputs": []
    },
    {
      "cell_type": "code",
      "metadata": {
        "id": "MNBWl-3r1b-E"
      },
      "source": [
        "## We need pytesserct (not part of standard library) to wrap around Google's tesseract-ocr\n",
        "## pip install for packages on PyPi, hosted by the Python Software Foundation. \n",
        "\n",
        "!pip install pytesseract"
      ],
      "execution_count": null,
      "outputs": []
    },
    {
      "cell_type": "code",
      "metadata": {
        "id": "smRy5RNIg2wO"
      },
      "source": [
        "## install tesseract which controls all the language libraries\n",
        "!pip install tesseract"
      ],
      "execution_count": null,
      "outputs": []
    },
    {
      "cell_type": "markdown",
      "metadata": {
        "id": "gn-18l0dKTp_"
      },
      "source": [
        "Convert PDF to a PIL Image object"
      ]
    },
    {
      "cell_type": "code",
      "metadata": {
        "id": "dQhs9Qh71oFX"
      },
      "source": [
        "!pip install pdf2image"
      ],
      "execution_count": null,
      "outputs": []
    },
    {
      "cell_type": "code",
      "metadata": {
        "id": "oULX4GnICaqf"
      },
      "source": [
        "## Poppler enables you to convert .pdf files to .txt\n",
        "## but not part of standard library\n",
        "\n",
        "!apt-get install poppler-utils \n"
      ],
      "execution_count": null,
      "outputs": []
    },
    {
      "cell_type": "code",
      "metadata": {
        "id": "W63bcKr61bDB"
      },
      "source": [
        "# Import libraries\n",
        "from PIL import Image\n",
        "import pytesseract\n",
        "# import sys\n",
        "from pdf2image import convert_from_path\n",
        "import os\n",
        "import glob\n",
        "## in order to export our file to our computer drive, you need this only in Colab:\n",
        "from google.colab import files"
      ],
      "execution_count": null,
      "outputs": []
    },
    {
      "cell_type": "code",
      "metadata": {
        "id": "zd0Q4NpxhRpW"
      },
      "source": [
        "## What languages do we have installed so far?\n",
        "!tesseract --list-langs"
      ],
      "execution_count": null,
      "outputs": []
    },
    {
      "cell_type": "markdown",
      "metadata": {
        "id": "j7AuTKRwIJJp"
      },
      "source": [
        "# Let's try Spanish"
      ]
    },
    {
      "cell_type": "code",
      "metadata": {
        "id": "0Q5Ep7qyyAgA"
      },
      "source": [
        "## Get OCR for Spanish\n",
        "!apt-get install tesseract-ocr-spa"
      ],
      "execution_count": null,
      "outputs": []
    },
    {
      "cell_type": "code",
      "metadata": {
        "id": "IwSQ7r3HIUm3"
      },
      "source": [
        "## What languages do we have installed now?\n",
        "!tesseract --list-langs"
      ],
      "execution_count": null,
      "outputs": []
    },
    {
      "cell_type": "markdown",
      "metadata": {
        "id": "ZlxYbOqexlGk"
      },
      "source": [
        "The Image module provides a class with the same name which is used to represent a PIL image. The module also provides a number of factory functions, including functions to load images from files, and to create new images. (credit: Image Module)"
      ]
    },
    {
      "cell_type": "code",
      "metadata": {
        "id": "YU9ReieT1tBC"
      },
      "source": [
        "## import colab's file uploader\n",
        "## upload \n",
        "files.upload()\n"
      ],
      "execution_count": null,
      "outputs": []
    },
    {
      "cell_type": "code",
      "metadata": {
        "id": "dhzTEa7029Lp"
      },
      "source": [
        "PDF_file = \"spanish.pdf\"\n"
      ],
      "execution_count": null,
      "outputs": []
    },
    {
      "cell_type": "code",
      "metadata": {
        "id": "L7daC3kn3a3r"
      },
      "source": [
        "## Take your PDF and convert each page to a JPEG\n",
        "\n",
        "# Store all the pages of the PDF in a variable\n",
        "pages = convert_from_path(PDF_file, 500) ## 500 dpi. balance between hi-res and computation power\n",
        "print(pages)\n",
        "print(f\"Give me a second...converting '{PDF_file}' to a JPEG\")\n",
        "\n",
        "# Counter to store images of each page of PDF to image\n",
        "image_counter = 1\n",
        "\n",
        "# Iterate through all the pages stored above\n",
        "for page in pages:\n",
        "    ## Declaring filename for each page of PDF as JPG\n",
        "    ## remove the .pdf extention (last 4 characters)\n",
        "    filename = str(PDF_file[ : -4])+\"_page_\"+str(image_counter)+\".jpg\"\n",
        "    print(f\"Here we go: {filename}\")\n",
        "\n",
        "    # Save the image of the page in system\n",
        "    page.save(filename, 'JPEG')\n",
        "\n",
        "    # Increment the counter to update filename\n",
        "    image_counter+=1"
      ],
      "execution_count": null,
      "outputs": []
    },
    {
      "cell_type": "code",
      "metadata": {
        "id": "0fn-Fqv24BLK"
      },
      "source": [
        "## path to the jpegs that were just produced\n",
        "img_path = \"spanish*.jpg\"\n",
        "myfiles = sorted(glob.glob(img_path))\n",
        "myfiles"
      ],
      "execution_count": null,
      "outputs": []
    },
    {
      "cell_type": "code",
      "metadata": {
        "id": "8ArXPRPiEuMf"
      },
      "source": [
        "## The text pulled from the jpegs will be appended to this file\n",
        "outfile = \"spanish_TEXT.txt\""
      ],
      "execution_count": null,
      "outputs": []
    },
    {
      "cell_type": "code",
      "metadata": {
        "id": "lc4cdrPWFBtq"
      },
      "source": [
        "## Open each Jpeg, OCR and append text to output file\n",
        "\n",
        "##REMEMBER TO CHANGE THE LANGUAGE\n",
        "\n",
        "with open(outfile, \"a\") as my_convertion_file:\n",
        "    ## grab all jpegs\n",
        "    img_files = sorted(glob.glob(img_path))\n",
        "    counter = 0\n",
        "    for img_file in img_files:\n",
        "        counter+=1\n",
        "        print(f\"Converting image {counter} of {len(img_files)} to text!\")\n",
        "        # text = f\"\\n\\n\\nFILE_Info: {img_file} \\n\\n\\n + {str(pytesseract.image_to_string(Image.open(img_file)))}\" \n",
        "        \n",
        "        # ###UNCHECK for Arabic\n",
        "        text = f\"\\n\\n\\nFILE_Info: {img_file} \\n\\n\\n + {str(pytesseract.image_to_string(Image.open(img_file), lang='spa'))}\"\n",
        "        print(text)\n",
        "\n",
        "        ## In many PDFs, at line ending, if a word can't\n",
        "        ## be written fully, a 'hyphen' is added.\n",
        "        ## To remove this, we replace every '-\\n' to ''.\n",
        "        text = text.replace('-\\n', '')\n",
        "        # print(f\"Here's the text: \\n {text}\")\n",
        "\n",
        "        my_convertion_file.write(text) ## write to my output file"
      ],
      "execution_count": null,
      "outputs": []
    },
    {
      "cell_type": "markdown",
      "metadata": {
        "id": "o5B2lEsNGVw1"
      },
      "source": [
        "# Let's try Chinese"
      ]
    },
    {
      "cell_type": "code",
      "metadata": {
        "id": "IfNuFo0sGmII"
      },
      "source": [
        "## What languages do we have installed so far?\n",
        "!tesseract --list-langs"
      ],
      "execution_count": null,
      "outputs": []
    },
    {
      "cell_type": "code",
      "metadata": {
        "id": "BEw1zWcJywU3"
      },
      "source": [
        "!apt-get install tesseract-ocr-chi-tra"
      ],
      "execution_count": null,
      "outputs": []
    },
    {
      "cell_type": "code",
      "metadata": {
        "id": "6W-yeVn-GrOZ"
      },
      "source": [
        "## import colab's file uploader\n",
        "## upload \n",
        "files.upload()"
      ],
      "execution_count": null,
      "outputs": []
    },
    {
      "cell_type": "code",
      "metadata": {
        "id": "Ti2e6BQYGxOz"
      },
      "source": [
        "PDF_file = \"chinese.pdf\""
      ],
      "execution_count": null,
      "outputs": []
    },
    {
      "cell_type": "code",
      "metadata": {
        "id": "E-teWUuuGxV5"
      },
      "source": [
        "## Take your PDF and convert each page to a JPEG\n",
        "\n",
        "# Store all the pages of the PDF in a variable\n",
        "pages = convert_from_path(PDF_file, 500) ## 500 dpi. balance between hi-res and computation power\n",
        "print(pages)\n",
        "print(f\"Give me a second...converting '{PDF_file}' to a JPEG\")\n",
        "\n",
        "# Counter to store images of each page of PDF to image\n",
        "image_counter = 1\n",
        "\n",
        "# Iterate through all the pages stored above\n",
        "for page in pages:\n",
        "    ## Declaring filename for each page of PDF as JPG\n",
        "    ## remove the .pdf extention (last 4 characters)\n",
        "    filename = str(PDF_file[ : -4])+\"_page_\"+str(image_counter)+\".jpg\"\n",
        "    print(f\"Here we go: {filename}\")\n",
        "\n",
        "    # Save the image of the page in system\n",
        "    page.save(filename, 'JPEG')\n",
        "\n",
        "    # Increment the counter to update filename\n",
        "    image_counter+=1"
      ],
      "execution_count": null,
      "outputs": []
    },
    {
      "cell_type": "code",
      "metadata": {
        "id": "AKD9QQsoGxET"
      },
      "source": [
        "## path to the jpegs that were just produced\n",
        "img_path = \"chinese*.jpg\"\n",
        "myfiles = sorted(glob.glob(img_path))\n",
        "myfiles"
      ],
      "execution_count": null,
      "outputs": []
    },
    {
      "cell_type": "code",
      "metadata": {
        "id": "nn4sbWXiHBYo"
      },
      "source": [
        "## The text pulled from the jpegs will be appended to this file\n",
        "outfile = \"chinese_TEXT.txt\""
      ],
      "execution_count": null,
      "outputs": []
    },
    {
      "cell_type": "code",
      "metadata": {
        "id": "r6SFdx59HBfm"
      },
      "source": [
        "## Open each Jpeg, OCR and append text to output file\n",
        "\n",
        "with open(outfile, \"a\") as my_convertion_file:\n",
        "    ## grab all jpegs\n",
        "    img_files = sorted(glob.glob(img_path))\n",
        "    counter = 0\n",
        "    for img_file in img_files:\n",
        "        counter+=1\n",
        "        print(f\"Converting image {counter} of {len(img_files)} to text!\")\n",
        "        # text = f\"\\n\\n\\nFILE_Info: {img_file} \\n\\n\\n + {str(pytesseract.image_to_string(Image.open(img_file)))}\" \n",
        "        \n",
        "        # ###UNCHECK for Arabic\n",
        "        text = f\"\\n\\n\\nFILE_Info: {img_file} \\n\\n\\n  {str(pytesseract.image_to_string(Image.open(img_file), lang='chi_tra'))}\"\n",
        "        print(text)\n",
        "\n",
        "        ## In many PDFs, at line ending, if a word can't\n",
        "        ## be written fully, a 'hyphen' is added.\n",
        "        ## To remove this, we replace every '-\\n' to ''.\n",
        "        text = text.replace('-\\n', '')\n",
        "        # print(f\"Here's the text: \\n {text}\")\n",
        "\n",
        "        my_convertion_file.write(text) ## write to my output file"
      ],
      "execution_count": null,
      "outputs": []
    },
    {
      "cell_type": "markdown",
      "metadata": {
        "id": "CXyPVjaXIhYn"
      },
      "source": [
        "# Let's try Japanese\n"
      ]
    },
    {
      "cell_type": "code",
      "metadata": {
        "id": "tgrVppWwx4_e"
      },
      "source": [
        "## get Japanese OCR\n",
        "!apt-get install tesseract-ocr-jpn"
      ],
      "execution_count": null,
      "outputs": []
    },
    {
      "cell_type": "code",
      "metadata": {
        "id": "nJr2CzupK-i1"
      },
      "source": [
        "## What languages do we have installed so far?\n",
        "!tesseract --list-langs"
      ],
      "execution_count": null,
      "outputs": []
    },
    {
      "cell_type": "code",
      "metadata": {
        "id": "8xiG6GSB5460"
      },
      "source": [
        "## import colab's file uploader\n",
        "## upload \n",
        "files.upload()"
      ],
      "execution_count": null,
      "outputs": []
    },
    {
      "cell_type": "code",
      "metadata": {
        "id": "L4MwvPgjy91v"
      },
      "source": [
        "PDF_file = \"japanese.pdf\"\n"
      ],
      "execution_count": null,
      "outputs": []
    },
    {
      "cell_type": "code",
      "metadata": {
        "id": "ak1lnjZ6zg0d"
      },
      "source": [
        "## Take your PDF and convert each page to a JPEG\n",
        "\n",
        "# Store all the pages of the PDF in a variable\n",
        "pages = convert_from_path(PDF_file, 500) ## 1000 dpi. balance between hi-res and computation power\n",
        "print(pages)\n",
        "print(f\"Give me a second...converting '{PDF_file}' to a JPEG\")\n",
        "\n",
        "# Counter to store images of each page of PDF to image\n",
        "image_counter = 1\n",
        "\n",
        "# Iterate through all the pages stored above\n",
        "for page in pages:\n",
        "    ## Declaring filename for each page of PDF as JPG\n",
        "    ## remove the .pdf extention (last 4 characters)\n",
        "    filename = str(PDF_file[ : -4])+\"_page_\"+str(image_counter)+\".jpg\"\n",
        "    print(f\"Here we go: {filename}\")\n",
        "\n",
        "    # Save the image of the page in system\n",
        "    page.save(filename, 'JPEG')\n",
        "\n",
        "    # Increment the counter to update filename\n",
        "    image_counter+=1"
      ],
      "execution_count": null,
      "outputs": []
    },
    {
      "cell_type": "code",
      "metadata": {
        "id": "emNceO3Ozt6W"
      },
      "source": [
        "## path to the jpegs that were just produced\n",
        "img_path = \"japanese*.jpg\"\n",
        "myfiles = sorted(glob.glob(img_path))\n",
        "myfiles"
      ],
      "execution_count": null,
      "outputs": []
    },
    {
      "cell_type": "code",
      "metadata": {
        "id": "If1AAy5yzxHQ"
      },
      "source": [
        "## The text pulled from the jpegs will be appended to this file\n",
        "outfile = \"japanese_TEXT.txt\""
      ],
      "execution_count": null,
      "outputs": []
    },
    {
      "cell_type": "code",
      "metadata": {
        "id": "LTfiIdDC0DPj"
      },
      "source": [
        "## Open each Jpeg, OCR and append text to output file\n",
        "\n",
        "with open(outfile, \"a\") as my_convertion_file:\n",
        "    ## grab all jpegs\n",
        "    img_files = sorted(glob.glob(img_path))\n",
        "    counter = 0\n",
        "    for img_file in img_files:\n",
        "        counter+=1\n",
        "        print(f\"Converting image {counter} of {len(img_files)} to text!\")\n",
        "        # text = f\"\\n\\n\\nFILE_Info: {img_file} \\n\\n\\n + {str(pytesseract.image_to_string(Image.open(img_file)))}\" \n",
        "        \n",
        "        # ###UNCHECK for Arabic\n",
        "        text = f\"\\n\\n\\nFILE_Info: {img_file} \\n\\n\\n  {str(pytesseract.image_to_string(Image.open(img_file), lang='jpn'))}\"\n",
        "        print(text)\n",
        "\n",
        "        ## In many PDFs, at line ending, if a word can't\n",
        "        ## be written fully, a 'hyphen' is added.\n",
        "        ## To remove this, we replace every '-\\n' to ''.\n",
        "        text = text.replace('-\\n', '')\n",
        "        # print(f\"Here's the text: \\n {text}\")\n",
        "\n",
        "        my_convertion_file.write(text) ## write to my output file"
      ],
      "execution_count": null,
      "outputs": []
    }
  ]
}