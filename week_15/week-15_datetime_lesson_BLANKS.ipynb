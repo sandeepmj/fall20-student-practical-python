{
 "cells": [
  {
   "cell_type": "code",
   "execution_count": null,
   "metadata": {
    "id": "Cbgdl9pceVGJ"
   },
   "outputs": [],
   "source": [
    "## import libaries\n",
    "import pandas as pd\n",
    "from datetime import datetime \n",
    "import numpy as np\n"
   ]
  },
  {
   "cell_type": "code",
   "execution_count": null,
   "metadata": {
    "id": "tSIIBkzQe3Cy"
   },
   "outputs": [],
   "source": [
    "# create daily timerange from Jan. 1 2019 to Dec. 31, 2019\n",
    "my_dates = pd.date_range(start='1/1/2019', end='12/31/2019', freq='D')\n",
    "my_dates"
   ]
  },
  {
   "cell_type": "code",
   "execution_count": null,
   "metadata": {
    "id": "-LDTdxQefQxO"
   },
   "outputs": [],
   "source": [
    "type(my_dates)"
   ]
  },
  {
   "cell_type": "code",
   "execution_count": null,
   "metadata": {
    "id": "0MCSJZH0fm5e"
   },
   "outputs": [],
   "source": [
    "## create series CALLED some_dates with that datetime index \n"
   ]
  },
  {
   "cell_type": "code",
   "execution_count": null,
   "metadata": {
    "id": "-aJpT1wFgu4q"
   },
   "outputs": [],
   "source": [
    "## return 30th day of each month\n"
   ]
  },
  {
   "cell_type": "code",
   "execution_count": null,
   "metadata": {
    "id": "nCXXS7k4gvHR"
   },
   "outputs": [],
   "source": [
    "## select only fridays\n"
   ]
  },
  {
   "cell_type": "code",
   "execution_count": null,
   "metadata": {
    "id": "scHYnPIwgvUp"
   },
   "outputs": [],
   "source": [
    "## start of quarter\n",
    "\n"
   ]
  },
  {
   "cell_type": "code",
   "execution_count": null,
   "metadata": {
    "id": "eEcNBcoQgvaz"
   },
   "outputs": [],
   "source": [
    "## end of quarter\n",
    "\n"
   ]
  },
  {
   "cell_type": "code",
   "execution_count": null,
   "metadata": {
    "id": "qwngklFygvXo"
   },
   "outputs": [],
   "source": [
    "## Let's add some data to our series and turn it into a dataframe"
   ]
  },
  {
   "cell_type": "code",
   "execution_count": null,
   "metadata": {
    "id": "H0G6jNVGgvKo"
   },
   "outputs": [],
   "source": [
    "## step 1. turn into a dataframe  \n"
   ]
  },
  {
   "cell_type": "code",
   "execution_count": null,
   "metadata": {
    "id": "Ce3KVNzw_5Pf"
   },
   "outputs": [],
   "source": [
    "df"
   ]
  },
  {
   "cell_type": "code",
   "execution_count": null,
   "metadata": {
    "id": "27RyYOumloSG"
   },
   "outputs": [],
   "source": [
    "##Step 2. create random data for those\n",
    "\n",
    "df['#_widgets'] = np.random.randint(0,100,size=(len(my_dates))) "
   ]
  },
  {
   "cell_type": "code",
   "execution_count": null,
   "metadata": {
    "id": "HPbB8pxbgu8m"
   },
   "outputs": [],
   "source": [
    "df.head()"
   ]
  },
  {
   "cell_type": "code",
   "execution_count": null,
   "metadata": {
    "id": "ZGsJSRfZguzj"
   },
   "outputs": [],
   "source": [
    "## create a day of week by calling .day_name()\n"
   ]
  },
  {
   "cell_type": "code",
   "execution_count": null,
   "metadata": {},
   "outputs": [],
   "source": [
    "df.info()"
   ]
  },
  {
   "cell_type": "code",
   "execution_count": null,
   "metadata": {
    "id": "78cI6paRmqNw"
   },
   "outputs": [],
   "source": [
    "df"
   ]
  },
  {
   "cell_type": "code",
   "execution_count": null,
   "metadata": {
    "id": "pxbogsyQmq77"
   },
   "outputs": [],
   "source": [
    "## find all dates with widget sales greater than 95 units\n"
   ]
  },
  {
   "cell_type": "code",
   "execution_count": null,
   "metadata": {
    "id": "amit5Sw0ntc4"
   },
   "outputs": [],
   "source": [
    "type(over_95)"
   ]
  },
  {
   "cell_type": "code",
   "execution_count": null,
   "metadata": {
    "id": "ZrCmfyZtn5wZ"
   },
   "outputs": [],
   "source": [
    "## ONLY RUN THIS IF NEED TO SET INDEX TO DATE\n",
    "## make \"date\" column the index\n",
    "df.set_index(\"date\", inplace = True)\n",
    "df"
   ]
  },
  {
   "cell_type": "code",
   "execution_count": null,
   "metadata": {
    "id": "x9f6q93fpBxa"
   },
   "outputs": [],
   "source": [
    "## only once date has been turned into an index\n",
    "## total number widgets per month\n",
    "\n"
   ]
  },
  {
   "cell_type": "code",
   "execution_count": null,
   "metadata": {
    "id": "7fbfTJyepQdD"
   },
   "outputs": [],
   "source": [
    "## only once date has been turned into an index\n",
    "## total per quarter\n",
    "\n"
   ]
  },
  {
   "cell_type": "code",
   "execution_count": null,
   "metadata": {
    "id": "alGkCcmAqTiq"
   },
   "outputs": [],
   "source": [
    "df.info()"
   ]
  },
  {
   "cell_type": "code",
   "execution_count": null,
   "metadata": {
    "id": "WpkrZFFUp2t7"
   },
   "outputs": [],
   "source": [
    "## the index date is accessed as a datetime object and we pull out the month name\n"
   ]
  },
  {
   "cell_type": "markdown",
   "metadata": {},
   "source": [
    "## Time Zones\n",
    "Universal Time Coordinated / Universal Coordinated Time\n",
    "\n",
    "tz database\n",
    "https://en.wikipedia.org/wiki/Tz_database\n",
    "\n",
    "List of tz database time zones\n",
    "https://en.wikipedia.org/wiki/List_of_tz_database_time_zones"
   ]
  },
  {
   "cell_type": "code",
   "execution_count": null,
   "metadata": {},
   "outputs": [],
   "source": [
    "pip install pytz"
   ]
  },
  {
   "cell_type": "code",
   "execution_count": null,
   "metadata": {},
   "outputs": [],
   "source": [
    "from pytz import all_timezones as atz\n",
    "from pytz import common_timezones as ctz"
   ]
  },
  {
   "cell_type": "code",
   "execution_count": null,
   "metadata": {},
   "outputs": [],
   "source": [
    "len(atz)"
   ]
  },
  {
   "cell_type": "code",
   "execution_count": null,
   "metadata": {},
   "outputs": [],
   "source": [
    "len(ctz)"
   ]
  },
  {
   "cell_type": "code",
   "execution_count": null,
   "metadata": {},
   "outputs": [],
   "source": [
    "atz"
   ]
  },
  {
   "cell_type": "code",
   "execution_count": null,
   "metadata": {},
   "outputs": [],
   "source": [
    "### check if a city is on the list\n",
    "## beware: cities with multiple words require underscore\n",
    "[my_city for my_city in atz if my_city.endswith('New_York')]"
   ]
  },
  {
   "cell_type": "code",
   "execution_count": null,
   "metadata": {},
   "outputs": [],
   "source": [
    "ctz"
   ]
  },
  {
   "cell_type": "code",
   "execution_count": null,
   "metadata": {},
   "outputs": [],
   "source": [
    "### check if a city is on the list\n",
    "## beware: cities with multiple words require underscore\n"
   ]
  },
  {
   "cell_type": "code",
   "execution_count": null,
   "metadata": {},
   "outputs": [],
   "source": [
    "## create a timestamp (time right now) for NYC\n",
    "ny_time = pd.Timestamp(\"2020-10-6 9:30pm\").tz_localize('America/New_York')\n",
    "ny_time"
   ]
  },
  {
   "cell_type": "code",
   "execution_count": null,
   "metadata": {},
   "outputs": [],
   "source": [
    "## create a timestamp (time right now) for LA\n",
    "la_time = ny_time.tz_convert('America/Los_Angeles')\n",
    "la_time"
   ]
  },
  {
   "cell_type": "markdown",
   "metadata": {},
   "source": [
    "## Create a time in Shanghai time and convert it to Tokyo time"
   ]
  },
  {
   "cell_type": "code",
   "execution_count": null,
   "metadata": {},
   "outputs": [],
   "source": [
    "## create a timestamp (time right now) for Shanghai called shanghai_time\n"
   ]
  },
  {
   "cell_type": "code",
   "execution_count": null,
   "metadata": {},
   "outputs": [],
   "source": [
    "## convert Shanghai time to Tokyo time and call it tokyo_time\n"
   ]
  },
  {
   "cell_type": "markdown",
   "metadata": {},
   "source": [
    "# Time Deltas"
   ]
  },
  {
   "cell_type": "code",
   "execution_count": null,
   "metadata": {
    "id": "bcVn6GBxq0Qn"
   },
   "outputs": [],
   "source": [
    "start = pd.to_datetime(\"2020-10-4 5:00 pm\")"
   ]
  },
  {
   "cell_type": "code",
   "execution_count": null,
   "metadata": {},
   "outputs": [],
   "source": [
    "end = pd.to_datetime(\"2020-10-6 4:00 pm\")"
   ]
  },
  {
   "cell_type": "code",
   "execution_count": null,
   "metadata": {},
   "outputs": [],
   "source": [
    "start"
   ]
  },
  {
   "cell_type": "code",
   "execution_count": null,
   "metadata": {},
   "outputs": [],
   "source": [
    "end"
   ]
  },
  {
   "cell_type": "code",
   "execution_count": null,
   "metadata": {},
   "outputs": [],
   "source": [
    "## difference between start and end time"
   ]
  },
  {
   "cell_type": "code",
   "execution_count": null,
   "metadata": {},
   "outputs": [],
   "source": [
    "## create a list of of flight times\n",
    "flight = [['2020-6-24 5:30am', '2020-6-24 10:47am' ],\n",
    "          ['2020-6-24 7:45am', '2020-6-24 2:27pm'],\n",
    "          ['2020-6-24 8:35am', \"2020-6-25 11:52pm\" ]]"
   ]
  },
  {
   "cell_type": "code",
   "execution_count": null,
   "metadata": {},
   "outputs": [],
   "source": [
    "## convert flight times to dataframe\n",
    "df = pd.DataFrame(flight, columns = ['Departure', 'Arrival'])\n",
    "df"
   ]
  },
  {
   "cell_type": "code",
   "execution_count": null,
   "metadata": {},
   "outputs": [],
   "source": [
    "df.info()"
   ]
  },
  {
   "cell_type": "code",
   "execution_count": null,
   "metadata": {},
   "outputs": [],
   "source": [
    "## convert times to datetime objects\n"
   ]
  },
  {
   "cell_type": "code",
   "execution_count": null,
   "metadata": {},
   "outputs": [],
   "source": [
    "df.info()"
   ]
  },
  {
   "cell_type": "code",
   "execution_count": null,
   "metadata": {},
   "outputs": [],
   "source": [
    "## how long were the flights"
   ]
  },
  {
   "cell_type": "code",
   "execution_count": null,
   "metadata": {},
   "outputs": [],
   "source": []
  }
 ],
 "metadata": {
  "colab": {
   "name": "week-12 datetime lesson inclass.ipynb",
   "provenance": []
  },
  "kernelspec": {
   "display_name": "Python 3",
   "language": "python",
   "name": "python3"
  },
  "language_info": {
   "codemirror_mode": {
    "name": "ipython",
    "version": 3
   },
   "file_extension": ".py",
   "mimetype": "text/x-python",
   "name": "python",
   "nbconvert_exporter": "python",
   "pygments_lexer": "ipython3",
   "version": "3.8.3"
  }
 },
 "nbformat": 4,
 "nbformat_minor": 1
}
