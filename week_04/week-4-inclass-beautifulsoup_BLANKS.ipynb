{
 "cells": [
  {
   "cell_type": "markdown",
   "metadata": {
    "slideshow": {
     "slide_type": "slide"
    }
   },
   "source": [
    "# Scraping with BeautifulSoup"
   ]
  },
  {
   "cell_type": "code",
   "execution_count": 1,
   "metadata": {},
   "outputs": [
    {
     "name": "stdout",
     "output_type": "stream",
     "text": [
      "\n",
      "<html><head><title>The title is Demo for BeautifulSoup</title></head>\n",
      "<body>\n",
      "<h1 class=\"title\"><b>The title headline is Demo for BeautifulSoup</b></p>\n",
      "\n",
      "<section class=\"main\" id=\"all_plants\">\n",
      "\n",
      "<p class=\"article\">There are three things to keep in mind:\n",
      "<a href=\"http://example.com/plant1\" class=\"plants life\" id=\"plant1\">Plant 1</a>: <span class=\"cost\">$10</span>,\n",
      "<a href=\"http://example.com/plant2\" class=\"plants life\" id=\"plant2\">Plant 2</a>: <span class=\"cost\">$20</span> and\n",
      "<a href=\"http://example.com/plant3\" class=\"plants life\" id=\"plant3\">Plant 3</a> <span class=\"cost\">$30</span>;\n",
      "</p>\n",
      "<strong>Don't forget to water these 3 plants.</strong>\n",
      "\n",
      "\n",
      "</section>\n",
      "\n",
      "<section class=\"main\" id=\"all_animals\">\n",
      "<p class=\"article\"> There are three animals in the barn:\n",
      "<a href=\"http://example.com/animal1\" class=\"animals life\" id=\"animal1\">Animal 1</a>: <span class=\"cost\">$500</span>,\n",
      "<a href=\"http://example.com/animal2\" class=\"animals life\" id=\"animal2\">Animal 2</a>: <span class=\"cost\">$600</span> and\n",
      "<a href=\"http://example.com/animal3\" class=\"animals life\" id=\"animal3\">Animal 3</a>: <span class=\"cost\">$700</span>;\n",
      "</p>\n",
      "<strong>Don't forget these feed these 3 animals.</strong>\n",
      "</section>\n",
      "\n",
      "\n",
      "<section>\n",
      "<p><span>Inanimate object 1</span></p>\n",
      "<p><span>Inanimate object 2</span></p>\n",
      "<p><span>Inanimate object 3</span></p>\n",
      "</section>\n",
      "\n"
     ]
    }
   ],
   "source": [
    "html_doc = \"\"\"\n",
    "<html><head><title>The title is Demo for BeautifulSoup</title></head>\n",
    "<body>\n",
    "<h1 class=\"title\"><b>The title headline is Demo for BeautifulSoup</b></p>\n",
    "\n",
    "<section class=\"main\" id=\"all_plants\">\n",
    "\n",
    "<p class=\"article\">There are three things to keep in mind:\n",
    "<a href=\"http://example.com/plant1\" class=\"plants life\" id=\"plant1\">Plant 1</a>: <span class=\"cost\">$10</span>,\n",
    "<a href=\"http://example.com/plant2\" class=\"plants life\" id=\"plant2\">Plant 2</a>: <span class=\"cost\">$20</span> and\n",
    "<a href=\"http://example.com/plant3\" class=\"plants life\" id=\"plant3\">Plant 3</a> <span class=\"cost\">$30</span>;\n",
    "</p>\n",
    "<strong>Don't forget to water these 3 plants.</strong>\n",
    "\n",
    "\n",
    "</section>\n",
    "\n",
    "<section class=\"main\" id=\"all_animals\">\n",
    "<p class=\"article\"> There are three animals in the barn:\n",
    "<a href=\"http://example.com/animal1\" class=\"animals life\" id=\"animal1\">Animal 1</a>: <span class=\"cost\">$500</span>,\n",
    "<a href=\"http://example.com/animal2\" class=\"animals life\" id=\"animal2\">Animal 2</a>: <span class=\"cost\">$600</span> and\n",
    "<a href=\"http://example.com/animal3\" class=\"animals life\" id=\"animal3\">Animal 3</a>: <span class=\"cost\">$700</span>;\n",
    "</p>\n",
    "<strong>Don't forget these feed these 3 animals.</strong>\n",
    "</section>\n",
    "\n",
    "\n",
    "<section>\n",
    "<p><span>Inanimate object 1</span></p>\n",
    "<p><span>Inanimate object 2</span></p>\n",
    "<p><span>Inanimate object 3</span></p>\n",
    "</section>\n",
    "\"\"\"\n",
    "\n",
    "print(html_doc)"
   ]
  },
  {
   "cell_type": "code",
   "execution_count": 2,
   "metadata": {},
   "outputs": [],
   "source": [
    "## import library\n",
    "from bs4 import BeautifulSoup"
   ]
  },
  {
   "cell_type": "code",
   "execution_count": 3,
   "metadata": {},
   "outputs": [
    {
     "name": "stdout",
     "output_type": "stream",
     "text": [
      "Collecting bs4\n",
      "  Using cached bs4-0.0.1.tar.gz (1.1 kB)\n",
      "Requirement already satisfied: beautifulsoup4 in /Users/sandeep.junnarkar/opt/anaconda3/lib/python3.8/site-packages (from bs4) (4.9.1)\n",
      "Requirement already satisfied: soupsieve>1.2 in /Users/sandeep.junnarkar/opt/anaconda3/lib/python3.8/site-packages (from beautifulsoup4->bs4) (2.0.1)\n",
      "Building wheels for collected packages: bs4\n",
      "  Building wheel for bs4 (setup.py) ... \u001b[?25ldone\n",
      "\u001b[?25h  Created wheel for bs4: filename=bs4-0.0.1-py3-none-any.whl size=1272 sha256=3462a030731c910ada8fe6679ebed3a805a75df5a4ec9a69be9354cb1e31bd6f\n",
      "  Stored in directory: /Users/sandeep.junnarkar/Library/Caches/pip/wheels/75/78/21/68b124549c9bdc94f822c02fb9aa3578a669843f9767776bca\n",
      "Successfully built bs4\n",
      "Installing collected packages: bs4\n",
      "Successfully installed bs4-0.0.1\n",
      "Note: you may need to restart the kernel to use updated packages.\n"
     ]
    }
   ],
   "source": [
    "pip install bs4"
   ]
  },
  {
   "cell_type": "markdown",
   "metadata": {},
   "source": [
    "## Create a BeautifulSoup object\n",
    "<img src=\"../support_files/bs-soup.png\">"
   ]
  },
  {
   "cell_type": "code",
   "execution_count": 4,
   "metadata": {},
   "outputs": [],
   "source": [
    "## we add name of our file\n",
    "soup = BeautifulSoup(html_doc, \"html.parser\")"
   ]
  },
  {
   "cell_type": "code",
   "execution_count": 5,
   "metadata": {},
   "outputs": [
    {
     "data": {
      "text/plain": [
       "bs4.BeautifulSoup"
      ]
     },
     "execution_count": 5,
     "metadata": {},
     "output_type": "execute_result"
    }
   ],
   "source": [
    "## What type of file is it?\n",
    "type(soup)"
   ]
  },
  {
   "cell_type": "code",
   "execution_count": 7,
   "metadata": {
    "scrolled": true
   },
   "outputs": [
    {
     "name": "stdout",
     "output_type": "stream",
     "text": [
      "<html>\n",
      " <head>\n",
      "  <title>\n",
      "   The title is Demo for BeautifulSoup\n",
      "  </title>\n",
      " </head>\n",
      " <body>\n",
      "  <h1 class=\"title\">\n",
      "   <b>\n",
      "    The title headline is Demo for BeautifulSoup\n",
      "   </b>\n",
      "  </h1>\n",
      " </body>\n",
      "</html>\n",
      "<section class=\"main\" id=\"all_plants\">\n",
      " <p class=\"article\">\n",
      "  There are three things to keep in mind:\n",
      "  <a class=\"plants life\" href=\"http://example.com/plant1\" id=\"plant1\">\n",
      "   Plant 1\n",
      "  </a>\n",
      "  :\n",
      "  <span class=\"cost\">\n",
      "   $10\n",
      "  </span>\n",
      "  ,\n",
      "  <a class=\"plants life\" href=\"http://example.com/plant2\" id=\"plant2\">\n",
      "   Plant 2\n",
      "  </a>\n",
      "  :\n",
      "  <span class=\"cost\">\n",
      "   $20\n",
      "  </span>\n",
      "  and\n",
      "  <a class=\"plants life\" href=\"http://example.com/plant3\" id=\"plant3\">\n",
      "   Plant 3\n",
      "  </a>\n",
      "  <span class=\"cost\">\n",
      "   $30\n",
      "  </span>\n",
      "  ;\n",
      " </p>\n",
      " <strong>\n",
      "  Don't forget to water these 3 plants.\n",
      " </strong>\n",
      "</section>\n",
      "<section class=\"main\" id=\"all_animals\">\n",
      " <p class=\"article\">\n",
      "  There are three animals in the barn:\n",
      "  <a class=\"animals life\" href=\"http://example.com/animal1\" id=\"animal1\">\n",
      "   Animal 1\n",
      "  </a>\n",
      "  :\n",
      "  <span class=\"cost\">\n",
      "   $500\n",
      "  </span>\n",
      "  ,\n",
      "  <a class=\"animals life\" href=\"http://example.com/animal2\" id=\"animal2\">\n",
      "   Animal 2\n",
      "  </a>\n",
      "  :\n",
      "  <span class=\"cost\">\n",
      "   $600\n",
      "  </span>\n",
      "  and\n",
      "  <a class=\"animals life\" href=\"http://example.com/animal3\" id=\"animal3\">\n",
      "   Animal 3\n",
      "  </a>\n",
      "  :\n",
      "  <span class=\"cost\">\n",
      "   $700\n",
      "  </span>\n",
      "  ;\n",
      " </p>\n",
      " <strong>\n",
      "  Don't forget these feed these 3 animals.\n",
      " </strong>\n",
      "</section>\n",
      "<section>\n",
      " <p>\n",
      "  <span>\n",
      "   Inanimate object 1\n",
      "  </span>\n",
      " </p>\n",
      " <p>\n",
      "  <span>\n",
      "   Inanimate object 2\n",
      "  </span>\n",
      " </p>\n",
      " <p>\n",
      "  <span>\n",
      "   Inanimate object 3\n",
      "  </span>\n",
      " </p>\n",
      "</section>\n",
      "\n"
     ]
    }
   ],
   "source": [
    "print(soup.prettify())"
   ]
  },
  {
   "cell_type": "code",
   "execution_count": 8,
   "metadata": {},
   "outputs": [
    {
     "data": {
      "text/plain": [
       "<title>The title is Demo for BeautifulSoup</title>"
      ]
     },
     "execution_count": 8,
     "metadata": {},
     "output_type": "execute_result"
    }
   ],
   "source": [
    "## get title of page\n",
    "soup.title"
   ]
  },
  {
   "cell_type": "code",
   "execution_count": 11,
   "metadata": {},
   "outputs": [
    {
     "data": {
      "text/plain": [
       "<span class=\"cost\">$10</span>"
      ]
     },
     "execution_count": 11,
     "metadata": {},
     "output_type": "execute_result"
    }
   ],
   "source": [
    "soup.span"
   ]
  },
  {
   "cell_type": "code",
   "execution_count": 10,
   "metadata": {},
   "outputs": [
    {
     "data": {
      "text/plain": [
       "<p class=\"article\">There are three things to keep in mind:\n",
       "<a class=\"plants life\" href=\"http://example.com/plant1\" id=\"plant1\">Plant 1</a>: <span class=\"cost\">$10</span>,\n",
       "<a class=\"plants life\" href=\"http://example.com/plant2\" id=\"plant2\">Plant 2</a>: <span class=\"cost\">$20</span> and\n",
       "<a class=\"plants life\" href=\"http://example.com/plant3\" id=\"plant3\">Plant 3</a> <span class=\"cost\">$30</span>;\n",
       "</p>"
      ]
     },
     "execution_count": 10,
     "metadata": {},
     "output_type": "execute_result"
    }
   ],
   "source": [
    "soup.p"
   ]
  },
  {
   "cell_type": "code",
   "execution_count": 9,
   "metadata": {},
   "outputs": [
    {
     "data": {
      "text/plain": [
       "<h1 class=\"title\"><b>The title headline is Demo for BeautifulSoup</b></h1>"
      ]
     },
     "execution_count": 9,
     "metadata": {},
     "output_type": "execute_result"
    }
   ],
   "source": [
    "soup.h1"
   ]
  },
  {
   "cell_type": "code",
   "execution_count": 13,
   "metadata": {},
   "outputs": [
    {
     "data": {
      "text/plain": [
       "[<h1 class=\"title\"><b>The title headline is Demo for BeautifulSoup</b></h1>]"
      ]
     },
     "execution_count": 13,
     "metadata": {},
     "output_type": "execute_result"
    }
   ],
   "source": [
    "## What about the h1 tag with the class of title? \n",
    "## How can we have two titles?\n",
    "soup(\"h1\", class_=\"title\")\n"
   ]
  },
  {
   "cell_type": "markdown",
   "metadata": {},
   "source": [
    "### string v. get_text()\n",
    "\n",
    "In most cases, our final step in a scrape is to convert everything to a string. We don't want all the html. \n",
    "\n",
    "We can use ```.string``` or ```get_text().```\n",
    "\n",
    "- ```get_text()``` is far more powerful because you can add parameters to strip, specify separators, etc.\n"
   ]
  },
  {
   "cell_type": "code",
   "execution_count": 15,
   "metadata": {},
   "outputs": [
    {
     "name": "stdout",
     "output_type": "stream",
     "text": [
      "\n",
      "The title is Demo for BeautifulSoup\n",
      "\n",
      "The title headline is Demo for BeautifulSoup\n",
      "\n",
      "There are three things to keep in mind:\n",
      "Plant 1: $10,\n",
      "Plant 2: $20 and\n",
      "Plant 3 $30;\n",
      "\n",
      "Don't forget to water these 3 plants.\n",
      "\n",
      "\n",
      " There are three animals in the barn:\n",
      "Animal 1: $500,\n",
      "Animal 2: $600 and\n",
      "Animal 3: $700;\n",
      "\n",
      "Don't forget these feed these 3 animals.\n",
      "\n",
      "\n",
      "Inanimate object 1\n",
      "Inanimate object 2\n",
      "Inanimate object 3\n",
      "\n",
      "\n"
     ]
    }
   ],
   "source": [
    "## get text from soup\n",
    "print(soup.get_text())"
   ]
  },
  {
   "cell_type": "code",
   "execution_count": 16,
   "metadata": {},
   "outputs": [
    {
     "data": {
      "text/plain": [
       "\"\\nThe title is Demo for BeautifulSoup\\n\\nThe title headline is Demo for BeautifulSoup\\n\\nThere are three things to keep in mind:\\nPlant 1: $10,\\nPlant 2: $20 and\\nPlant 3 $30;\\n\\nDon't forget to water these 3 plants.\\n\\n\\n There are three animals in the barn:\\nAnimal 1: $500,\\nAnimal 2: $600 and\\nAnimal 3: $700;\\n\\nDon't forget these feed these 3 animals.\\n\\n\\nInanimate object 1\\nInanimate object 2\\nInanimate object 3\\n\\n\""
      ]
     },
     "execution_count": 16,
     "metadata": {},
     "output_type": "execute_result"
    }
   ],
   "source": [
    "soup.get_text()"
   ]
  },
  {
   "cell_type": "code",
   "execution_count": 17,
   "metadata": {},
   "outputs": [
    {
     "name": "stdout",
     "output_type": "stream",
     "text": [
      "<class 'str'>\n"
     ]
    }
   ],
   "source": [
    "## get the type\n",
    "print(type(soup.get_text()))"
   ]
  },
  {
   "cell_type": "code",
   "execution_count": 18,
   "metadata": {},
   "outputs": [],
   "source": [
    "## string will only work on individual tags, not on the entire soup object.\n",
    "##soup.string returns nothing\n",
    "soup.string"
   ]
  },
  {
   "cell_type": "code",
   "execution_count": 19,
   "metadata": {},
   "outputs": [
    {
     "name": "stdout",
     "output_type": "stream",
     "text": [
      "<class 'NoneType'>\n"
     ]
    }
   ],
   "source": [
    "## TYPE\n",
    "print(type(soup.string))"
   ]
  },
  {
   "cell_type": "code",
   "execution_count": null,
   "metadata": {},
   "outputs": [],
   "source": []
  },
  {
   "cell_type": "code",
   "execution_count": 23,
   "metadata": {},
   "outputs": [
    {
     "data": {
      "text/plain": [
       "'The title is Demo for BeautifulSoup'"
      ]
     },
     "execution_count": 23,
     "metadata": {},
     "output_type": "execute_result"
    }
   ],
   "source": [
    "## return just a string of the tag:\n",
    "soup.title.string"
   ]
  },
  {
   "cell_type": "code",
   "execution_count": 22,
   "metadata": {},
   "outputs": [
    {
     "data": {
      "text/plain": [
       "'The title is Demo for BeautifulSoup'"
      ]
     },
     "execution_count": 22,
     "metadata": {},
     "output_type": "execute_result"
    }
   ],
   "source": [
    "## get only title text and not html\n",
    "soup.title.get_text()"
   ]
  },
  {
   "cell_type": "code",
   "execution_count": 24,
   "metadata": {},
   "outputs": [
    {
     "data": {
      "text/plain": [
       "'There are three things to keep in mind:\\nPlant 1: $10,\\nPlant 2: $20 and\\nPlant 3 $30;\\n'"
      ]
     },
     "execution_count": 24,
     "metadata": {},
     "output_type": "execute_result"
    }
   ],
   "source": [
    "## get all p tag text\n",
    "soup.p.get_text()"
   ]
  },
  {
   "cell_type": "code",
   "execution_count": 25,
   "metadata": {},
   "outputs": [
    {
     "data": {
      "text/plain": [
       "'There are three things to keep in mind:Plant 1:$10,Plant 2:$20andPlant 3$30;'"
      ]
     },
     "execution_count": 25,
     "metadata": {},
     "output_type": "execute_result"
    }
   ],
   "source": [
    "## get rid of weird characters\n",
    "soup.p.get_text(strip=True)"
   ]
  },
  {
   "cell_type": "markdown",
   "metadata": {},
   "source": [
    "## Finding ```class```\n",
    "\n",
    "### There are three ways ranging from simplicity to precision.\n",
    "\n",
    "```find()``` returns the first occurence of any item you are searching for.\n"
   ]
  },
  {
   "cell_type": "markdown",
   "metadata": {},
   "source": [
    "### 1. Simplicity\n",
    "\n",
    "Because ```find``` is one of the most popular functions in ```BeautifulSoup```, \n",
    "you don't even have to write it.\n",
    "\n",
    "```soup(\"tag_name\", \"class_name\")```\n"
   ]
  },
  {
   "cell_type": "code",
   "execution_count": 26,
   "metadata": {},
   "outputs": [
    {
     "data": {
      "text/plain": [
       "[<p class=\"article\">There are three things to keep in mind:\n",
       " <a class=\"plants life\" href=\"http://example.com/plant1\" id=\"plant1\">Plant 1</a>: <span class=\"cost\">$10</span>,\n",
       " <a class=\"plants life\" href=\"http://example.com/plant2\" id=\"plant2\">Plant 2</a>: <span class=\"cost\">$20</span> and\n",
       " <a class=\"plants life\" href=\"http://example.com/plant3\" id=\"plant3\">Plant 3</a> <span class=\"cost\">$30</span>;\n",
       " </p>,\n",
       " <p class=\"article\"> There are three animals in the barn:\n",
       " <a class=\"animals life\" href=\"http://example.com/animal1\" id=\"animal1\">Animal 1</a>: <span class=\"cost\">$500</span>,\n",
       " <a class=\"animals life\" href=\"http://example.com/animal2\" id=\"animal2\">Animal 2</a>: <span class=\"cost\">$600</span> and\n",
       " <a class=\"animals life\" href=\"http://example.com/animal3\" id=\"animal3\">Animal 3</a>: <span class=\"cost\">$700</span>;\n",
       " </p>]"
      ]
     },
     "execution_count": 26,
     "metadata": {},
     "output_type": "execute_result"
    }
   ],
   "source": [
    "## simple but without precision\n",
    "# find all p tags with class \"article\" \n",
    "\n",
    "soup(\"p\", \"article\")"
   ]
  },
  {
   "cell_type": "markdown",
   "metadata": {},
   "source": [
    "### 2. Clarity\n",
    "\n",
    "We want to be clear what we are writing so all team members can more easily understand it later.\n",
    "\n",
    "- Use ```find``` to know what function it is.\n",
    "- Use ```soup.find(class_=\"class_name\")``` to be clear what class we are looking for.\n",
    "- ```class_``` is not Python or BeautifulSoup. It is simply there to tell us we are looking for a ```class```. Because ```class``` (a type of data) is a Python reserved word, we add the ```_``` to tell us we are referring to an ```HTML class```.\n"
   ]
  },
  {
   "cell_type": "code",
   "execution_count": 30,
   "metadata": {},
   "outputs": [
    {
     "data": {
      "text/plain": [
       "<p class=\"article\">There are three things to keep in mind:\n",
       "<a class=\"plants life\" href=\"http://example.com/plant1\" id=\"plant1\">Plant 1</a>: <span class=\"cost\">$10</span>,\n",
       "<a class=\"plants life\" href=\"http://example.com/plant2\" id=\"plant2\">Plant 2</a>: <span class=\"cost\">$20</span> and\n",
       "<a class=\"plants life\" href=\"http://example.com/plant3\" id=\"plant3\">Plant 3</a> <span class=\"cost\">$30</span>;\n",
       "</p>"
      ]
     },
     "execution_count": 30,
     "metadata": {},
     "output_type": "execute_result"
    }
   ],
   "source": [
    "soup.find(class_=\"article\")"
   ]
  },
  {
   "cell_type": "code",
   "execution_count": 27,
   "metadata": {},
   "outputs": [
    {
     "data": {
      "text/plain": [
       "<p class=\"article\">There are three things to keep in mind:\n",
       "<a class=\"plants life\" href=\"http://example.com/plant1\" id=\"plant1\">Plant 1</a>: <span class=\"cost\">$10</span>,\n",
       "<a class=\"plants life\" href=\"http://example.com/plant2\" id=\"plant2\">Plant 2</a>: <span class=\"cost\">$20</span> and\n",
       "<a class=\"plants life\" href=\"http://example.com/plant3\" id=\"plant3\">Plant 3</a> <span class=\"cost\">$30</span>;\n",
       "</p>"
      ]
     },
     "execution_count": 27,
     "metadata": {},
     "output_type": "execute_result"
    }
   ],
   "source": [
    "# find all tags in the first occurence class \"article\" \n",
    "soup.find(\"p\", class_=\"article\")"
   ]
  },
  {
   "cell_type": "markdown",
   "metadata": {},
   "source": [
    "### 3. Precision\n",
    "\n",
    "In the previous example, we could have run into trouble in case the ```class = \"article\"``` applied to multiple tags.\n",
    "\n",
    "- Use the tag name to add precision.\n",
    "- ```soup.find(\"tag_name\", class_=\"class_name\")```"
   ]
  },
  {
   "cell_type": "code",
   "execution_count": null,
   "metadata": {},
   "outputs": [],
   "source": [
    "## WITH PRECISION\n"
   ]
  },
  {
   "cell_type": "markdown",
   "metadata": {},
   "source": [
    "## ```find_all``` tags, classes\n",
    "\n",
    "- ```find_all``` is *the most widely* used BeautifulSoup command.\n",
    "- Unlike ```find``` it returns *ALL* occurences of a class or tag.\n",
    "- Remember ```find``` returns just the first occurence.\n",
    "- It returns all occurences in a ```beautifulSoup object``` that is similiar to a ```list```."
   ]
  },
  {
   "cell_type": "code",
   "execution_count": 32,
   "metadata": {},
   "outputs": [],
   "source": [
    "## Return all p tags with class article\n",
    "art = soup.find_all(\"p\", class_=\"article\")"
   ]
  },
  {
   "cell_type": "code",
   "execution_count": 38,
   "metadata": {},
   "outputs": [
    {
     "data": {
      "text/plain": [
       "bs4.element.ResultSet"
      ]
     },
     "execution_count": 38,
     "metadata": {},
     "output_type": "execute_result"
    }
   ],
   "source": [
    "type(art)"
   ]
  },
  {
   "cell_type": "code",
   "execution_count": 39,
   "metadata": {},
   "outputs": [
    {
     "data": {
      "text/plain": [
       "[<p class=\"article\">There are three things to keep in mind:\n",
       " <a class=\"plants life\" href=\"http://example.com/plant1\" id=\"plant1\">Plant 1</a>: <span class=\"cost\">$10</span>,\n",
       " <a class=\"plants life\" href=\"http://example.com/plant2\" id=\"plant2\">Plant 2</a>: <span class=\"cost\">$20</span> and\n",
       " <a class=\"plants life\" href=\"http://example.com/plant3\" id=\"plant3\">Plant 3</a> <span class=\"cost\">$30</span>;\n",
       " </p>,\n",
       " <p class=\"article\"> There are three animals in the barn:\n",
       " <a class=\"animals life\" href=\"http://example.com/animal1\" id=\"animal1\">Animal 1</a>: <span class=\"cost\">$500</span>,\n",
       " <a class=\"animals life\" href=\"http://example.com/animal2\" id=\"animal2\">Animal 2</a>: <span class=\"cost\">$600</span> and\n",
       " <a class=\"animals life\" href=\"http://example.com/animal3\" id=\"animal3\">Animal 3</a>: <span class=\"cost\">$700</span>;\n",
       " </p>]"
      ]
     },
     "execution_count": 39,
     "metadata": {},
     "output_type": "execute_result"
    }
   ],
   "source": [
    "art"
   ]
  },
  {
   "cell_type": "code",
   "execution_count": 41,
   "metadata": {},
   "outputs": [
    {
     "name": "stdout",
     "output_type": "stream",
     "text": [
      "<p class=\"article\">There are three things to keep in mind:\n",
      "<a class=\"plants life\" href=\"http://example.com/plant1\" id=\"plant1\">Plant 1</a>: <span class=\"cost\">$10</span>,\n",
      "<a class=\"plants life\" href=\"http://example.com/plant2\" id=\"plant2\">Plant 2</a>: <span class=\"cost\">$20</span> and\n",
      "<a class=\"plants life\" href=\"http://example.com/plant3\" id=\"plant3\">Plant 3</a> <span class=\"cost\">$30</span>;\n",
      "</p>\n",
      "********************\n",
      "<p class=\"article\"> There are three animals in the barn:\n",
      "<a class=\"animals life\" href=\"http://example.com/animal1\" id=\"animal1\">Animal 1</a>: <span class=\"cost\">$500</span>,\n",
      "<a class=\"animals life\" href=\"http://example.com/animal2\" id=\"animal2\">Animal 2</a>: <span class=\"cost\">$600</span> and\n",
      "<a class=\"animals life\" href=\"http://example.com/animal3\" id=\"animal3\">Animal 3</a>: <span class=\"cost\">$700</span>;\n",
      "</p>\n",
      "********************\n"
     ]
    }
   ],
   "source": [
    "for a in art:\n",
    "    print(a)\n",
    "    print(\"********************\")"
   ]
  },
  {
   "cell_type": "code",
   "execution_count": 37,
   "metadata": {},
   "outputs": [
    {
     "data": {
      "text/plain": [
       "<p class=\"article\"> There are three animals in the barn:\n",
       "<a class=\"animals life\" href=\"http://example.com/animal1\" id=\"animal1\">Animal 1</a>: <span class=\"cost\">$500</span>,\n",
       "<a class=\"animals life\" href=\"http://example.com/animal2\" id=\"animal2\">Animal 2</a>: <span class=\"cost\">$600</span> and\n",
       "<a class=\"animals life\" href=\"http://example.com/animal3\" id=\"animal3\">Animal 3</a>: <span class=\"cost\">$700</span>;\n",
       "</p>"
      ]
     },
     "execution_count": 37,
     "metadata": {},
     "output_type": "execute_result"
    }
   ],
   "source": [
    "## What if you want only the second group of life forms?\n",
    "soup.find_all(\"p\", class_=\"article\")[1]"
   ]
  },
  {
   "cell_type": "code",
   "execution_count": 42,
   "metadata": {},
   "outputs": [
    {
     "data": {
      "text/plain": [
       "[<a class=\"animals life\" href=\"http://example.com/animal1\" id=\"animal1\">Animal 1</a>]"
      ]
     },
     "execution_count": 42,
     "metadata": {},
     "output_type": "execute_result"
    }
   ],
   "source": [
    "## SEARCH BY ID for \"animal1\"\n",
    "soup(id=\"animal1\")"
   ]
  },
  {
   "cell_type": "code",
   "execution_count": 43,
   "metadata": {},
   "outputs": [
    {
     "data": {
      "text/plain": [
       "[<a class=\"plants life\" href=\"http://example.com/plant1\" id=\"plant1\">Plant 1</a>]"
      ]
     },
     "execution_count": 43,
     "metadata": {},
     "output_type": "execute_result"
    }
   ],
   "source": [
    "## SEARCH BY ID for \"plant1\"\n",
    "soup(id=\"plant1\")"
   ]
  },
  {
   "cell_type": "markdown",
   "metadata": {},
   "source": [
    "## Storing values\n",
    "\n",
    "We haven't been saving in values in memory. \n",
    "\n",
    "If we want to move beyond a demo, we need to start saving them."
   ]
  },
  {
   "cell_type": "code",
   "execution_count": 45,
   "metadata": {},
   "outputs": [
    {
     "data": {
      "text/plain": [
       "[<a class=\"plants life\" href=\"http://example.com/plant1\" id=\"plant1\">Plant 1</a>,\n",
       " <a class=\"plants life\" href=\"http://example.com/plant2\" id=\"plant2\">Plant 2</a>,\n",
       " <a class=\"plants life\" href=\"http://example.com/plant3\" id=\"plant3\">Plant 3</a>,\n",
       " <a class=\"animals life\" href=\"http://example.com/animal1\" id=\"animal1\">Animal 1</a>,\n",
       " <a class=\"animals life\" href=\"http://example.com/animal2\" id=\"animal2\">Animal 2</a>,\n",
       " <a class=\"animals life\" href=\"http://example.com/animal3\" id=\"animal3\">Animal 3</a>]"
      ]
     },
     "execution_count": 45,
     "metadata": {},
     "output_type": "execute_result"
    }
   ],
   "source": [
    "## save all lifeforms in a object called lifeforms\n",
    "lifeforms = soup.find_all(\"a\", class_=\"life\")\n",
    "lifeforms"
   ]
  },
  {
   "cell_type": "code",
   "execution_count": 46,
   "metadata": {},
   "outputs": [
    {
     "data": {
      "text/plain": [
       "bs4.element.ResultSet"
      ]
     },
     "execution_count": 46,
     "metadata": {},
     "output_type": "execute_result"
    }
   ],
   "source": [
    "## what kind of object it it?\n",
    "type(lifeforms)"
   ]
  },
  {
   "cell_type": "markdown",
   "metadata": {},
   "source": [
    "### Print lifeforms. Does it look familiar?"
   ]
  },
  {
   "cell_type": "code",
   "execution_count": 47,
   "metadata": {},
   "outputs": [
    {
     "name": "stdout",
     "output_type": "stream",
     "text": [
      "[<a class=\"plants life\" href=\"http://example.com/plant1\" id=\"plant1\">Plant 1</a>, <a class=\"plants life\" href=\"http://example.com/plant2\" id=\"plant2\">Plant 2</a>, <a class=\"plants life\" href=\"http://example.com/plant3\" id=\"plant3\">Plant 3</a>, <a class=\"animals life\" href=\"http://example.com/animal1\" id=\"animal1\">Animal 1</a>, <a class=\"animals life\" href=\"http://example.com/animal2\" id=\"animal2\">Animal 2</a>, <a class=\"animals life\" href=\"http://example.com/animal3\" id=\"animal3\">Animal 3</a>]\n"
     ]
    }
   ],
   "source": [
    "## print lifeforms\n",
    "print(lifeforms)"
   ]
  },
  {
   "cell_type": "code",
   "execution_count": null,
   "metadata": {},
   "outputs": [],
   "source": [
    "## This breaks!\n",
    "## You can't just get the text for the lifeforms.\n",
    "## Why? Because you can't call .get_text() on a <class 'bs4.element.ResultSet'>\n",
    "# print(lifeforms.string)\n",
    "# print(lifeforms.get_text())"
   ]
  },
  {
   "cell_type": "code",
   "execution_count": 55,
   "metadata": {},
   "outputs": [
    {
     "data": {
      "text/plain": [
       "[<a class=\"plants life\" href=\"http://example.com/plant1\" id=\"plant1\">Plant 1</a>,\n",
       " <a class=\"plants life\" href=\"http://example.com/plant2\" id=\"plant2\">Plant 2</a>,\n",
       " <a class=\"plants life\" href=\"http://example.com/plant3\" id=\"plant3\">Plant 3</a>,\n",
       " <a class=\"animals life\" href=\"http://example.com/animal1\" id=\"animal1\">Animal 1</a>,\n",
       " <a class=\"animals life\" href=\"http://example.com/animal2\" id=\"animal2\">Animal 2</a>,\n",
       " <a class=\"animals life\" href=\"http://example.com/animal3\" id=\"animal3\">Animal 3</a>]"
      ]
     },
     "execution_count": 55,
     "metadata": {},
     "output_type": "execute_result"
    }
   ],
   "source": [
    "lifeforms"
   ]
  },
  {
   "cell_type": "code",
   "execution_count": 57,
   "metadata": {},
   "outputs": [],
   "source": [
    "## just the text, no html\n",
    "## Using for loop\n",
    "lifeforms_list = []\n",
    "for life in lifeforms:\n",
    "    lifeforms_list.append(life.get_text())"
   ]
  },
  {
   "cell_type": "code",
   "execution_count": 58,
   "metadata": {},
   "outputs": [
    {
     "data": {
      "text/plain": [
       "['Plant 1', 'Plant 2', 'Plant 3', 'Animal 1', 'Animal 2', 'Animal 3']"
      ]
     },
     "execution_count": 58,
     "metadata": {},
     "output_type": "execute_result"
    }
   ],
   "source": [
    "lifeforms_list"
   ]
  },
  {
   "cell_type": "code",
   "execution_count": 63,
   "metadata": {},
   "outputs": [
    {
     "data": {
      "text/plain": [
       "['Plant 1', 'Plant 2', 'Plant 3', 'Animal 1', 'Animal 2', 'Animal 3']"
      ]
     },
     "execution_count": 63,
     "metadata": {},
     "output_type": "execute_result"
    }
   ],
   "source": [
    "## just the text, no html\n",
    "## Using for list comprehension\n",
    "## lifeforms_lc\n",
    "\n",
    "lifeforms_lc = [life.get_text() for life in lifeforms]\n",
    "lifeforms_lc"
   ]
  },
  {
   "cell_type": "markdown",
   "metadata": {},
   "source": [
    "## Get the urls for each"
   ]
  },
  {
   "cell_type": "code",
   "execution_count": 67,
   "metadata": {},
   "outputs": [
    {
     "name": "stdout",
     "output_type": "stream",
     "text": [
      "<a class=\"plants life\" href=\"http://example.com/plant1\" id=\"plant1\">Plant 1</a>\n",
      "<a class=\"plants life\" href=\"http://example.com/plant2\" id=\"plant2\">Plant 2</a>\n",
      "<a class=\"plants life\" href=\"http://example.com/plant3\" id=\"plant3\">Plant 3</a>\n",
      "<a class=\"animals life\" href=\"http://example.com/animal1\" id=\"animal1\">Animal 1</a>\n",
      "<a class=\"animals life\" href=\"http://example.com/animal2\" id=\"animal2\">Animal 2</a>\n",
      "<a class=\"animals life\" href=\"http://example.com/animal3\" id=\"animal3\">Animal 3</a>\n"
     ]
    },
    {
     "data": {
      "text/plain": [
       "['http://example.com/plant1',\n",
       " 'http://example.com/plant2',\n",
       " 'http://example.com/plant3',\n",
       " 'http://example.com/animal1',\n",
       " 'http://example.com/animal2',\n",
       " 'http://example.com/animal3']"
      ]
     },
     "execution_count": 67,
     "metadata": {},
     "output_type": "execute_result"
    }
   ],
   "source": [
    "## use for loop\n",
    "all_urls_fl = []\n",
    "for link in lifeforms:\n",
    "#     print(link)\n",
    "    url = link.get(\"href\")\n",
    "#     print(url)\n",
    "    all_urls_fl.append(url)\n",
    "    \n",
    "all_urls_fl"
   ]
  },
  {
   "cell_type": "code",
   "execution_count": 68,
   "metadata": {},
   "outputs": [
    {
     "data": {
      "text/plain": [
       "['http://example.com/plant1',\n",
       " 'http://example.com/plant2',\n",
       " 'http://example.com/plant3',\n",
       " 'http://example.com/animal1',\n",
       " 'http://example.com/animal2',\n",
       " 'http://example.com/animal3']"
      ]
     },
     "execution_count": 68,
     "metadata": {},
     "output_type": "execute_result"
    }
   ],
   "source": [
    "# using list comprehension\n",
    "\n",
    "all_urls_lc = [link.get(\"href\") for link in lifeforms]\n",
    "\n",
    "all_urls_lc"
   ]
  },
  {
   "cell_type": "markdown",
   "metadata": {},
   "source": [
    "## Cost\n",
    "\n",
    "Let's grab the cost\n",
    "\n",
    "How do we target the cost?"
   ]
  },
  {
   "cell_type": "code",
   "execution_count": 71,
   "metadata": {
    "collapsed": true
   },
   "outputs": [
    {
     "name": "stdout",
     "output_type": "stream",
     "text": [
      "<html>\n",
      " <head>\n",
      "  <title>\n",
      "   The title is Demo for BeautifulSoup\n",
      "  </title>\n",
      " </head>\n",
      " <body>\n",
      "  <h1 class=\"title\">\n",
      "   <b>\n",
      "    The title headline is Demo for BeautifulSoup\n",
      "   </b>\n",
      "  </h1>\n",
      " </body>\n",
      "</html>\n",
      "<section class=\"main\" id=\"all_plants\">\n",
      " <p class=\"article\">\n",
      "  There are three things to keep in mind:\n",
      "  <a class=\"plants life\" href=\"http://example.com/plant1\" id=\"plant1\">\n",
      "   Plant 1\n",
      "  </a>\n",
      "  :\n",
      "  <span class=\"cost\">\n",
      "   $10\n",
      "  </span>\n",
      "  ,\n",
      "  <a class=\"plants life\" href=\"http://example.com/plant2\" id=\"plant2\">\n",
      "   Plant 2\n",
      "  </a>\n",
      "  :\n",
      "  <span class=\"cost\">\n",
      "   $20\n",
      "  </span>\n",
      "  and\n",
      "  <a class=\"plants life\" href=\"http://example.com/plant3\" id=\"plant3\">\n",
      "   Plant 3\n",
      "  </a>\n",
      "  <span class=\"cost\">\n",
      "   $30\n",
      "  </span>\n",
      "  ;\n",
      " </p>\n",
      " <strong>\n",
      "  Don't forget to water these 3 plants.\n",
      " </strong>\n",
      "</section>\n",
      "<section class=\"main\" id=\"all_animals\">\n",
      " <p class=\"article\">\n",
      "  There are three animals in the barn:\n",
      "  <a class=\"animals life\" href=\"http://example.com/animal1\" id=\"animal1\">\n",
      "   Animal 1\n",
      "  </a>\n",
      "  :\n",
      "  <span class=\"cost\">\n",
      "   $500\n",
      "  </span>\n",
      "  ,\n",
      "  <a class=\"animals life\" href=\"http://example.com/animal2\" id=\"animal2\">\n",
      "   Animal 2\n",
      "  </a>\n",
      "  :\n",
      "  <span class=\"cost\">\n",
      "   $600\n",
      "  </span>\n",
      "  and\n",
      "  <a class=\"animals life\" href=\"http://example.com/animal3\" id=\"animal3\">\n",
      "   Animal 3\n",
      "  </a>\n",
      "  :\n",
      "  <span class=\"cost\">\n",
      "   $700\n",
      "  </span>\n",
      "  ;\n",
      " </p>\n",
      " <strong>\n",
      "  Don't forget these feed these 3 animals.\n",
      " </strong>\n",
      "</section>\n",
      "<section>\n",
      " <p>\n",
      "  <span>\n",
      "   Inanimate object 1\n",
      "  </span>\n",
      " </p>\n",
      " <p>\n",
      "  <span>\n",
      "   Inanimate object 2\n",
      "  </span>\n",
      " </p>\n",
      " <p>\n",
      "  <span>\n",
      "   Inanimate object 3\n",
      "  </span>\n",
      " </p>\n",
      "</section>\n",
      "\n"
     ]
    }
   ],
   "source": [
    "print(soup.prettify())"
   ]
  },
  {
   "cell_type": "code",
   "execution_count": 72,
   "metadata": {},
   "outputs": [
    {
     "data": {
      "text/plain": [
       "[<span class=\"cost\">$10</span>,\n",
       " <span class=\"cost\">$20</span>,\n",
       " <span class=\"cost\">$30</span>,\n",
       " <span class=\"cost\">$500</span>,\n",
       " <span class=\"cost\">$600</span>,\n",
       " <span class=\"cost\">$700</span>,\n",
       " <span>Inanimate object 1</span>,\n",
       " <span>Inanimate object 2</span>,\n",
       " <span>Inanimate object 3</span>]"
      ]
     },
     "execution_count": 72,
     "metadata": {},
     "output_type": "execute_result"
    }
   ],
   "source": [
    "## A wide target:\n",
    "cost = soup.find_all(\"span\")\n",
    "cost"
   ]
  },
  {
   "cell_type": "code",
   "execution_count": 73,
   "metadata": {},
   "outputs": [
    {
     "data": {
      "text/plain": [
       "[<span class=\"cost\">$10</span>,\n",
       " <span class=\"cost\">$20</span>,\n",
       " <span class=\"cost\">$30</span>,\n",
       " <span class=\"cost\">$500</span>,\n",
       " <span class=\"cost\">$600</span>,\n",
       " <span class=\"cost\">$700</span>]"
      ]
     },
     "execution_count": 73,
     "metadata": {},
     "output_type": "execute_result"
    }
   ],
   "source": [
    "## narrow the target\n",
    "cost = soup.find_all(\"span\",  class_=\"cost\")\n",
    "cost"
   ]
  },
  {
   "cell_type": "code",
   "execution_count": null,
   "metadata": {},
   "outputs": [],
   "source": [
    "## using for loop\n"
   ]
  },
  {
   "cell_type": "code",
   "execution_count": 74,
   "metadata": {},
   "outputs": [
    {
     "data": {
      "text/plain": [
       "['$10', '$20', '$30', '$500', '$600', '$700']"
      ]
     },
     "execution_count": 74,
     "metadata": {},
     "output_type": "execute_result"
    }
   ],
   "source": [
    "## using list comprehension\n",
    "cost_list_lc = [amount.get_text() for amount in cost]\n",
    "cost_list_lc"
   ]
  },
  {
   "cell_type": "code",
   "execution_count": 75,
   "metadata": {},
   "outputs": [
    {
     "data": {
      "text/plain": [
       "['Plant 1', 'Plant 2', 'Plant 3', 'Animal 1', 'Animal 2', 'Animal 3']"
      ]
     },
     "execution_count": 75,
     "metadata": {},
     "output_type": "execute_result"
    }
   ],
   "source": [
    "lifeforms_lc"
   ]
  },
  {
   "cell_type": "code",
   "execution_count": 76,
   "metadata": {},
   "outputs": [
    {
     "data": {
      "text/plain": [
       "['http://example.com/plant1',\n",
       " 'http://example.com/plant2',\n",
       " 'http://example.com/plant3',\n",
       " 'http://example.com/animal1',\n",
       " 'http://example.com/animal2',\n",
       " 'http://example.com/animal3']"
      ]
     },
     "execution_count": 76,
     "metadata": {},
     "output_type": "execute_result"
    }
   ],
   "source": [
    "all_urls_lc"
   ]
  },
  {
   "cell_type": "markdown",
   "metadata": {},
   "source": [
    "## Prepare to Export\n",
    "\n",
    "You now have one list that holds the name of the lifeform and another that holds the related URL.\n",
    "\n",
    "Let's create a dict call ```life_dict```.\n",
    "\n",
    "Keys are name and url...values are the related values\n"
   ]
  },
  {
   "cell_type": "code",
   "execution_count": 78,
   "metadata": {},
   "outputs": [
    {
     "data": {
      "text/plain": [
       "[{'life_form': 'Plant 1', 'cost': '$10', 'link': 'http://example.com/plant1'},\n",
       " {'life_form': 'Plant 2', 'cost': '$20', 'link': 'http://example.com/plant2'},\n",
       " {'life_form': 'Plant 3', 'cost': '$30', 'link': 'http://example.com/plant3'},\n",
       " {'life_form': 'Animal 1',\n",
       "  'cost': '$500',\n",
       "  'link': 'http://example.com/animal1'},\n",
       " {'life_form': 'Animal 2',\n",
       "  'cost': '$600',\n",
       "  'link': 'http://example.com/animal2'},\n",
       " {'life_form': 'Animal 3',\n",
       "  'cost': '$700',\n",
       "  'link': 'http://example.com/animal3'}]"
      ]
     },
     "execution_count": 78,
     "metadata": {},
     "output_type": "execute_result"
    }
   ],
   "source": [
    "life_dict_list = []\n",
    "for (name, cost, url) in zip(lifeforms_lc, cost_list_lc, all_urls_lc):\n",
    "    life_dict = {\"life_form\": name, \"cost\": cost, \"link\": url}\n",
    "    life_dict_list.append(life_dict)\n",
    "\n",
    "life_dict_list"
   ]
  },
  {
   "cell_type": "markdown",
   "metadata": {},
   "source": [
    "## Export as CSV\n",
    "\n",
    "We'll use Pandas to export our data to an external file.\n",
    "\n",
    "We'll cover this in more detail soon, but for now here it is:"
   ]
  },
  {
   "cell_type": "code",
   "execution_count": 79,
   "metadata": {},
   "outputs": [],
   "source": [
    "## import pandas\n",
    "import pandas as pd"
   ]
  },
  {
   "cell_type": "code",
   "execution_count": 80,
   "metadata": {},
   "outputs": [
    {
     "name": "stdout",
     "output_type": "stream",
     "text": [
      "test.csv is in your project folder!\n"
     ]
    }
   ],
   "source": [
    "## use pandas to write to csv file\n",
    "filename = \"test.csv\" ## what are file name is\n",
    "df = pd.DataFrame(life_dict_list) ## we turn our life dict into a dataframe which we're call df\n",
    "df.to_csv(filename, encoding='utf-8', index=False) ## export to csv as utf-8 coding (it just has to be this)\n",
    "\n",
    "print(f\"{filename} is in your project folder!\") ## a print out that tells us the file is ready"
   ]
  },
  {
   "cell_type": "code",
   "execution_count": 81,
   "metadata": {
    "scrolled": true
   },
   "outputs": [
    {
     "data": {
      "text/html": [
       "<div>\n",
       "<style scoped>\n",
       "    .dataframe tbody tr th:only-of-type {\n",
       "        vertical-align: middle;\n",
       "    }\n",
       "\n",
       "    .dataframe tbody tr th {\n",
       "        vertical-align: top;\n",
       "    }\n",
       "\n",
       "    .dataframe thead th {\n",
       "        text-align: right;\n",
       "    }\n",
       "</style>\n",
       "<table border=\"1\" class=\"dataframe\">\n",
       "  <thead>\n",
       "    <tr style=\"text-align: right;\">\n",
       "      <th></th>\n",
       "      <th>life_form</th>\n",
       "      <th>cost</th>\n",
       "      <th>link</th>\n",
       "    </tr>\n",
       "  </thead>\n",
       "  <tbody>\n",
       "    <tr>\n",
       "      <th>0</th>\n",
       "      <td>Plant 1</td>\n",
       "      <td>$10</td>\n",
       "      <td>http://example.com/plant1</td>\n",
       "    </tr>\n",
       "    <tr>\n",
       "      <th>1</th>\n",
       "      <td>Plant 2</td>\n",
       "      <td>$20</td>\n",
       "      <td>http://example.com/plant2</td>\n",
       "    </tr>\n",
       "    <tr>\n",
       "      <th>2</th>\n",
       "      <td>Plant 3</td>\n",
       "      <td>$30</td>\n",
       "      <td>http://example.com/plant3</td>\n",
       "    </tr>\n",
       "    <tr>\n",
       "      <th>3</th>\n",
       "      <td>Animal 1</td>\n",
       "      <td>$500</td>\n",
       "      <td>http://example.com/animal1</td>\n",
       "    </tr>\n",
       "    <tr>\n",
       "      <th>4</th>\n",
       "      <td>Animal 2</td>\n",
       "      <td>$600</td>\n",
       "      <td>http://example.com/animal2</td>\n",
       "    </tr>\n",
       "    <tr>\n",
       "      <th>5</th>\n",
       "      <td>Animal 3</td>\n",
       "      <td>$700</td>\n",
       "      <td>http://example.com/animal3</td>\n",
       "    </tr>\n",
       "  </tbody>\n",
       "</table>\n",
       "</div>"
      ],
      "text/plain": [
       "  life_form  cost                        link\n",
       "0   Plant 1   $10   http://example.com/plant1\n",
       "1   Plant 2   $20   http://example.com/plant2\n",
       "2   Plant 3   $30   http://example.com/plant3\n",
       "3  Animal 1  $500  http://example.com/animal1\n",
       "4  Animal 2  $600  http://example.com/animal2\n",
       "5  Animal 3  $700  http://example.com/animal3"
      ]
     },
     "execution_count": 81,
     "metadata": {},
     "output_type": "execute_result"
    }
   ],
   "source": [
    "df"
   ]
  },
  {
   "cell_type": "code",
   "execution_count": 82,
   "metadata": {},
   "outputs": [],
   "source": [
    "df1 = pd.DataFrame(list(zip(lifeforms_lc, cost_list_lc,all_urls_lc)), \n",
    "               columns =['life_form', 'cost', 'link'])"
   ]
  },
  {
   "cell_type": "code",
   "execution_count": 83,
   "metadata": {},
   "outputs": [
    {
     "data": {
      "text/html": [
       "<div>\n",
       "<style scoped>\n",
       "    .dataframe tbody tr th:only-of-type {\n",
       "        vertical-align: middle;\n",
       "    }\n",
       "\n",
       "    .dataframe tbody tr th {\n",
       "        vertical-align: top;\n",
       "    }\n",
       "\n",
       "    .dataframe thead th {\n",
       "        text-align: right;\n",
       "    }\n",
       "</style>\n",
       "<table border=\"1\" class=\"dataframe\">\n",
       "  <thead>\n",
       "    <tr style=\"text-align: right;\">\n",
       "      <th></th>\n",
       "      <th>life_form</th>\n",
       "      <th>cost</th>\n",
       "      <th>link</th>\n",
       "    </tr>\n",
       "  </thead>\n",
       "  <tbody>\n",
       "    <tr>\n",
       "      <th>0</th>\n",
       "      <td>Plant 1</td>\n",
       "      <td>$10</td>\n",
       "      <td>http://example.com/plant1</td>\n",
       "    </tr>\n",
       "    <tr>\n",
       "      <th>1</th>\n",
       "      <td>Plant 2</td>\n",
       "      <td>$20</td>\n",
       "      <td>http://example.com/plant2</td>\n",
       "    </tr>\n",
       "    <tr>\n",
       "      <th>2</th>\n",
       "      <td>Plant 3</td>\n",
       "      <td>$30</td>\n",
       "      <td>http://example.com/plant3</td>\n",
       "    </tr>\n",
       "    <tr>\n",
       "      <th>3</th>\n",
       "      <td>Animal 1</td>\n",
       "      <td>$500</td>\n",
       "      <td>http://example.com/animal1</td>\n",
       "    </tr>\n",
       "    <tr>\n",
       "      <th>4</th>\n",
       "      <td>Animal 2</td>\n",
       "      <td>$600</td>\n",
       "      <td>http://example.com/animal2</td>\n",
       "    </tr>\n",
       "    <tr>\n",
       "      <th>5</th>\n",
       "      <td>Animal 3</td>\n",
       "      <td>$700</td>\n",
       "      <td>http://example.com/animal3</td>\n",
       "    </tr>\n",
       "  </tbody>\n",
       "</table>\n",
       "</div>"
      ],
      "text/plain": [
       "  life_form  cost                        link\n",
       "0   Plant 1   $10   http://example.com/plant1\n",
       "1   Plant 2   $20   http://example.com/plant2\n",
       "2   Plant 3   $30   http://example.com/plant3\n",
       "3  Animal 1  $500  http://example.com/animal1\n",
       "4  Animal 2  $600  http://example.com/animal2\n",
       "5  Animal 3  $700  http://example.com/animal3"
      ]
     },
     "execution_count": 83,
     "metadata": {},
     "output_type": "execute_result"
    }
   ],
   "source": [
    "df1"
   ]
  },
  {
   "cell_type": "markdown",
   "metadata": {},
   "source": [
    "# BeautifulSoup\n",
    "\n",
    "We covered some basic BeautifulSoup functionality:\n",
    "\n",
    "- Remember ```soup``` is just a term we use to store an entire webpage or file. We could call it anything we want.\n",
    "- Searching by ```tags``` like ```title```, ```h1```, ```span``` etc.\n",
    "- Searching by ```class``` or ```id```\n",
    "- Finding all occurences of an item using ```find_all()```\n",
    "- Finding the first occurence of an item using ```find()```\n",
    "- Removing the html and returning just the string by using ```.string``` or ```get_text()```\n",
    "- Grabbing just the URL(s) using ```get(\"href\")```\n",
    "\n",
    "These are the most frequently used BeautifulSoup functions. You can [find many more](https://www.crummy.com/software/BeautifulSoup/bs4/doc/#) in the documentation. \n"
   ]
  }
 ],
 "metadata": {
  "celltoolbar": "Slideshow",
  "kernelspec": {
   "display_name": "Python 3",
   "language": "python",
   "name": "python3"
  },
  "language_info": {
   "codemirror_mode": {
    "name": "ipython",
    "version": 3
   },
   "file_extension": ".py",
   "mimetype": "text/x-python",
   "name": "python",
   "nbconvert_exporter": "python",
   "pygments_lexer": "ipython3",
   "version": "3.8.3"
  }
 },
 "nbformat": 4,
 "nbformat_minor": 4
}
