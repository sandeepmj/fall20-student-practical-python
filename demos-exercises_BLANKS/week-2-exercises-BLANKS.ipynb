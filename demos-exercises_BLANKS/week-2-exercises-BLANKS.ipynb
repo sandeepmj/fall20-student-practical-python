{
 "cells": [
  {
   "cell_type": "markdown",
   "metadata": {
    "slideshow": {
     "slide_type": "slide"
    }
   },
   "source": [
    "# Week 2 - Flow Control"
   ]
  },
  {
   "cell_type": "markdown",
   "metadata": {
    "slideshow": {
     "slide_type": "slide"
    }
   },
   "source": [
    "#### The following play critical roles:  \n",
    "1. Indentation - running blocks of code.\n",
    "2. Time Delays - pacing the speed of our code.\n",
    "3. For Loops - iterating through data\n",
    "4. For Loops through multiple but related lists\n",
    "5. For Loops through Dictionaries\n",
    "6. Conditional Statements"
   ]
  },
  {
   "cell_type": "markdown",
   "metadata": {
    "slideshow": {
     "slide_type": "slide"
    }
   },
   "source": [
    "## 1. Indentation\n",
    "\n",
    "* Python is unique in requiring indentations.\n",
    "* Indentations signify the start and end of code that belongs together (code blocks).\n",
    "* Without proper indentation, your code won't do what you expect.\n",
    "* Not working as expected? Check if you have indented correctly!"
   ]
  },
  {
   "cell_type": "markdown",
   "metadata": {
    "slideshow": {
     "slide_type": "slide"
    }
   },
   "source": [
    "### Basic Flow Example: A Counter"
   ]
  },
  {
   "cell_type": "code",
   "execution_count": null,
   "metadata": {
    "slideshow": {
     "slide_type": "slide"
    }
   },
   "outputs": [],
   "source": [
    "## Using a While loop build a counter that counts from 1 to 5.\n",
    "## Print the counter numbers in statement that reads \"The count is\" whatever the count is.\n",
    "## Once it reaches 5, it should print \"Done counting to 5!\"\n",
    "\n"
   ]
  },
  {
   "cell_type": "markdown",
   "metadata": {
    "slideshow": {
     "slide_type": "slide"
    }
   },
   "source": [
    "### You just controlled flow using indentation and a while loop."
   ]
  },
  {
   "cell_type": "markdown",
   "metadata": {
    "slideshow": {
     "slide_type": "subslide"
    }
   },
   "source": [
    "<!-- <img src=\"../support_files/indent1.png\" style=\"width: 70%;\"> -->"
   ]
  },
  {
   "cell_type": "markdown",
   "metadata": {
    "slideshow": {
     "slide_type": "subslide"
    }
   },
   "source": [
    "<!-- <img src=\"../support_files/indent2.png\" style=\"width: 70%;\"> -->"
   ]
  },
  {
   "cell_type": "markdown",
   "metadata": {
    "slideshow": {
     "slide_type": "subslide"
    }
   },
   "source": [
    "<!-- <img src=\"../support_files/indent3.png\" style=\"width: 70%;\"> -->"
   ]
  },
  {
   "cell_type": "markdown",
   "metadata": {
    "slideshow": {
     "slide_type": "slide"
    }
   },
   "source": [
    "## How fast does our code run?"
   ]
  },
  {
   "cell_type": "code",
   "execution_count": null,
   "metadata": {
    "slideshow": {
     "slide_type": "slide"
    }
   },
   "outputs": [],
   "source": [
    "import datetime as dt # a package that helps us track time and dates\n",
    "\n",
    "\n"
   ]
  },
  {
   "cell_type": "markdown",
   "metadata": {
    "slideshow": {
     "slide_type": "slide"
    }
   },
   "source": [
    "## 2. Time Delays\n",
    "\n",
    "**Delay timers** are critical when scraping data from websites for several reasons. The **two** most important reasons are:\n",
    "\n",
    "1. Sometimes your scraper clicks on links and must wait for the content to actually populated on the new page. Your script is likely to run faster than a page can load.\n",
    "\n",
    "\n",
    "2. You don't want your scraper to be mistaken for a hostile attack on a server. You have to slow down the scrapes."
   ]
  },
  {
   "cell_type": "markdown",
   "metadata": {
    "slideshow": {
     "slide_type": "slide"
    }
   },
   "source": [
    "### Step 1 - Import required libraries"
   ]
  },
  {
   "cell_type": "code",
   "execution_count": null,
   "metadata": {
    "slideshow": {
     "slide_type": "slide"
    }
   },
   "outputs": [],
   "source": [
    "import time # time is required. we will use its sleep function\n",
    "# import datetime as dt ## we already imported this earlier, but you'd need it if starting fresh"
   ]
  },
  {
   "cell_type": "markdown",
   "metadata": {
    "slideshow": {
     "slide_type": "slide"
    }
   },
   "source": [
    "#### Let's add a 5-second delay:"
   ]
  },
  {
   "cell_type": "code",
   "execution_count": null,
   "metadata": {
    "scrolled": false,
    "slideshow": {
     "slide_type": "slide"
    }
   },
   "outputs": [],
   "source": []
  },
  {
   "cell_type": "markdown",
   "metadata": {
    "slideshow": {
     "slide_type": "slide"
    }
   },
   "source": [
    "### Randomize\n",
    "\n",
    "Software that tracks traffic to a server might grow suspicious about a hit every nth seconds.\n",
    "\n",
    "Let's **randomize** the time between hits by using ```randint``` from the ```random``` library.\n",
    "\n",
    "\n",
    "You might sometimes see me use ```randrange``` from the ```random``` library using ``` from random import randrange```.\n",
    "\n",
    "**Want to know why?**\n"
   ]
  },
  {
   "cell_type": "code",
   "execution_count": null,
   "metadata": {
    "slideshow": {
     "slide_type": "slide"
    }
   },
   "outputs": [],
   "source": [
    "from random import randint # import necessary library\n",
    "\n"
   ]
  },
  {
   "cell_type": "code",
   "execution_count": null,
   "metadata": {},
   "outputs": [],
   "source": [
    "from random import randrange ## import necessary library"
   ]
  },
  {
   "cell_type": "code",
   "execution_count": null,
   "metadata": {
    "slideshow": {
     "slide_type": "slide"
    }
   },
   "outputs": [],
   "source": [
    "# we've already imported random randint\n"
   ]
  },
  {
   "cell_type": "code",
   "execution_count": null,
   "metadata": {
    "slideshow": {
     "slide_type": "slide"
    }
   },
   "outputs": [],
   "source": [
    "## ONE LINE LESS of code; we've already imported from random import randrange \n"
   ]
  },
  {
   "cell_type": "markdown",
   "metadata": {
    "slideshow": {
     "slide_type": "slide"
    }
   },
   "source": [
    "## 3. For Loops\n",
    "\n",
    "### For Loops are your best friend - most used Python expression for journalists:\n",
    "\n",
    "### Iterate over:\n",
    "* data stored in a list and run some calculation on each value;\n",
    "* a list of URLs and visit each site to scrape data;\n",
    "* data stored in dictionary keys and values and return what you are looking for.\n"
   ]
  },
  {
   "cell_type": "markdown",
   "metadata": {
    "slideshow": {
     "slide_type": "slide"
    }
   },
   "source": [
    "## A simple ```for loop``` example:"
   ]
  },
  {
   "cell_type": "markdown",
   "metadata": {
    "slideshow": {
     "slide_type": "subslide"
    }
   },
   "source": [
    "<img src=\"../support_files/forloop2.png\" style=\"width: 70%;\">"
   ]
  },
  {
   "cell_type": "markdown",
   "metadata": {
    "slideshow": {
     "slide_type": "subslide"
    }
   },
   "source": [
    "<img src=\"../support_files/forloop3.png\" style=\"width: 70%;\">"
   ]
  },
  {
   "cell_type": "markdown",
   "metadata": {
    "slideshow": {
     "slide_type": "subslide"
    }
   },
   "source": [
    "<img src=\"../support_files/forloop4.png\" style=\"width: 70%;\">"
   ]
  },
  {
   "cell_type": "markdown",
   "metadata": {
    "slideshow": {
     "slide_type": "subslide"
    }
   },
   "source": [
    "<img src=\"../support_files/forloop5.png\" style=\"width: 70%;\">"
   ]
  },
  {
   "cell_type": "markdown",
   "metadata": {
    "slideshow": {
     "slide_type": "subslide"
    }
   },
   "source": [
    "<img src=\"../support_files/forloop6.png\" style=\"width: 70%;\">"
   ]
  },
  {
   "cell_type": "markdown",
   "metadata": {
    "slideshow": {
     "slide_type": "subslide"
    }
   },
   "source": [
    "<img src=\"../support_files/forloop7.png\" style=\"width: 70%;\">"
   ]
  },
  {
   "cell_type": "markdown",
   "metadata": {
    "slideshow": {
     "slide_type": "subslide"
    }
   },
   "source": [
    "<img src=\"../support_files/forloop8.png\" style=\"width: 70%;\">"
   ]
  },
  {
   "cell_type": "markdown",
   "metadata": {
    "slideshow": {
     "slide_type": "subslide"
    }
   },
   "source": [
    "<img src=\"../support_files/forloop9.png\" style=\"width: 70%;\">"
   ]
  },
  {
   "cell_type": "markdown",
   "metadata": {
    "slideshow": {
     "slide_type": "subslide"
    }
   },
   "source": [
    "<img src=\"../support_files/forloop10.png\" style=\"width: 70%;\">"
   ]
  },
  {
   "cell_type": "markdown",
   "metadata": {
    "slideshow": {
     "slide_type": "subslide"
    }
   },
   "source": [
    "<img src=\"../support_files/forloop11.png\" style=\"width: 70%;\">"
   ]
  },
  {
   "cell_type": "markdown",
   "metadata": {
    "slideshow": {
     "slide_type": "subslide"
    }
   },
   "source": [
    "<img src=\"../support_files/forloop12.png\" style=\"width: 70%;\">"
   ]
  },
  {
   "cell_type": "markdown",
   "metadata": {
    "slideshow": {
     "slide_type": "slide"
    }
   },
   "source": [
    "Let's take **For Loops** for test drive:"
   ]
  },
  {
   "cell_type": "code",
   "execution_count": null,
   "metadata": {
    "slideshow": {
     "slide_type": "slide"
    }
   },
   "outputs": [],
   "source": [
    "##  RUN THIS CELL - Use this list of CEO salaries from 1985 \n",
    "ceo_salaries_1985 = [150_000, 201_000, 110_000, 75_000, 92_000, 55_000]"
   ]
  },
  {
   "cell_type": "code",
   "execution_count": null,
   "metadata": {
    "slideshow": {
     "slide_type": "slide"
    }
   },
   "outputs": [],
   "source": [
    "## Print each salary with in the following format:\n",
    "## \"A CEO earned [some value] in 1985.\"\n"
   ]
  },
  {
   "cell_type": "code",
   "execution_count": null,
   "metadata": {
    "slideshow": {
     "slide_type": "slide"
    }
   },
   "outputs": [],
   "source": [
    "## Now update each salary to 2019 dollars.\n",
    "## Print the following info:\n",
    "## \"A CEO's salary of [1985 salary] in 1985 is worth [updated salary] in 2019 dollars.\"\n",
    "## The CPI for 1985 is 107.6\n",
    "## The 2019 CPI is 255.657\n",
    "## The formula is: updated_salary = (oldSalary/oldCPI) * currentCPI\n"
   ]
  },
  {
   "cell_type": "markdown",
   "metadata": {
    "slideshow": {
     "slide_type": "slide"
    }
   },
   "source": [
    "## 4. For Loops through multiple but related lists"
   ]
  },
  {
   "cell_type": "code",
   "execution_count": null,
   "metadata": {
    "slideshow": {
     "slide_type": "slide"
    }
   },
   "outputs": [],
   "source": [
    "##  RUN THIS CELL - You scrape a site and each datapoint is stored in different lists\n",
    "first_names = [\"Irene\", \"Ursula\", \"Elon\", \"Tim\"]\n",
    "last_names = [\"Rosenfeld\", \"Burns\", \"Musk\", \"Cook\"]\n",
    "titles = [\"Chairman and CEO\", \"Chairman and CEO\", \"CEO\", \"CEO\"]\n",
    "companies = [\"Kraft Foods\", \"Xerox\", \"Tesla\", \"Apple\"]\n",
    "industries = [\"Food and Beverage\", \"Process and Document Management\", \"Auto Manufacturing\", \"Consumer Technology\"]"
   ]
  },
  {
   "cell_type": "markdown",
   "metadata": {
    "slideshow": {
     "slide_type": "slide"
    }
   },
   "source": [
    "### How do you align each related item from the different lists that belong together?"
   ]
  },
  {
   "cell_type": "code",
   "execution_count": null,
   "metadata": {},
   "outputs": [],
   "source": [
    "## align each related item\n"
   ]
  },
  {
   "cell_type": "code",
   "execution_count": null,
   "metadata": {
    "slideshow": {
     "slide_type": "slide"
    }
   },
   "outputs": [],
   "source": [
    "## We don't just want to print the items.\n",
    "## Let's move into a dictionary called bio_dict and then \n",
    "## place in a list of dicts called bio_list.\n",
    "\n"
   ]
  },
  {
   "cell_type": "markdown",
   "metadata": {
    "slideshow": {
     "slide_type": "slide"
    }
   },
   "source": [
    "## 5. For Loops through Dictionaries\n"
   ]
  },
  {
   "cell_type": "code",
   "execution_count": null,
   "metadata": {
    "slideshow": {
     "slide_type": "slide"
    }
   },
   "outputs": [],
   "source": [
    "##  RUN THIS CELL - You have a list of CEO salaries from 1969.\n",
    "sals_1969 = [47_000, 65_000, 39_000, 96_000]"
   ]
  },
  {
   "cell_type": "code",
   "execution_count": null,
   "metadata": {
    "slideshow": {
     "slide_type": "slide"
    }
   },
   "outputs": [],
   "source": [
    "## We need the value of these salaries updated for every decade till 2019\n",
    "## Here are the CPIs for each decade in list of dictionaries from 1969 to 2019.\n",
    "\n",
    "decades_cpi = [\n",
    "   {\"year\": 1979, \"cpi\": 72.6,},\n",
    "    {\"year\": 1989, \"cpi\": 124}, \n",
    "    {\"year\": 1999, \"cpi\": 166.6},\n",
    "    {\"year\": 2009, \"cpi\": 214.537},\n",
    "    {\"year\": 2019, \"cpi\": 255.657}\n",
    "              ]\n",
    "\n",
    "## Show the contents of this list of dictionaries\n",
    "decades_cpi"
   ]
  },
  {
   "cell_type": "code",
   "execution_count": null,
   "metadata": {
    "slideshow": {
     "slide_type": "slide"
    }
   },
   "outputs": [],
   "source": [
    "## What datatype is decades_cpi\n"
   ]
  },
  {
   "cell_type": "code",
   "execution_count": null,
   "metadata": {
    "slideshow": {
     "slide_type": "slide"
    }
   },
   "outputs": [],
   "source": [
    "# Check what type of data each list item is within decades_cpi\n",
    "\n"
   ]
  },
  {
   "cell_type": "code",
   "execution_count": null,
   "metadata": {
    "slideshow": {
     "slide_type": "slide"
    }
   },
   "outputs": [],
   "source": [
    "## Print out each value in this format:\n",
    "## \"key --> value\"\n"
   ]
  },
  {
   "cell_type": "markdown",
   "metadata": {
    "slideshow": {
     "slide_type": "slide"
    }
   },
   "source": [
    "### The key alternates between the strings \"year\" and \"cpi\" in this loop.\n",
    "\n",
    "### How do we actually target the values for \"year\" and \"cpi\" and place them in our calculations?"
   ]
  },
  {
   "cell_type": "code",
   "execution_count": null,
   "metadata": {
    "slideshow": {
     "slide_type": "slide"
    }
   },
   "outputs": [],
   "source": [
    "## show it here:\n",
    "\n"
   ]
  },
  {
   "cell_type": "code",
   "execution_count": null,
   "metadata": {
    "slideshow": {
     "slide_type": "slide"
    }
   },
   "outputs": [],
   "source": [
    "## Loop through each salary and update its value for each decade\n"
   ]
  },
  {
   "cell_type": "markdown",
   "metadata": {
    "slideshow": {
     "slide_type": "slide"
    }
   },
   "source": [
    "## 6. Conditional Statements"
   ]
  },
  {
   "cell_type": "code",
   "execution_count": null,
   "metadata": {
    "slideshow": {
     "slide_type": "slide"
    }
   },
   "outputs": [],
   "source": [
    "## create a list of 10 random numbers anywhere from -100 to 100 \n",
    "##name the list numbers\n",
    "import random\n",
    "numbers = random.sample(range(-100, 100), 10)\n",
    "numbers"
   ]
  },
  {
   "cell_type": "markdown",
   "metadata": {
    "slideshow": {
     "slide_type": "slide"
    }
   },
   "source": [
    "## Create conditional statements that tell us if the last number and the penultimate numberare positive or negative.\n",
    "## Print a sentence that reads:\n",
    "```\n",
    "\"The last number [what is it?] is [positive or negative] while \n",
    " the penultimate number [what is it?] is [negative or positive].\"\n",
    "```"
   ]
  },
  {
   "cell_type": "code",
   "execution_count": null,
   "metadata": {
    "slideshow": {
     "slide_type": "slide"
    }
   },
   "outputs": [],
   "source": [
    "##  BUILD WITH if else statements\n"
   ]
  },
  {
   "cell_type": "markdown",
   "metadata": {
    "slideshow": {
     "slide_type": "slide"
    }
   },
   "source": [
    "## Tenary Expression\n",
    "```variable = value1 if some_condition else value2```"
   ]
  },
  {
   "cell_type": "code",
   "execution_count": null,
   "metadata": {
    "slideshow": {
     "slide_type": "slide"
    }
   },
   "outputs": [],
   "source": [
    "## BUILD WITH ternary expression\n"
   ]
  },
  {
   "cell_type": "markdown",
   "metadata": {
    "slideshow": {
     "slide_type": "slide"
    }
   },
   "source": [
    "## Multiple Tenary Expression\n",
    "```variable = value1 if condition1 else value2 if condition2 else value3 ```"
   ]
  },
  {
   "cell_type": "code",
   "execution_count": null,
   "metadata": {
    "slideshow": {
     "slide_type": "slide"
    }
   },
   "outputs": [],
   "source": [
    "## A simple example\n"
   ]
  },
  {
   "cell_type": "code",
   "execution_count": null,
   "metadata": {
    "slideshow": {
     "slide_type": "slide"
    }
   },
   "outputs": [],
   "source": [
    "'''\n",
    "write a simple if else statement that prints out x is greater than y,\n",
    "or y is greater than x or if they are equal.\n",
    "'''\n"
   ]
  },
  {
   "cell_type": "code",
   "execution_count": null,
   "metadata": {
    "slideshow": {
     "slide_type": "slide"
    }
   },
   "outputs": [],
   "source": [
    "## Now as a ternary\n"
   ]
  },
  {
   "cell_type": "markdown",
   "metadata": {
    "slideshow": {
     "slide_type": "slide"
    }
   },
   "source": [
    "## Challenge\n",
    "\n",
    "Write a tenary expression to update the conditional above to deal Zeros. For example if the random list generates:\n",
    "\n",
    "```[46, 30, 31, -56, 18, 57, -90, 81, 0, 0]```\n",
    "\n",
    "It should print out:\n",
    "\n",
    "```The last number (0) is neither negative or positive at zero while the penultimate number (0) is neither negative or positive at zero.```"
   ]
  },
  {
   "cell_type": "code",
   "execution_count": null,
   "metadata": {
    "slideshow": {
     "slide_type": "slide"
    }
   },
   "outputs": [],
   "source": [
    "## activate the list\n",
    "numbers = [46, 30, 31, -56, 18, 57, -90, 81, 0, 0]"
   ]
  },
  {
   "cell_type": "code",
   "execution_count": null,
   "metadata": {
    "slideshow": {
     "slide_type": "slide"
    }
   },
   "outputs": [],
   "source": [
    "## write your multiple ternary expression\n"
   ]
  }
 ],
 "metadata": {
  "celltoolbar": "Slideshow",
  "kernelspec": {
   "display_name": "Python 3",
   "language": "python",
   "name": "python3"
  },
  "language_info": {
   "codemirror_mode": {
    "name": "ipython",
    "version": 3
   },
   "file_extension": ".py",
   "mimetype": "text/x-python",
   "name": "python",
   "nbconvert_exporter": "python",
   "pygments_lexer": "ipython3",
   "version": "3.7.7"
  }
 },
 "nbformat": 4,
 "nbformat_minor": 2
}
