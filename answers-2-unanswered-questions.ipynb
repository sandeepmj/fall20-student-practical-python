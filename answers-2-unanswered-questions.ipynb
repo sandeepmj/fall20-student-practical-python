{
 "cells": [
  {
   "cell_type": "markdown",
   "metadata": {},
   "source": [
    "# Answers to questions that I couldn't answer during class"
   ]
  },
  {
   "cell_type": "markdown",
   "metadata": {},
   "source": [
    "### Week 1"
   ]
  },
  {
   "cell_type": "markdown",
   "metadata": {},
   "source": [
    "## 1. Will ```set()``` always return a reordered list?\n",
    "\n",
    "Looks like ```set()``` is a form of unstructured data and does not keep the insertion order.\n",
    "\n",
    "You can use list comprehension to preserve the order. (we'll cover this soon!)\n",
    "\n",
    "More info here in [stackoverflow].\n",
    "\n",
    "[stackoverflow]: https://stackoverflow.com/questions/9792664/converting-a-list-to-a-set-changes-element-order\n",
    "\n"
   ]
  },
  {
   "cell_type": "markdown",
   "metadata": {},
   "source": [
    "## 2. If I understood correctly, the question was: Can you use the ```range()``` function to call ranges like 1 through 4, and finish with a single extra integer like 8?\n",
    "\n",
    "The output you're looking for in this case would be ```1, 2, 3, 8```.\n",
    "\n",
    "Remember the number ```4``` is excluded since ```range()``` is not inclusive of the final number.\n",
    "\n",
    "As far as I can tell it looks like that is not possible using purely  ```range()```."
   ]
  },
  {
   "cell_type": "code",
   "execution_count": 33,
   "metadata": {},
   "outputs": [
    {
     "name": "stdout",
     "output_type": "stream",
     "text": [
      "1, 2, 3, 8\n"
     ]
    }
   ],
   "source": [
    "## declare range in variable\n",
    "my_range = range(1,4)\n",
    "\n",
    "## find the final value in your range\n",
    "last_number = my_range[-1]\n",
    "\n",
    "## declare a list that will hold your range values\n",
    "my_list = []\n",
    "\n",
    "## for loop through your range\n",
    "for number in my_range:\n",
    "    ## append in number in your range to your list\n",
    "    my_list.append(number)\n",
    "    \n",
    "    ## if the number in the for loop is equal to your last_number in the range, add \"8\" to your list\n",
    "    if number == last_number:\n",
    "        my_list.append(8)\n",
    "        \n",
    "## print that list        \n",
    "print(*my_list, sep=', ')\n",
    "\n",
    "\n"
   ]
  },
  {
   "cell_type": "markdown",
   "metadata": {},
   "source": [
    "### Any practical uses for this?\n",
    "I can actually see some practical applications. \n",
    "\n",
    "For example, let's say we encounter a website that has URLs that have a suffix of 1 through 1000. so something like ```www.example.com/page1.html``` through ```www.example.com/page1000.html```. We want to scrape pages 20 through 30 and pages 250 through 260.\n",
    "\n",
    "We could do this:\n",
    "\n"
   ]
  },
  {
   "cell_type": "code",
   "execution_count": 34,
   "metadata": {},
   "outputs": [
    {
     "name": "stdout",
     "output_type": "stream",
     "text": [
      "Group 1: [20, 21, 22, 23, 24, 25, 26, 27, 28, 29, 30]\n",
      "Group 2: [250, 251, 252, 253, 254, 255, 256, 257, 258, 259, 260]\n"
     ]
    }
   ],
   "source": [
    "## declare our two ranges in variables\n",
    "range1 = range(20,31)\n",
    "range2 = range(250,261)\n",
    "\n",
    "group1 = [] ## list in which we store results of the range\n",
    "for number in range1:\n",
    "    group1.append(number)\n",
    "\n",
    "group2 = [] ## list in which we store results of the range\n",
    "for number in range2:\n",
    "    group2.append(number)\n",
    "    \n",
    "    \n",
    "print(f\"Group 1: {group1}\")\n",
    "print(f\"Group 2: {group2}\")\n",
    "\n",
    " ## we'll learn to do all the above more succinctly soon.   "
   ]
  },
  {
   "cell_type": "code",
   "execution_count": 35,
   "metadata": {},
   "outputs": [
    {
     "name": "stdout",
     "output_type": "stream",
     "text": [
      "[20, 21, 22, 23, 24, 25, 26, 27, 28, 29, 30, 250, 251, 252, 253, 254, 255, 256, 257, 258, 259, 260]\n"
     ]
    }
   ],
   "source": [
    "## we gather all the suffixes we need in a list and scrape only these suffixes.\n",
    "combined_groups = [*group1, *group2] ## use * unpacking to combine the lists.\n",
    "print(combined_groups)"
   ]
  },
  {
   "cell_type": "code",
   "execution_count": null,
   "metadata": {},
   "outputs": [],
   "source": []
  },
  {
   "cell_type": "code",
   "execution_count": null,
   "metadata": {},
   "outputs": [],
   "source": []
  }
 ],
 "metadata": {
  "kernelspec": {
   "display_name": "Python 3",
   "language": "python",
   "name": "python3"
  },
  "language_info": {
   "codemirror_mode": {
    "name": "ipython",
    "version": 3
   },
   "file_extension": ".py",
   "mimetype": "text/x-python",
   "name": "python",
   "nbconvert_exporter": "python",
   "pygments_lexer": "ipython3",
   "version": "3.8.3"
  }
 },
 "nbformat": 4,
 "nbformat_minor": 4
}
