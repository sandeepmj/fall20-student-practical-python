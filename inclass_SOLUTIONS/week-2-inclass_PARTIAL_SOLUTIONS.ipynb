{
 "cells": [
  {
   "cell_type": "markdown",
   "metadata": {
    "slideshow": {
     "slide_type": "slide"
    }
   },
   "source": [
    "# Week 2 - Flow Control"
   ]
  },
  {
   "cell_type": "markdown",
   "metadata": {
    "slideshow": {
     "slide_type": "slide"
    }
   },
   "source": [
    "#### The following play critical roles:  \n",
    "1. Indentation - running blocks of code.\n",
    "2. Time Delays - pacing the speed of our code.\n",
    "3. For Loops - iterating through data\n",
    "4. For Loops through multiple but related lists\n",
    "5. For Loops through Dictionaries\n",
    "6. Conditional Statements"
   ]
  },
  {
   "cell_type": "markdown",
   "metadata": {
    "slideshow": {
     "slide_type": "slide"
    }
   },
   "source": [
    "## 1. Indentation\n",
    "\n",
    "* Python is unique in requiring indentations.\n",
    "* Indentations signify the start and end of code that belongs together (code blocks).\n",
    "* Without proper indentation, your code won't do what you expect.\n",
    "* Not working as expected? Check if you have indented correctly!"
   ]
  },
  {
   "cell_type": "markdown",
   "metadata": {
    "slideshow": {
     "slide_type": "slide"
    }
   },
   "source": [
    "### Basic Flow Example: A Counter"
   ]
  },
  {
   "cell_type": "code",
   "execution_count": null,
   "metadata": {
    "slideshow": {
     "slide_type": "slide"
    }
   },
   "outputs": [],
   "source": [
    "## Using a While loop build a counter that counts from 1 to 5.\n",
    "## Print the counter numbers in statement that reads \"The count is\" whatever the count is.\n",
    "## Once it reaches 5, it should print \"Done counting to 5!\"\n",
    "\n",
    "counter = 1\n",
    "while counter < 6:\n",
    "    \n",
    "    print(f\"the count is {counter}\")\n",
    "#     counter = counter +1\n",
    "    counter+=1\n",
    "print(\"done printing to 5\")"
   ]
  },
  {
   "cell_type": "markdown",
   "metadata": {
    "slideshow": {
     "slide_type": "slide"
    }
   },
   "source": [
    "### You just controlled flow using indentation and a while loop."
   ]
  },
  {
   "cell_type": "markdown",
   "metadata": {
    "slideshow": {
     "slide_type": "subslide"
    }
   },
   "source": [
    "<img src=\"../support_files/indent1.png\" style=\"width: 70%;\">"
   ]
  },
  {
   "cell_type": "markdown",
   "metadata": {
    "slideshow": {
     "slide_type": "subslide"
    }
   },
   "source": [
    "<img src=\"../support_files/indent2.png\" style=\"width: 70%;\">"
   ]
  },
  {
   "cell_type": "markdown",
   "metadata": {
    "slideshow": {
     "slide_type": "subslide"
    }
   },
   "source": [
    "<img src=\"../support_files/indent3.png\" style=\"width: 70%;\">"
   ]
  },
  {
   "cell_type": "markdown",
   "metadata": {
    "slideshow": {
     "slide_type": "slide"
    }
   },
   "source": [
    "## How fast does our code run?"
   ]
  },
  {
   "cell_type": "code",
   "execution_count": null,
   "metadata": {
    "slideshow": {
     "slide_type": "slide"
    }
   },
   "outputs": [],
   "source": [
    "import datetime as dt # a package that helps us track time and dates\n",
    "# import pandas as pd\n",
    "# import numpy as np\n",
    "\n",
    "counter = 1\n",
    "while counter < 6:\n",
    "    current = dt.datetime.now()# tells us the exact current date & time\n",
    "    print(f\"Run {counter}: This process ran at {current}\")\n",
    "    counter+=1\n",
    "    \n",
    "print(\"DONE PRINTING\")\n"
   ]
  },
  {
   "cell_type": "markdown",
   "metadata": {
    "slideshow": {
     "slide_type": "slide"
    }
   },
   "source": [
    "## 2. Time Delays\n",
    "\n",
    "**Delay timers** are critical when scraping data from websites for several reasons. The **two** most important reasons are:\n",
    "\n",
    "1. Sometimes your scraper clicks on links and must wait for the content to actually populated on the new page. Your script is likely to run faster than a page can load.\n",
    "\n",
    "\n",
    "2. You don't want your scraper to be mistaken for a hostile attack on a server. You have to slow down the scrapes."
   ]
  },
  {
   "cell_type": "markdown",
   "metadata": {
    "slideshow": {
     "slide_type": "slide"
    }
   },
   "source": [
    "### Step 1 - Import required libraries"
   ]
  },
  {
   "cell_type": "code",
   "execution_count": null,
   "metadata": {
    "slideshow": {
     "slide_type": "slide"
    }
   },
   "outputs": [],
   "source": [
    "import time # time is required. we will use its sleep function\n",
    "# import datetime as dt ## we already imported this earlier, but you'd need it if starting fresh"
   ]
  },
  {
   "cell_type": "markdown",
   "metadata": {
    "slideshow": {
     "slide_type": "slide"
    }
   },
   "source": [
    "#### Let's add a 5-second delay:"
   ]
  },
  {
   "cell_type": "code",
   "execution_count": null,
   "metadata": {
    "scrolled": false,
    "slideshow": {
     "slide_type": "slide"
    }
   },
   "outputs": [],
   "source": [
    "counter = 1\n",
    "\n",
    "while counter < 6:\n",
    "    current = dt.datetime.now()\n",
    "    print(f\"Run {counter}: This process ran at {current}\")\n",
    "    time.sleep(5)\n",
    "    counter += 1\n",
    "print(\"DONE PRINTING\")"
   ]
  },
  {
   "cell_type": "markdown",
   "metadata": {
    "slideshow": {
     "slide_type": "slide"
    }
   },
   "source": [
    "### Randomize\n",
    "\n",
    "Software that tracks traffic to a server might grow suspicious about a hit every nth seconds.\n",
    "\n",
    "Let's **randomize** the time between hits by using ```randint``` from the ```random``` library.\n",
    "\n",
    "\n",
    "You might sometimes see me use ```randrange``` from the ```random``` library using ``` from random import randrange```.\n",
    "\n",
    "**Want to know why?**\n"
   ]
  },
  {
   "cell_type": "code",
   "execution_count": null,
   "metadata": {
    "slideshow": {
     "slide_type": "slide"
    }
   },
   "outputs": [],
   "source": [
    "from random import randint # import necessary library\n",
    "randint(0,10)\n"
   ]
  },
  {
   "cell_type": "code",
   "execution_count": null,
   "metadata": {},
   "outputs": [],
   "source": [
    "from random import randrange ## import necessary library\n",
    "randrange(0,60, 5)"
   ]
  },
  {
   "cell_type": "code",
   "execution_count": null,
   "metadata": {
    "slideshow": {
     "slide_type": "slide"
    }
   },
   "outputs": [],
   "source": [
    "# we've already imported random\n",
    "counter = 1\n",
    "\n",
    "while counter < 6:\n",
    "    delay = randint(4,10)\n",
    "    current = dt.datetime.now()\n",
    "    print(f\"Run {counter}: This process was delayed for {delay} seconds and ran at {current}\")\n",
    "    time.sleep(delay)\n",
    "    counter += 1\n",
    "print(\"DONE PRINTING\")"
   ]
  },
  {
   "cell_type": "code",
   "execution_count": null,
   "metadata": {
    "slideshow": {
     "slide_type": "slide"
    }
   },
   "outputs": [],
   "source": [
    "## ONE LINE LESS of code; we've already imported from random import randrange \n",
    "counter = 1\n",
    "\n",
    "while counter < 6:\n",
    "    current = dt.datetime.now()\n",
    "    print(f\"Run {counter}: This process ran at {current}\")\n",
    "    time.sleep(randrange(3,5))\n",
    "    counter += 1\n",
    "print(\"DONE PRINTING\")"
   ]
  },
  {
   "cell_type": "markdown",
   "metadata": {
    "slideshow": {
     "slide_type": "slide"
    }
   },
   "source": [
    "## 3. For Loops\n",
    "\n",
    "### For Loops are your best friend - most used Python expression for journalists:\n",
    "\n",
    "### Iterate over:\n",
    "* data stored in a list and run some calculation on each value;\n",
    "* a list of URLs and visit each site to scrape data;\n",
    "* data stored in dictionary keys and values and return what you are looking for.\n"
   ]
  },
  {
   "cell_type": "markdown",
   "metadata": {
    "slideshow": {
     "slide_type": "slide"
    }
   },
   "source": [
    "## A simple ```for loop``` example:"
   ]
  },
  {
   "cell_type": "markdown",
   "metadata": {
    "slideshow": {
     "slide_type": "subslide"
    }
   },
   "source": [
    "<img src=\"../support_files/forloop2.png\" style=\"width: 70%;\">"
   ]
  },
  {
   "cell_type": "markdown",
   "metadata": {
    "slideshow": {
     "slide_type": "subslide"
    }
   },
   "source": [
    "<img src=\"../support_files/forloop3.png\" style=\"width: 70%;\">"
   ]
  },
  {
   "cell_type": "markdown",
   "metadata": {
    "slideshow": {
     "slide_type": "subslide"
    }
   },
   "source": [
    "<img src=\"../support_files/forloop4.png\" style=\"width: 70%;\">"
   ]
  },
  {
   "cell_type": "markdown",
   "metadata": {
    "slideshow": {
     "slide_type": "subslide"
    }
   },
   "source": [
    "<img src=\"../support_files/forloop5.png\" style=\"width: 70%;\">"
   ]
  },
  {
   "cell_type": "markdown",
   "metadata": {
    "slideshow": {
     "slide_type": "subslide"
    }
   },
   "source": [
    "<img src=\"../support_files/forloop6.png\" style=\"width: 70%;\">"
   ]
  },
  {
   "cell_type": "markdown",
   "metadata": {
    "slideshow": {
     "slide_type": "subslide"
    }
   },
   "source": [
    "<img src=\"../support_files/forloop7.png\" style=\"width: 70%;\">"
   ]
  },
  {
   "cell_type": "markdown",
   "metadata": {
    "slideshow": {
     "slide_type": "subslide"
    }
   },
   "source": [
    "<img src=\"../support_files/forloop8.png\" style=\"width: 70%;\">"
   ]
  },
  {
   "cell_type": "markdown",
   "metadata": {
    "slideshow": {
     "slide_type": "subslide"
    }
   },
   "source": [
    "<img src=\"../support_files/forloop9.png\" style=\"width: 70%;\">"
   ]
  },
  {
   "cell_type": "markdown",
   "metadata": {
    "slideshow": {
     "slide_type": "subslide"
    }
   },
   "source": [
    "<img src=\"../support_files/forloop10.png\" style=\"width: 70%;\">"
   ]
  },
  {
   "cell_type": "markdown",
   "metadata": {
    "slideshow": {
     "slide_type": "subslide"
    }
   },
   "source": [
    "<img src=\"../support_files/forloop11.png\" style=\"width: 70%;\">"
   ]
  },
  {
   "cell_type": "markdown",
   "metadata": {
    "slideshow": {
     "slide_type": "subslide"
    }
   },
   "source": [
    "<img src=\"../support_files/forloop12.png\" style=\"width: 70%;\">"
   ]
  },
  {
   "cell_type": "markdown",
   "metadata": {
    "slideshow": {
     "slide_type": "slide"
    }
   },
   "source": [
    "Let's take **For Loops** for test drive:"
   ]
  },
  {
   "cell_type": "code",
   "execution_count": null,
   "metadata": {
    "slideshow": {
     "slide_type": "slide"
    }
   },
   "outputs": [],
   "source": [
    "##  RUN THIS CELL - Use this list of CEO salaries from 1985 \n",
    "ceo_salaries_1985 = [150_000, 201_000, 110_000, \n",
    "                     75_000, 92_000, 55_000]\n",
    "\n",
    "ceo_salaries_1985"
   ]
  },
  {
   "cell_type": "code",
   "execution_count": null,
   "metadata": {
    "slideshow": {
     "slide_type": "slide"
    }
   },
   "outputs": [],
   "source": [
    "## Print each salary with in the following format:\n",
    "## \"A CEO earned [some value] in 1985.\"\n",
    "for moolah in ceo_salaries_1985:\n",
    "    print(f\"A CEO earned ${moolah:,} in 1985\")"
   ]
  },
  {
   "cell_type": "code",
   "execution_count": null,
   "metadata": {
    "slideshow": {
     "slide_type": "slide"
    }
   },
   "outputs": [],
   "source": [
    "## Now update each salary to 2019 dollars.\n",
    "## Print the following info:\n",
    "## \"A CEO's salary of [1985 salary] in 1985 is worth [updated salary] in 2019 dollars.\"\n",
    "## The CPI for 1985 is 107.6\n",
    "## The 2019 CPI is 255.657\n",
    "## The formula is: updated_salary = (oldSalary/oldCPI) * currentCPI\n",
    "old_cpi = 107.6\n",
    "current_cpi = 255.657\n",
    "for kite in ceo_salaries_1985:\n",
    "    updated_salary = (kite/old_cpi) * current_cpi\n",
    "    print(f\"A CEO's salary of ${kite:,.0f} in 1985 is worth ${updated_salary:,.0f} in 2019 dollars.\")"
   ]
  },
  {
   "cell_type": "code",
   "execution_count": null,
   "metadata": {},
   "outputs": [],
   "source": [
    "## save updated salaries in list called salaries_2019\n",
    "old_cpi = 107.6\n",
    "current_cpi = 255.657\n",
    "salaries_2019 = []\n",
    "for salary in ceo_salaries_1985:\n",
    "    updated_salary = (salary/old_cpi) * current_cpi\n",
    "    salaries_2019.append(round(updated_salary))\n",
    "    print(f\"A CEO's salary of ${salary:,.0f} in 1985 is worth ${updated_salary:,.0f} in 2019 dollars.\")"
   ]
  },
  {
   "cell_type": "code",
   "execution_count": null,
   "metadata": {},
   "outputs": [],
   "source": [
    "salaries_2019"
   ]
  },
  {
   "cell_type": "markdown",
   "metadata": {
    "slideshow": {
     "slide_type": "slide"
    }
   },
   "source": [
    "## 4. For Loops through multiple but related lists"
   ]
  },
  {
   "cell_type": "code",
   "execution_count": 1,
   "metadata": {
    "slideshow": {
     "slide_type": "slide"
    }
   },
   "outputs": [],
   "source": [
    "##  RUN THIS CELL - You scrape a site and each datapoint is stored in different lists\n",
    "first_names = [\"Irene\", \"Ursula\", \"Elon\", \"Tim\"]\n",
    "last_names = [\"Rosenfeld\", \"Burns\", \"Musk\", \"Cook\"]\n",
    "titles = [\"Chairman and CEO\", \"Chairman and CEO\", \"CEO\", \"CEO\"]\n",
    "companies = [\"Kraft Foods\", \"Xerox\", \"Tesla\", \"Apple\"]\n",
    "industries = [\"Food and Beverage\", \"Process and Document Management\", \"Auto Manufacturing\", \"Consumer Technology\"]"
   ]
  },
  {
   "cell_type": "markdown",
   "metadata": {
    "slideshow": {
     "slide_type": "slide"
    }
   },
   "source": [
    "### How do you align each related item from the different lists that belong together?"
   ]
  },
  {
   "cell_type": "code",
   "execution_count": 2,
   "metadata": {},
   "outputs": [
    {
     "name": "stdout",
     "output_type": "stream",
     "text": [
      "Name: Rosenfeld, Irene \n",
      "Title: Chairman and CEO\n",
      "Company: Kraft Foods\n",
      "Industry: Food and Beverage\n",
      "---------------\n",
      "Name: Burns, Ursula \n",
      "Title: Chairman and CEO\n",
      "Company: Xerox\n",
      "Industry: Process and Document Management\n",
      "---------------\n",
      "Name: Musk, Elon \n",
      "Title: CEO\n",
      "Company: Tesla\n",
      "Industry: Auto Manufacturing\n",
      "---------------\n",
      "Name: Cook, Tim \n",
      "Title: CEO\n",
      "Company: Apple\n",
      "Industry: Consumer Technology\n",
      "---------------\n"
     ]
    }
   ],
   "source": [
    "## align each related item\n",
    "for (fname, lname, rank, co, field) in zip(first_names, last_names, titles, companies, industries):\n",
    "    print(f\"Name: {lname}, {fname} \")\n",
    "    print(f\"Title: {rank}\")\n",
    "    print(f\"Company: {co}\")\n",
    "    print(f\"Industry: {field}\")\n",
    "    print(\"---------------\")\n",
    "    "
   ]
  },
  {
   "cell_type": "code",
   "execution_count": 3,
   "metadata": {
    "slideshow": {
     "slide_type": "slide"
    }
   },
   "outputs": [
    {
     "data": {
      "text/plain": [
       "[{'first_name': 'Irene',\n",
       "  'last_name': 'Rosenfeld',\n",
       "  'title': 'Chairman and CEO',\n",
       "  'company': 'Kraft Foods',\n",
       "  'industry': 'Food and Beverage'},\n",
       " {'first_name': 'Ursula',\n",
       "  'last_name': 'Burns',\n",
       "  'title': 'Chairman and CEO',\n",
       "  'company': 'Xerox',\n",
       "  'industry': 'Process and Document Management'},\n",
       " {'first_name': 'Elon',\n",
       "  'last_name': 'Musk',\n",
       "  'title': 'CEO',\n",
       "  'company': 'Tesla',\n",
       "  'industry': 'Auto Manufacturing'},\n",
       " {'first_name': 'Tim',\n",
       "  'last_name': 'Cook',\n",
       "  'title': 'CEO',\n",
       "  'company': 'Apple',\n",
       "  'industry': 'Consumer Technology'}]"
      ]
     },
     "execution_count": 3,
     "metadata": {},
     "output_type": "execute_result"
    }
   ],
   "source": [
    "## We don't just want to print the items.\n",
    "## Let's move into a dictionary called bio_dict and then \n",
    "## place in a list of dicts called bio_list.\n",
    "\n",
    "ceo_bio_list = []\n",
    "for (first_names, last_names, titles, companies, industries) in zip(first_names, last_names, titles, companies, industries):\n",
    "    bio_dict = {\"first_name\": first_names, \"last_name\": last_names, \"title\": titles, \"company\": companies, \"industry\": industries}\n",
    "#     print(bio_dict)\n",
    "    ceo_bio_list.append(bio_dict)\n",
    "    \n",
    "ceo_bio_list"
   ]
  },
  {
   "cell_type": "markdown",
   "metadata": {
    "slideshow": {
     "slide_type": "slide"
    }
   },
   "source": [
    "## 5. For Loops through Dictionaries\n"
   ]
  },
  {
   "cell_type": "code",
   "execution_count": 4,
   "metadata": {
    "slideshow": {
     "slide_type": "slide"
    }
   },
   "outputs": [],
   "source": [
    "##  RUN THIS CELL - You have a list of CEO salaries from 1969.\n",
    "sals_1969 = [47_000, 65_000, 39_000, 96_000]"
   ]
  },
  {
   "cell_type": "code",
   "execution_count": 5,
   "metadata": {
    "slideshow": {
     "slide_type": "slide"
    }
   },
   "outputs": [
    {
     "data": {
      "text/plain": [
       "[{'year': 1979, 'cpi': 72.6},\n",
       " {'year': 1989, 'cpi': 124},\n",
       " {'year': 1999, 'cpi': 166.6},\n",
       " {'year': 2009, 'cpi': 214.537},\n",
       " {'year': 2019, 'cpi': 255.657}]"
      ]
     },
     "execution_count": 5,
     "metadata": {},
     "output_type": "execute_result"
    }
   ],
   "source": [
    "## We need the value of these salaries updated for every decade till 2019\n",
    "## Here are the CPIs for each decade in list of dictionaries from 1969 to 2019.\n",
    "\n",
    "decades_cpi = [\n",
    "   {\"year\": 1979, \"cpi\": 72.6,},\n",
    "    {\"year\": 1989, \"cpi\": 124}, \n",
    "    {\"year\": 1999, \"cpi\": 166.6},\n",
    "    {\"year\": 2009, \"cpi\": 214.537},\n",
    "    {\"year\": 2019, \"cpi\": 255.657}\n",
    "              ]\n",
    "\n",
    "## Show the contents of this list of dictionaries\n",
    "decades_cpi"
   ]
  },
  {
   "cell_type": "code",
   "execution_count": 6,
   "metadata": {
    "slideshow": {
     "slide_type": "slide"
    }
   },
   "outputs": [
    {
     "data": {
      "text/plain": [
       "list"
      ]
     },
     "execution_count": 6,
     "metadata": {},
     "output_type": "execute_result"
    }
   ],
   "source": [
    "## What datatype is decades_cpi\n",
    "type(decades_cpi)"
   ]
  },
  {
   "cell_type": "code",
   "execution_count": 7,
   "metadata": {
    "slideshow": {
     "slide_type": "slide"
    }
   },
   "outputs": [
    {
     "name": "stdout",
     "output_type": "stream",
     "text": [
      "<class 'dict'>\n",
      "<class 'dict'>\n",
      "<class 'dict'>\n",
      "<class 'dict'>\n",
      "<class 'dict'>\n"
     ]
    }
   ],
   "source": [
    "# Check what type of data each list item is within decades_cpi\n",
    "\n",
    "for thing in decades_cpi:\n",
    "    print(type(thing))"
   ]
  },
  {
   "cell_type": "code",
   "execution_count": 15,
   "metadata": {
    "slideshow": {
     "slide_type": "slide"
    }
   },
   "outputs": [
    {
     "name": "stdout",
     "output_type": "stream",
     "text": [
      "year --> 1979\n",
      "cpi --> 72.6\n",
      "year --> 1989\n",
      "cpi --> 124\n",
      "year --> 1999\n",
      "cpi --> 166.6\n",
      "year --> 2009\n",
      "cpi --> 214.537\n",
      "year --> 2019\n",
      "cpi --> 255.657\n"
     ]
    }
   ],
   "source": [
    "## Print out each value in this format:\n",
    "## \"key --> value\"\n",
    "for period in decades_cpi:\n",
    "    for k, v in period.items():\n",
    "        print(f\"{k} --> {v}\")"
   ]
  },
  {
   "cell_type": "markdown",
   "metadata": {
    "slideshow": {
     "slide_type": "slide"
    }
   },
   "source": [
    "### The key alternates between the strings \"year\" and \"cpi\" in this loop.\n",
    "\n",
    "### How do we actually target the values for \"year\" and \"cpi\" and place them in our calculations?"
   ]
  },
  {
   "cell_type": "code",
   "execution_count": 17,
   "metadata": {
    "slideshow": {
     "slide_type": "slide"
    }
   },
   "outputs": [
    {
     "name": "stdout",
     "output_type": "stream",
     "text": [
      "{'year': 1979, 'cpi': 72.6}\n",
      "1979 -----> 72.6\n",
      "{'year': 1989, 'cpi': 124}\n",
      "1989 -----> 124\n",
      "{'year': 1999, 'cpi': 166.6}\n",
      "1999 -----> 166.6\n",
      "{'year': 2009, 'cpi': 214.537}\n",
      "2009 -----> 214.537\n",
      "{'year': 2019, 'cpi': 255.657}\n",
      "2019 -----> 255.657\n"
     ]
    }
   ],
   "source": [
    "## show it here:\n",
    "\n",
    "for period in decades_cpi: ## pull out each dict temp\n",
    "#     print(type(period))\n",
    "    print(period)\n",
    "    that_year = period.get(\"year\")\n",
    "    old_cpi = period.get(\"cpi\")\n",
    "    print(f\"{that_year} -----> {old_cpi}\")\n"
   ]
  },
  {
   "cell_type": "code",
   "execution_count": 18,
   "metadata": {
    "slideshow": {
     "slide_type": "slide"
    }
   },
   "outputs": [
    {
     "name": "stdout",
     "output_type": "stream",
     "text": [
      "A salary of $47,000 in 1969 is worth $92,975 in 1979\n",
      "A salary of $47,000 in 1969 is worth $158,801 in 1989\n",
      "A salary of $47,000 in 1969 is worth $213,357 in 1999\n",
      "A salary of $47,000 in 1969 is worth $274,748 in 2009\n",
      "A salary of $47,000 in 1969 is worth $327,408 in 2019\n",
      "*********************************************************\n",
      "A salary of $65,000 in 1969 is worth $128,583 in 1979\n",
      "A salary of $65,000 in 1969 is worth $219,619 in 1989\n",
      "A salary of $65,000 in 1969 is worth $295,068 in 1999\n",
      "A salary of $65,000 in 1969 is worth $379,970 in 2009\n",
      "A salary of $65,000 in 1969 is worth $452,799 in 2019\n",
      "*********************************************************\n",
      "A salary of $39,000 in 1969 is worth $77,150 in 1979\n",
      "A salary of $39,000 in 1969 is worth $131,771 in 1989\n",
      "A salary of $39,000 in 1969 is worth $177,041 in 1999\n",
      "A salary of $39,000 in 1969 is worth $227,982 in 2009\n",
      "A salary of $39,000 in 1969 is worth $271,679 in 2019\n",
      "*********************************************************\n",
      "A salary of $96,000 in 1969 is worth $189,907 in 1979\n",
      "A salary of $96,000 in 1969 is worth $324,360 in 1989\n",
      "A salary of $96,000 in 1969 is worth $435,793 in 1999\n",
      "A salary of $96,000 in 1969 is worth $561,187 in 2009\n",
      "A salary of $96,000 in 1969 is worth $668,749 in 2019\n",
      "*********************************************************\n"
     ]
    }
   ],
   "source": [
    "## Loop through each salary and update its value for each decade\n",
    "CPI_1969 = 36.7\n",
    "for sal in sals_1969:\n",
    "    for period in decades_cpi:\n",
    "        cpi = period.get(\"cpi\")\n",
    "        that_year = period.get(\"year\")\n",
    "        updated_sal = (sal/CPI_1969) * cpi\n",
    "        print(f\"A salary of ${sal:,} in 1969 is worth ${updated_sal:,.0f} in {that_year}\")\n",
    "    print(\"*********************************************************\")"
   ]
  },
  {
   "cell_type": "markdown",
   "metadata": {
    "slideshow": {
     "slide_type": "slide"
    }
   },
   "source": [
    "## 6. Conditional Statements"
   ]
  },
  {
   "cell_type": "code",
   "execution_count": null,
   "metadata": {
    "slideshow": {
     "slide_type": "slide"
    }
   },
   "outputs": [],
   "source": [
    "## create a list of 10 random numbers anywhere from -100 to 100 \n",
    "##name the list numbers\n",
    "import random\n",
    "numbers = random.sample(range(-100, 100), 10)\n",
    "numbers"
   ]
  },
  {
   "cell_type": "markdown",
   "metadata": {
    "slideshow": {
     "slide_type": "slide"
    }
   },
   "source": [
    "## Create conditional statements that tell us if the last number and the penultimate numberare positive or negative.\n",
    "## Print a sentence that reads:\n",
    "```\n",
    "\"The last number [what is it?] is [positive or negative] while \n",
    " the penultimate number [what is it?] is [negative or positive].\"\n",
    "```"
   ]
  },
  {
   "cell_type": "code",
   "execution_count": null,
   "metadata": {
    "slideshow": {
     "slide_type": "slide"
    }
   },
   "outputs": [],
   "source": [
    "##  BUILD WITH if else statements\n"
   ]
  },
  {
   "cell_type": "markdown",
   "metadata": {
    "slideshow": {
     "slide_type": "slide"
    }
   },
   "source": [
    "## Tenary Expression\n",
    "```variable = value1 if some_condition else value2```"
   ]
  },
  {
   "cell_type": "code",
   "execution_count": null,
   "metadata": {
    "slideshow": {
     "slide_type": "slide"
    }
   },
   "outputs": [],
   "source": [
    "## BUILD WITH ternary expression\n"
   ]
  },
  {
   "cell_type": "markdown",
   "metadata": {
    "slideshow": {
     "slide_type": "slide"
    }
   },
   "source": [
    "## Multiple Tenary Expression\n",
    "```variable = value1 if condition1 else value2 if condition2 else value3 ```"
   ]
  },
  {
   "cell_type": "code",
   "execution_count": null,
   "metadata": {
    "slideshow": {
     "slide_type": "slide"
    }
   },
   "outputs": [],
   "source": [
    "## A simple example\n"
   ]
  },
  {
   "cell_type": "code",
   "execution_count": null,
   "metadata": {
    "slideshow": {
     "slide_type": "slide"
    }
   },
   "outputs": [],
   "source": [
    "'''\n",
    "write a simple if else statement that prints out x is greater than y,\n",
    "or y is greater than x or if they are equal.\n",
    "'''\n"
   ]
  },
  {
   "cell_type": "code",
   "execution_count": null,
   "metadata": {
    "slideshow": {
     "slide_type": "slide"
    }
   },
   "outputs": [],
   "source": [
    "## Now as a ternary\n"
   ]
  },
  {
   "cell_type": "markdown",
   "metadata": {
    "slideshow": {
     "slide_type": "slide"
    }
   },
   "source": [
    "## Challenge\n",
    "\n",
    "Write a tenary expression to update the conditional above to deal Zeros. For example if the random list generates:\n",
    "\n",
    "```[46, 30, 31, -56, 18, 57, -90, 81, 0, 0]```\n",
    "\n",
    "It should print out:\n",
    "\n",
    "```The last number (0) is neither negative or positive at zero while the penultimate number (0) is neither negative or positive at zero.```"
   ]
  },
  {
   "cell_type": "code",
   "execution_count": null,
   "metadata": {
    "slideshow": {
     "slide_type": "slide"
    }
   },
   "outputs": [],
   "source": [
    "## activate the list\n",
    "numbers = [46, 30, 31, -56, 18, 57, -90, 81, 0, 0]"
   ]
  },
  {
   "cell_type": "code",
   "execution_count": null,
   "metadata": {
    "slideshow": {
     "slide_type": "slide"
    }
   },
   "outputs": [],
   "source": [
    "## write your multiple ternary expression\n"
   ]
  }
 ],
 "metadata": {
  "celltoolbar": "Slideshow",
  "kernelspec": {
   "display_name": "Python 3",
   "language": "python",
   "name": "python3"
  },
  "language_info": {
   "codemirror_mode": {
    "name": "ipython",
    "version": 3
   },
   "file_extension": ".py",
   "mimetype": "text/x-python",
   "name": "python",
   "nbconvert_exporter": "python",
   "pygments_lexer": "ipython3",
   "version": "3.7.7"
  }
 },
 "nbformat": 4,
 "nbformat_minor": 2
}
