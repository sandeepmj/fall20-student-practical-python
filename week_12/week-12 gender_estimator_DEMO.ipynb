{
 "cells": [
  {
   "cell_type": "markdown",
   "metadata": {
    "slideshow": {
     "slide_type": "slide"
    }
   },
   "source": [
    "### An acknowledgment to our Non-Binary community\n",
    "\n",
    "```Genderize``` is based on the theory that analyzing a first name can help estimate someone’s gender. But that really applies only in a binary world in which a name is either male or female. We **don’t** live in a binary world and this approach risks erasing the identities of our non-binary community members. \n",
    "\n",
    "The reality is that one’s name does not determine one’s gender.\n",
    "\n",
    "As journalists, we may find ourselves working on critical projects where we need to know gender identities. For example:\n",
    "\n",
    "- How many refugees in a camp are male and how many are female? \n",
    "- What is the gender diversity of top executive leadership in an industry? \n",
    "- What form of gender equality is there in tenured science professorships or in major prizes?\n",
    "\n",
    "We could certainly ask each individual, but ```Genderize``` is currently the most effective way of approaching massive datasets of names to estimate gender."
   ]
  },
  {
   "cell_type": "markdown",
   "metadata": {
    "id": "Sxg1P4mJjLQJ",
    "slideshow": {
     "slide_type": "slide"
    }
   },
   "source": [
    "# Gender Estimator\n",
    "\n",
    "### Some stories are based on knowing gender distribution. Here are some examples:\n",
    "\n",
    "* **Washington Post**: Here’s how Hillary Clinton knows that 61 percent of her donors were women [<a href=\"https://www.washingtonpost.com/news/the-fix/wp/2015/07/16/heres-how-hillary-clinton-knows-that-61-percent-of-her-donors-were-women\">link</a>]\n",
    "\n",
    "* **The Atlantic**: When Will the Gender Gap in Science Disappear? [<a href=\"https://www.theatlantic.com/science/archive/2018/04/when-will-the-gender-gap-in-science-disappear/558413/\">Link</a>]\n",
    "\n",
    "* **Bloomberg News**: Record Numbers of Women Running for Office [<a href=\"https://www.bloomberg.com/graphics/2018-women-candidates/\">Link</a>]\n",
    "\n",
    "* **The Guardian**: How we analysed 70m comments on the Guardian website [<a href=\"https://www.theguardian.com/technology/2016/apr/12/how-we-analysed-70m-comments-guardian-website\">Link</a>]\n",
    "\n",
    "### Gender is **estimated** based on person's first name."
   ]
  },
  {
   "cell_type": "markdown",
   "metadata": {
    "id": "StJdcVxSjLQK",
    "slideshow": {
     "slide_type": "slide"
    }
   },
   "source": [
    "## ```pip install Genderize``` (a library available for many programming languages)"
   ]
  },
  {
   "cell_type": "code",
   "execution_count": 1,
   "metadata": {
    "id": "4rgCZ1P0jLQL",
    "slideshow": {
     "slide_type": "slide"
    }
   },
   "outputs": [
    {
     "name": "stdout",
     "output_type": "stream",
     "text": [
      "Requirement already satisfied: Genderize in /Users/sandeep.junnarkar/opt/anaconda3/lib/python3.8/site-packages (0.3.1)\r\n",
      "Requirement already satisfied: requests>=1.0.0 in /Users/sandeep.junnarkar/opt/anaconda3/lib/python3.8/site-packages (from Genderize) (2.24.0)\r\n",
      "Requirement already satisfied: idna<3,>=2.5 in /Users/sandeep.junnarkar/opt/anaconda3/lib/python3.8/site-packages (from requests>=1.0.0->Genderize) (2.10)\r\n",
      "Requirement already satisfied: certifi>=2017.4.17 in /Users/sandeep.junnarkar/opt/anaconda3/lib/python3.8/site-packages (from requests>=1.0.0->Genderize) (2020.6.20)\r\n",
      "Requirement already satisfied: urllib3!=1.25.0,!=1.25.1,<1.26,>=1.21.1 in /Users/sandeep.junnarkar/opt/anaconda3/lib/python3.8/site-packages (from requests>=1.0.0->Genderize) (1.25.9)\r\n",
      "Requirement already satisfied: chardet<4,>=3.0.2 in /Users/sandeep.junnarkar/opt/anaconda3/lib/python3.8/site-packages (from requests>=1.0.0->Genderize) (3.0.4)\r\n"
     ]
    }
   ],
   "source": [
    "!pip install Genderize"
   ]
  },
  {
   "cell_type": "code",
   "execution_count": 2,
   "metadata": {
    "id": "0Ona1dSjjLQP",
    "slideshow": {
     "slide_type": "slide"
    }
   },
   "outputs": [],
   "source": [
    "## import necessary libraries\n",
    "import pandas as pd\n",
    "from genderize import Genderize as gd\n",
    "# from google.colab import files  ## to export our files to our computer drive"
   ]
  },
  {
   "cell_type": "markdown",
   "metadata": {
    "id": "aDtXhaUAjLQS",
    "slideshow": {
     "slide_type": "slide"
    }
   },
   "source": [
    "# ```gd().get(list_name)```"
   ]
  },
  {
   "cell_type": "code",
   "execution_count": 3,
   "metadata": {
    "id": "56BCbPjujLQS",
    "slideshow": {
     "slide_type": "slide"
    }
   },
   "outputs": [
    {
     "data": {
      "text/plain": [
       "[{'name': 'Sahar', 'gender': 'female', 'probability': 0.95, 'count': 5188}]"
      ]
     },
     "execution_count": 3,
     "metadata": {},
     "output_type": "execute_result"
    }
   ],
   "source": [
    "### requires a list\n",
    "gd().get([\"Sahar\"])"
   ]
  },
  {
   "cell_type": "markdown",
   "metadata": {
    "id": "2t_VSDwAjLQV",
    "slideshow": {
     "slide_type": "slide"
    }
   },
   "source": [
    "### From Genderize site:\n",
    "The **probability** indicates the certainty of the assigned gender. Basically the ratio of male to females. \n",
    "\n",
    "The **count** represents the number of <a href=\"https://genderize.io/our-data\">data rows examined</a> in order to calculate the response.\n",
    "\n"
   ]
  },
  {
   "cell_type": "code",
   "execution_count": 4,
   "metadata": {
    "id": "7yyHST0xjLQV",
    "slideshow": {
     "slide_type": "slide"
    }
   },
   "outputs": [
    {
     "data": {
      "text/plain": [
       "[{'name': 'S', 'gender': 'male', 'probability': 0.68, 'count': 10151},\n",
       " {'name': 'a', 'gender': 'male', 'probability': 0.68, 'count': 19908},\n",
       " {'name': 'h', 'gender': 'male', 'probability': 0.76, 'count': 5606},\n",
       " {'name': 'a', 'gender': 'male', 'probability': 0.68, 'count': 19908},\n",
       " {'name': 'r', 'gender': 'male', 'probability': 0.65, 'count': 7424}]"
      ]
     },
     "execution_count": 4,
     "metadata": {},
     "output_type": "execute_result"
    }
   ],
   "source": [
    "## does not work on an individual name that is not in a list\n",
    "gd().get(\"Sahar\")"
   ]
  },
  {
   "cell_type": "code",
   "execution_count": 6,
   "metadata": {
    "id": "VF1i_UzejLQY",
    "slideshow": {
     "slide_type": "subslide"
    }
   },
   "outputs": [
    {
     "name": "stdout",
     "output_type": "stream",
     "text": [
      "<class 'list'>\n"
     ]
    },
    {
     "data": {
      "text/plain": [
       "['Sahar']"
      ]
     },
     "execution_count": 6,
     "metadata": {},
     "output_type": "execute_result"
    }
   ],
   "source": [
    "## But you can make a single name into a list\n",
    "myname= \"Sahar\"\n",
    "myname_list = [myname]\n",
    "print(type(myname_list))\n",
    "myname_list"
   ]
  },
  {
   "cell_type": "code",
   "execution_count": 7,
   "metadata": {
    "id": "RPLWzxapjLQa",
    "slideshow": {
     "slide_type": "slide"
    }
   },
   "outputs": [
    {
     "data": {
      "text/plain": [
       "[{'name': 'Sahar', 'gender': 'female', 'probability': 0.95, 'count': 5188}]"
      ]
     },
     "execution_count": 7,
     "metadata": {},
     "output_type": "execute_result"
    }
   ],
   "source": [
    "## you can now call the genderize method on list\n",
    "gd().get(myname_list)"
   ]
  },
  {
   "cell_type": "code",
   "execution_count": 8,
   "metadata": {
    "id": "Nwt1P1GYjLQd",
    "slideshow": {
     "slide_type": "slide"
    }
   },
   "outputs": [
    {
     "data": {
      "text/plain": [
       "['Rarin', 'Sandeep', 'Sahar', 'Yoshiko', 'Susan', 'Nabila', 'Pat', 'Lupita']"
      ]
     },
     "execution_count": 8,
     "metadata": {},
     "output_type": "execute_result"
    }
   ],
   "source": [
    "## Genderize works by analyzing first names and estimating their gender probability \n",
    "## run this cell\n",
    "f_names = ['Rarin','Sandeep', 'Sahar', 'Yoshiko','Susan', 'Nabila','Pat', \"Lupita\"]\n",
    "f_names"
   ]
  },
  {
   "cell_type": "code",
   "execution_count": 9,
   "metadata": {
    "id": "m6EBjdNUjLQg",
    "slideshow": {
     "slide_type": "slide"
    }
   },
   "outputs": [
    {
     "data": {
      "text/plain": [
       "[{'name': 'Rarin', 'gender': 'female', 'probability': 1.0, 'count': 13},\n",
       " {'name': 'Sandeep', 'gender': 'male', 'probability': 0.98, 'count': 4494},\n",
       " {'name': 'Sahar', 'gender': 'female', 'probability': 0.95, 'count': 5188},\n",
       " {'name': 'Yoshiko', 'gender': 'female', 'probability': 0.98, 'count': 463},\n",
       " {'name': 'Susan', 'gender': 'female', 'probability': 0.98, 'count': 32184},\n",
       " {'name': 'Nabila', 'gender': 'female', 'probability': 0.98, 'count': 4793},\n",
       " {'name': 'Pat', 'gender': 'male', 'probability': 0.67, 'count': 26734},\n",
       " {'name': 'Lupita', 'gender': 'female', 'probability': 0.98, 'count': 975}]"
      ]
     },
     "execution_count": 9,
     "metadata": {},
     "output_type": "execute_result"
    }
   ],
   "source": [
    "## run it on f_names\n",
    "gd().get(f_names)"
   ]
  },
  {
   "cell_type": "code",
   "execution_count": 11,
   "metadata": {
    "id": "XHWyXpVwjLQi",
    "slideshow": {
     "slide_type": "slide"
    }
   },
   "outputs": [
    {
     "name": "stdout",
     "output_type": "stream",
     "text": [
      "Rarin: female\n",
      "Sandeep: male\n",
      "Sahar: female\n",
      "Yoshiko: female\n",
      "Susan: female\n",
      "Nabila: female\n",
      "Pat: male\n",
      "Lupita: female\n"
     ]
    }
   ],
   "source": [
    "## We can pull out specific data by specifying the keys using a for loop\n",
    "for person in gd().get(f_names):\n",
    "    print(f\"{person.get('name')}: {person.get('gender')}\")"
   ]
  },
  {
   "cell_type": "code",
   "execution_count": 12,
   "metadata": {
    "id": "-hpKE_TTjLQk",
    "slideshow": {
     "slide_type": "slide"
    }
   },
   "outputs": [],
   "source": [
    "## FUNCTION to get gender data from genderize\n",
    "def gender_data(a_item):\n",
    "    list_it = [a_item]\n",
    "    gender_data = gd().get(list_it)\n",
    "    return gender_data"
   ]
  },
  {
   "cell_type": "code",
   "execution_count": 13,
   "metadata": {
    "id": "RS_tQmA9jLQn",
    "slideshow": {
     "slide_type": "slide"
    }
   },
   "outputs": [
    {
     "data": {
      "text/plain": [
       "[{'name': 'Sandeep', 'gender': 'male', 'probability': 0.98, 'count': 4494}]"
      ]
     },
     "execution_count": 13,
     "metadata": {},
     "output_type": "execute_result"
    }
   ],
   "source": [
    "## test it on \"Sandeep\"\n",
    "gender_data(\"Sandeep\")"
   ]
  },
  {
   "cell_type": "code",
   "execution_count": 16,
   "metadata": {
    "id": "V5ZN-BMdjLQs",
    "slideshow": {
     "slide_type": "slide"
    }
   },
   "outputs": [
    {
     "name": "stdout",
     "output_type": "stream",
     "text": [
      "Rarin: female\n",
      "Sandeep: male\n",
      "Sahar: female\n",
      "Yoshiko: female\n",
      "Susan: female\n",
      "Nabila: female\n",
      "Pat: male\n",
      "Lupita: female\n"
     ]
    }
   ],
   "source": [
    "## now use the function in our for loop\n",
    "for person in gender_data(f_names):\n",
    "    print(f\"{person.get('name')}: {person.get('gender')}\")"
   ]
  },
  {
   "cell_type": "markdown",
   "metadata": {
    "id": "xnU7r99LjLQv",
    "slideshow": {
     "slide_type": "slide"
    }
   },
   "source": [
    "## Apply to a Pandas dataframe"
   ]
  },
  {
   "cell_type": "code",
   "execution_count": null,
   "metadata": {
    "id": "apnOz1agjLQv",
    "slideshow": {
     "slide_type": "slide"
    }
   },
   "outputs": [],
   "source": [
    "## COLAB ONLY\n",
    "## upload Excel file names.xlsx\n",
    "files.upload()"
   ]
  },
  {
   "cell_type": "code",
   "execution_count": 26,
   "metadata": {
    "id": "s1XMfL2vjLQy",
    "slideshow": {
     "slide_type": "slide"
    }
   },
   "outputs": [
    {
     "data": {
      "text/html": [
       "<div>\n",
       "<style scoped>\n",
       "    .dataframe tbody tr th:only-of-type {\n",
       "        vertical-align: middle;\n",
       "    }\n",
       "\n",
       "    .dataframe tbody tr th {\n",
       "        vertical-align: top;\n",
       "    }\n",
       "\n",
       "    .dataframe thead th {\n",
       "        text-align: right;\n",
       "    }\n",
       "</style>\n",
       "<table border=\"1\" class=\"dataframe\">\n",
       "  <thead>\n",
       "    <tr style=\"text-align: right;\">\n",
       "      <th></th>\n",
       "      <th>Name</th>\n",
       "    </tr>\n",
       "  </thead>\n",
       "  <tbody>\n",
       "    <tr>\n",
       "      <th>0</th>\n",
       "      <td>Lupita Nyong’o</td>\n",
       "    </tr>\n",
       "    <tr>\n",
       "      <th>1</th>\n",
       "      <td>Rarin Thongma</td>\n",
       "    </tr>\n",
       "    <tr>\n",
       "      <th>2</th>\n",
       "      <td>Chang-jae Shin</td>\n",
       "    </tr>\n",
       "    <tr>\n",
       "      <th>3</th>\n",
       "      <td>Sandeep Junnarkar</td>\n",
       "    </tr>\n",
       "    <tr>\n",
       "      <th>4</th>\n",
       "      <td>Kalsoom Lakhani</td>\n",
       "    </tr>\n",
       "    <tr>\n",
       "      <th>5</th>\n",
       "      <td>Hyang-ja Yang</td>\n",
       "    </tr>\n",
       "    <tr>\n",
       "      <th>6</th>\n",
       "      <td>John Smock</td>\n",
       "    </tr>\n",
       "    <tr>\n",
       "      <th>7</th>\n",
       "      <td>Xiaoming Huang</td>\n",
       "    </tr>\n",
       "    <tr>\n",
       "      <th>8</th>\n",
       "      <td>Sahar Hafeez</td>\n",
       "    </tr>\n",
       "    <tr>\n",
       "      <th>9</th>\n",
       "      <td>Yoshiko Shinohara</td>\n",
       "    </tr>\n",
       "    <tr>\n",
       "      <th>10</th>\n",
       "      <td>Susan Rice</td>\n",
       "    </tr>\n",
       "    <tr>\n",
       "      <th>11</th>\n",
       "      <td>Nabila Maqsood</td>\n",
       "    </tr>\n",
       "    <tr>\n",
       "      <th>12</th>\n",
       "      <td>Azim Premji</td>\n",
       "    </tr>\n",
       "  </tbody>\n",
       "</table>\n",
       "</div>"
      ],
      "text/plain": [
       "                 Name\n",
       "0      Lupita Nyong’o\n",
       "1       Rarin Thongma\n",
       "2      Chang-jae Shin\n",
       "3   Sandeep Junnarkar\n",
       "4     Kalsoom Lakhani\n",
       "5       Hyang-ja Yang\n",
       "6          John Smock\n",
       "7      Xiaoming Huang\n",
       "8        Sahar Hafeez\n",
       "9   Yoshiko Shinohara\n",
       "10         Susan Rice\n",
       "11     Nabila Maqsood\n",
       "12        Azim Premji"
      ]
     },
     "execution_count": 26,
     "metadata": {},
     "output_type": "execute_result"
    }
   ],
   "source": [
    "## read csv file into pandas dataframe\n",
    "## see the head\n",
    "df = pd.read_csv(\"week-12_names.csv\")\n",
    "df.head(13)"
   ]
  },
  {
   "cell_type": "code",
   "execution_count": 20,
   "metadata": {
    "id": "dWPDctQGjLQ0",
    "slideshow": {
     "slide_type": "slide"
    }
   },
   "outputs": [
    {
     "data": {
      "text/html": [
       "<div>\n",
       "<style scoped>\n",
       "    .dataframe tbody tr th:only-of-type {\n",
       "        vertical-align: middle;\n",
       "    }\n",
       "\n",
       "    .dataframe tbody tr th {\n",
       "        vertical-align: top;\n",
       "    }\n",
       "\n",
       "    .dataframe thead th {\n",
       "        text-align: right;\n",
       "    }\n",
       "</style>\n",
       "<table border=\"1\" class=\"dataframe\">\n",
       "  <thead>\n",
       "    <tr style=\"text-align: right;\">\n",
       "      <th></th>\n",
       "      <th>Name</th>\n",
       "    </tr>\n",
       "  </thead>\n",
       "  <tbody>\n",
       "    <tr>\n",
       "      <th>13</th>\n",
       "      <td>Pat Smith</td>\n",
       "    </tr>\n",
       "    <tr>\n",
       "      <th>14</th>\n",
       "      <td>Dana Collins</td>\n",
       "    </tr>\n",
       "    <tr>\n",
       "      <th>15</th>\n",
       "      <td>Toshiro Mifune</td>\n",
       "    </tr>\n",
       "    <tr>\n",
       "      <th>16</th>\n",
       "      <td>Mingzhu Dong</td>\n",
       "    </tr>\n",
       "    <tr>\n",
       "      <th>17</th>\n",
       "      <td>Adewale Akinnuoye-Agbaje</td>\n",
       "    </tr>\n",
       "  </tbody>\n",
       "</table>\n",
       "</div>"
      ],
      "text/plain": [
       "                        Name\n",
       "13                 Pat Smith\n",
       "14              Dana Collins\n",
       "15            Toshiro Mifune\n",
       "16              Mingzhu Dong\n",
       "17  Adewale Akinnuoye-Agbaje"
      ]
     },
     "execution_count": 20,
     "metadata": {},
     "output_type": "execute_result"
    }
   ],
   "source": [
    "## see the tail\n",
    "df.tail()"
   ]
  },
  {
   "cell_type": "markdown",
   "metadata": {
    "id": "X4tyGUBKjdM0",
    "slideshow": {
     "slide_type": "slide"
    }
   },
   "source": [
    "## What the problem here?"
   ]
  },
  {
   "cell_type": "code",
   "execution_count": 28,
   "metadata": {
    "id": "GPEIzKSgjLQ4",
    "slideshow": {
     "slide_type": "slide"
    }
   },
   "outputs": [
    {
     "data": {
      "text/html": [
       "<div>\n",
       "<style scoped>\n",
       "    .dataframe tbody tr th:only-of-type {\n",
       "        vertical-align: middle;\n",
       "    }\n",
       "\n",
       "    .dataframe tbody tr th {\n",
       "        vertical-align: top;\n",
       "    }\n",
       "\n",
       "    .dataframe thead th {\n",
       "        text-align: right;\n",
       "    }\n",
       "</style>\n",
       "<table border=\"1\" class=\"dataframe\">\n",
       "  <thead>\n",
       "    <tr style=\"text-align: right;\">\n",
       "      <th></th>\n",
       "      <th>Name</th>\n",
       "      <th>First</th>\n",
       "      <th>Last</th>\n",
       "    </tr>\n",
       "  </thead>\n",
       "  <tbody>\n",
       "    <tr>\n",
       "      <th>0</th>\n",
       "      <td>Lupita Nyong’o</td>\n",
       "      <td>Lupita</td>\n",
       "      <td>Nyong’o</td>\n",
       "    </tr>\n",
       "    <tr>\n",
       "      <th>1</th>\n",
       "      <td>Rarin Thongma</td>\n",
       "      <td>Rarin</td>\n",
       "      <td>Thongma</td>\n",
       "    </tr>\n",
       "    <tr>\n",
       "      <th>2</th>\n",
       "      <td>Chang-jae Shin</td>\n",
       "      <td>Chang-jae</td>\n",
       "      <td>Shin</td>\n",
       "    </tr>\n",
       "    <tr>\n",
       "      <th>3</th>\n",
       "      <td>Sandeep Junnarkar</td>\n",
       "      <td>Sandeep</td>\n",
       "      <td>Junnarkar</td>\n",
       "    </tr>\n",
       "    <tr>\n",
       "      <th>4</th>\n",
       "      <td>Kalsoom Lakhani</td>\n",
       "      <td>Kalsoom</td>\n",
       "      <td>Lakhani</td>\n",
       "    </tr>\n",
       "    <tr>\n",
       "      <th>5</th>\n",
       "      <td>Hyang-ja Yang</td>\n",
       "      <td>Hyang-ja</td>\n",
       "      <td>Yang</td>\n",
       "    </tr>\n",
       "    <tr>\n",
       "      <th>6</th>\n",
       "      <td>John Smock</td>\n",
       "      <td>John</td>\n",
       "      <td>Smock</td>\n",
       "    </tr>\n",
       "    <tr>\n",
       "      <th>7</th>\n",
       "      <td>Xiaoming Huang</td>\n",
       "      <td>Xiaoming</td>\n",
       "      <td>Huang</td>\n",
       "    </tr>\n",
       "    <tr>\n",
       "      <th>8</th>\n",
       "      <td>Sahar Hafeez</td>\n",
       "      <td>Sahar</td>\n",
       "      <td>Hafeez</td>\n",
       "    </tr>\n",
       "    <tr>\n",
       "      <th>9</th>\n",
       "      <td>Yoshiko Shinohara</td>\n",
       "      <td>Yoshiko</td>\n",
       "      <td>Shinohara</td>\n",
       "    </tr>\n",
       "    <tr>\n",
       "      <th>10</th>\n",
       "      <td>Susan Rice</td>\n",
       "      <td>Susan</td>\n",
       "      <td>Rice</td>\n",
       "    </tr>\n",
       "    <tr>\n",
       "      <th>11</th>\n",
       "      <td>Nabila Maqsood</td>\n",
       "      <td>Nabila</td>\n",
       "      <td>Maqsood</td>\n",
       "    </tr>\n",
       "    <tr>\n",
       "      <th>12</th>\n",
       "      <td>Azim Premji</td>\n",
       "      <td>Azim</td>\n",
       "      <td>Premji</td>\n",
       "    </tr>\n",
       "    <tr>\n",
       "      <th>13</th>\n",
       "      <td>Pat Smith</td>\n",
       "      <td>Pat</td>\n",
       "      <td>Smith</td>\n",
       "    </tr>\n",
       "    <tr>\n",
       "      <th>14</th>\n",
       "      <td>Dana Collins</td>\n",
       "      <td>Dana</td>\n",
       "      <td>Collins</td>\n",
       "    </tr>\n",
       "    <tr>\n",
       "      <th>15</th>\n",
       "      <td>Toshiro Mifune</td>\n",
       "      <td>Toshiro</td>\n",
       "      <td>Mifune</td>\n",
       "    </tr>\n",
       "    <tr>\n",
       "      <th>16</th>\n",
       "      <td>Mingzhu Dong</td>\n",
       "      <td>Mingzhu</td>\n",
       "      <td>Dong</td>\n",
       "    </tr>\n",
       "    <tr>\n",
       "      <th>17</th>\n",
       "      <td>Adewale Akinnuoye-Agbaje</td>\n",
       "      <td>Adewale</td>\n",
       "      <td>Akinnuoye-Agbaje</td>\n",
       "    </tr>\n",
       "  </tbody>\n",
       "</table>\n",
       "</div>"
      ],
      "text/plain": [
       "                        Name      First              Last\n",
       "0             Lupita Nyong’o     Lupita           Nyong’o\n",
       "1              Rarin Thongma      Rarin           Thongma\n",
       "2             Chang-jae Shin  Chang-jae              Shin\n",
       "3          Sandeep Junnarkar    Sandeep         Junnarkar\n",
       "4            Kalsoom Lakhani    Kalsoom           Lakhani\n",
       "5              Hyang-ja Yang   Hyang-ja              Yang\n",
       "6                 John Smock       John             Smock\n",
       "7             Xiaoming Huang   Xiaoming             Huang\n",
       "8               Sahar Hafeez      Sahar            Hafeez\n",
       "9          Yoshiko Shinohara    Yoshiko         Shinohara\n",
       "10                Susan Rice      Susan              Rice\n",
       "11            Nabila Maqsood     Nabila           Maqsood\n",
       "12               Azim Premji       Azim            Premji\n",
       "13                 Pat Smith        Pat             Smith\n",
       "14              Dana Collins       Dana           Collins\n",
       "15            Toshiro Mifune    Toshiro            Mifune\n",
       "16              Mingzhu Dong    Mingzhu              Dong\n",
       "17  Adewale Akinnuoye-Agbaje    Adewale  Akinnuoye-Agbaje"
      ]
     },
     "execution_count": 28,
     "metadata": {},
     "output_type": "execute_result"
    }
   ],
   "source": [
    "## Split the first and last name into separate columns\n",
    "df[[\"First\", \"Last\"]] = df[\"Name\"].str.split(expand=True)\n",
    "df"
   ]
  },
  {
   "cell_type": "code",
   "execution_count": 29,
   "metadata": {
    "id": "YLxN7_MtjLQ6",
    "slideshow": {
     "slide_type": "slide"
    }
   },
   "outputs": [
    {
     "data": {
      "text/html": [
       "<div>\n",
       "<style scoped>\n",
       "    .dataframe tbody tr th:only-of-type {\n",
       "        vertical-align: middle;\n",
       "    }\n",
       "\n",
       "    .dataframe tbody tr th {\n",
       "        vertical-align: top;\n",
       "    }\n",
       "\n",
       "    .dataframe thead th {\n",
       "        text-align: right;\n",
       "    }\n",
       "</style>\n",
       "<table border=\"1\" class=\"dataframe\">\n",
       "  <thead>\n",
       "    <tr style=\"text-align: right;\">\n",
       "      <th></th>\n",
       "      <th>Last</th>\n",
       "      <th>First</th>\n",
       "    </tr>\n",
       "  </thead>\n",
       "  <tbody>\n",
       "    <tr>\n",
       "      <th>0</th>\n",
       "      <td>Nyong’o</td>\n",
       "      <td>Lupita</td>\n",
       "    </tr>\n",
       "    <tr>\n",
       "      <th>1</th>\n",
       "      <td>Thongma</td>\n",
       "      <td>Rarin</td>\n",
       "    </tr>\n",
       "    <tr>\n",
       "      <th>2</th>\n",
       "      <td>Shin</td>\n",
       "      <td>Chang-jae</td>\n",
       "    </tr>\n",
       "    <tr>\n",
       "      <th>3</th>\n",
       "      <td>Junnarkar</td>\n",
       "      <td>Sandeep</td>\n",
       "    </tr>\n",
       "    <tr>\n",
       "      <th>4</th>\n",
       "      <td>Lakhani</td>\n",
       "      <td>Kalsoom</td>\n",
       "    </tr>\n",
       "    <tr>\n",
       "      <th>5</th>\n",
       "      <td>Yang</td>\n",
       "      <td>Hyang-ja</td>\n",
       "    </tr>\n",
       "    <tr>\n",
       "      <th>6</th>\n",
       "      <td>Smock</td>\n",
       "      <td>John</td>\n",
       "    </tr>\n",
       "    <tr>\n",
       "      <th>7</th>\n",
       "      <td>Huang</td>\n",
       "      <td>Xiaoming</td>\n",
       "    </tr>\n",
       "    <tr>\n",
       "      <th>8</th>\n",
       "      <td>Hafeez</td>\n",
       "      <td>Sahar</td>\n",
       "    </tr>\n",
       "    <tr>\n",
       "      <th>9</th>\n",
       "      <td>Shinohara</td>\n",
       "      <td>Yoshiko</td>\n",
       "    </tr>\n",
       "    <tr>\n",
       "      <th>10</th>\n",
       "      <td>Rice</td>\n",
       "      <td>Susan</td>\n",
       "    </tr>\n",
       "    <tr>\n",
       "      <th>11</th>\n",
       "      <td>Maqsood</td>\n",
       "      <td>Nabila</td>\n",
       "    </tr>\n",
       "    <tr>\n",
       "      <th>12</th>\n",
       "      <td>Premji</td>\n",
       "      <td>Azim</td>\n",
       "    </tr>\n",
       "    <tr>\n",
       "      <th>13</th>\n",
       "      <td>Smith</td>\n",
       "      <td>Pat</td>\n",
       "    </tr>\n",
       "    <tr>\n",
       "      <th>14</th>\n",
       "      <td>Collins</td>\n",
       "      <td>Dana</td>\n",
       "    </tr>\n",
       "    <tr>\n",
       "      <th>15</th>\n",
       "      <td>Mifune</td>\n",
       "      <td>Toshiro</td>\n",
       "    </tr>\n",
       "    <tr>\n",
       "      <th>16</th>\n",
       "      <td>Dong</td>\n",
       "      <td>Mingzhu</td>\n",
       "    </tr>\n",
       "    <tr>\n",
       "      <th>17</th>\n",
       "      <td>Akinnuoye-Agbaje</td>\n",
       "      <td>Adewale</td>\n",
       "    </tr>\n",
       "  </tbody>\n",
       "</table>\n",
       "</div>"
      ],
      "text/plain": [
       "                Last      First\n",
       "0            Nyong’o     Lupita\n",
       "1            Thongma      Rarin\n",
       "2               Shin  Chang-jae\n",
       "3          Junnarkar    Sandeep\n",
       "4            Lakhani    Kalsoom\n",
       "5               Yang   Hyang-ja\n",
       "6              Smock       John\n",
       "7              Huang   Xiaoming\n",
       "8             Hafeez      Sahar\n",
       "9          Shinohara    Yoshiko\n",
       "10              Rice      Susan\n",
       "11           Maqsood     Nabila\n",
       "12            Premji       Azim\n",
       "13             Smith        Pat\n",
       "14           Collins       Dana\n",
       "15            Mifune    Toshiro\n",
       "16              Dong    Mingzhu\n",
       "17  Akinnuoye-Agbaje    Adewale"
      ]
     },
     "execution_count": 29,
     "metadata": {},
     "output_type": "execute_result"
    }
   ],
   "source": [
    "## reorder the columns\n",
    "df = df[[\"Last\", \"First\"]].copy()\n",
    "df"
   ]
  },
  {
   "cell_type": "code",
   "execution_count": 30,
   "metadata": {},
   "outputs": [
    {
     "name": "stdout",
     "output_type": "stream",
     "text": [
      "<class 'pandas.core.frame.DataFrame'>\n",
      "RangeIndex: 18 entries, 0 to 17\n",
      "Data columns (total 2 columns):\n",
      " #   Column  Non-Null Count  Dtype \n",
      "---  ------  --------------  ----- \n",
      " 0   Last    18 non-null     object\n",
      " 1   First   18 non-null     object\n",
      "dtypes: object(2)\n",
      "memory usage: 416.0+ bytes\n"
     ]
    }
   ],
   "source": [
    "df.info()"
   ]
  },
  {
   "cell_type": "code",
   "execution_count": null,
   "metadata": {},
   "outputs": [],
   "source": [
    "## FUNCTION to get gender data from genderize\n",
    "def gender_data(a_item):\n",
    "    list_it = [a_item]\n",
    "    gender_data = gd().get(list_it)\n",
    "    return gender_data"
   ]
  },
  {
   "cell_type": "code",
   "execution_count": 31,
   "metadata": {
    "id": "y45N6lVzjLQ8",
    "slideshow": {
     "slide_type": "slide"
    }
   },
   "outputs": [],
   "source": [
    "## function to take a string name, convert to list and return gender\n",
    "## NOTICE it taps our earlier gender_data() function\n",
    "def gender_estimate(a_item):\n",
    "    '''\n",
    "    function to take a string name, convert to list and return gender\n",
    "    uses our gender_data() function\n",
    "    '''\n",
    "    return (gender_data(a_item))[0].get(\"gender\").upper()"
   ]
  },
  {
   "cell_type": "markdown",
   "metadata": {},
   "source": [
    "```[{'name': 'Sandeep', 'gender': 'male', 'probability': 0.98, 'count': 4494}]```"
   ]
  },
  {
   "cell_type": "code",
   "execution_count": 32,
   "metadata": {
    "id": "zRm9onB4jLQ_",
    "slideshow": {
     "slide_type": "slide"
    }
   },
   "outputs": [
    {
     "data": {
      "text/plain": [
       "'MALE'"
      ]
     },
     "execution_count": 32,
     "metadata": {},
     "output_type": "execute_result"
    }
   ],
   "source": [
    "## Test on \"Sandeep\"\n",
    "gender_estimate(\"Sandeep\")"
   ]
  },
  {
   "cell_type": "code",
   "execution_count": 33,
   "metadata": {
    "collapsed": true,
    "id": "uxrIo8z4jLRB",
    "slideshow": {
     "slide_type": "slide"
    }
   },
   "outputs": [
    {
     "data": {
      "text/html": [
       "<div>\n",
       "<style scoped>\n",
       "    .dataframe tbody tr th:only-of-type {\n",
       "        vertical-align: middle;\n",
       "    }\n",
       "\n",
       "    .dataframe tbody tr th {\n",
       "        vertical-align: top;\n",
       "    }\n",
       "\n",
       "    .dataframe thead th {\n",
       "        text-align: right;\n",
       "    }\n",
       "</style>\n",
       "<table border=\"1\" class=\"dataframe\">\n",
       "  <thead>\n",
       "    <tr style=\"text-align: right;\">\n",
       "      <th></th>\n",
       "      <th>Last</th>\n",
       "      <th>First</th>\n",
       "      <th>Probability</th>\n",
       "    </tr>\n",
       "  </thead>\n",
       "  <tbody>\n",
       "    <tr>\n",
       "      <th>0</th>\n",
       "      <td>Nyong’o</td>\n",
       "      <td>Lupita</td>\n",
       "      <td>FEMALE</td>\n",
       "    </tr>\n",
       "    <tr>\n",
       "      <th>1</th>\n",
       "      <td>Thongma</td>\n",
       "      <td>Rarin</td>\n",
       "      <td>FEMALE</td>\n",
       "    </tr>\n",
       "    <tr>\n",
       "      <th>2</th>\n",
       "      <td>Shin</td>\n",
       "      <td>Chang-jae</td>\n",
       "      <td>MALE</td>\n",
       "    </tr>\n",
       "    <tr>\n",
       "      <th>3</th>\n",
       "      <td>Junnarkar</td>\n",
       "      <td>Sandeep</td>\n",
       "      <td>MALE</td>\n",
       "    </tr>\n",
       "    <tr>\n",
       "      <th>4</th>\n",
       "      <td>Lakhani</td>\n",
       "      <td>Kalsoom</td>\n",
       "      <td>FEMALE</td>\n",
       "    </tr>\n",
       "    <tr>\n",
       "      <th>5</th>\n",
       "      <td>Yang</td>\n",
       "      <td>Hyang-ja</td>\n",
       "      <td>FEMALE</td>\n",
       "    </tr>\n",
       "    <tr>\n",
       "      <th>6</th>\n",
       "      <td>Smock</td>\n",
       "      <td>John</td>\n",
       "      <td>MALE</td>\n",
       "    </tr>\n",
       "    <tr>\n",
       "      <th>7</th>\n",
       "      <td>Huang</td>\n",
       "      <td>Xiaoming</td>\n",
       "      <td>MALE</td>\n",
       "    </tr>\n",
       "    <tr>\n",
       "      <th>8</th>\n",
       "      <td>Hafeez</td>\n",
       "      <td>Sahar</td>\n",
       "      <td>FEMALE</td>\n",
       "    </tr>\n",
       "    <tr>\n",
       "      <th>9</th>\n",
       "      <td>Shinohara</td>\n",
       "      <td>Yoshiko</td>\n",
       "      <td>FEMALE</td>\n",
       "    </tr>\n",
       "    <tr>\n",
       "      <th>10</th>\n",
       "      <td>Rice</td>\n",
       "      <td>Susan</td>\n",
       "      <td>FEMALE</td>\n",
       "    </tr>\n",
       "    <tr>\n",
       "      <th>11</th>\n",
       "      <td>Maqsood</td>\n",
       "      <td>Nabila</td>\n",
       "      <td>FEMALE</td>\n",
       "    </tr>\n",
       "    <tr>\n",
       "      <th>12</th>\n",
       "      <td>Premji</td>\n",
       "      <td>Azim</td>\n",
       "      <td>MALE</td>\n",
       "    </tr>\n",
       "    <tr>\n",
       "      <th>13</th>\n",
       "      <td>Smith</td>\n",
       "      <td>Pat</td>\n",
       "      <td>MALE</td>\n",
       "    </tr>\n",
       "    <tr>\n",
       "      <th>14</th>\n",
       "      <td>Collins</td>\n",
       "      <td>Dana</td>\n",
       "      <td>FEMALE</td>\n",
       "    </tr>\n",
       "    <tr>\n",
       "      <th>15</th>\n",
       "      <td>Mifune</td>\n",
       "      <td>Toshiro</td>\n",
       "      <td>MALE</td>\n",
       "    </tr>\n",
       "    <tr>\n",
       "      <th>16</th>\n",
       "      <td>Dong</td>\n",
       "      <td>Mingzhu</td>\n",
       "      <td>FEMALE</td>\n",
       "    </tr>\n",
       "    <tr>\n",
       "      <th>17</th>\n",
       "      <td>Akinnuoye-Agbaje</td>\n",
       "      <td>Adewale</td>\n",
       "      <td>MALE</td>\n",
       "    </tr>\n",
       "  </tbody>\n",
       "</table>\n",
       "</div>"
      ],
      "text/plain": [
       "                Last      First Probability\n",
       "0            Nyong’o     Lupita      FEMALE\n",
       "1            Thongma      Rarin      FEMALE\n",
       "2               Shin  Chang-jae        MALE\n",
       "3          Junnarkar    Sandeep        MALE\n",
       "4            Lakhani    Kalsoom      FEMALE\n",
       "5               Yang   Hyang-ja      FEMALE\n",
       "6              Smock       John        MALE\n",
       "7              Huang   Xiaoming        MALE\n",
       "8             Hafeez      Sahar      FEMALE\n",
       "9          Shinohara    Yoshiko      FEMALE\n",
       "10              Rice      Susan      FEMALE\n",
       "11           Maqsood     Nabila      FEMALE\n",
       "12            Premji       Azim        MALE\n",
       "13             Smith        Pat        MALE\n",
       "14           Collins       Dana      FEMALE\n",
       "15            Mifune    Toshiro        MALE\n",
       "16              Dong    Mingzhu      FEMALE\n",
       "17  Akinnuoye-Agbaje    Adewale        MALE"
      ]
     },
     "execution_count": 33,
     "metadata": {},
     "output_type": "execute_result"
    }
   ],
   "source": [
    "## apply as a lambda expression on our dataframe\n",
    "df[\"Probability\"] = df[\"First\"].apply(lambda x: gender_estimate(x))\n",
    "df"
   ]
  },
  {
   "cell_type": "code",
   "execution_count": 35,
   "metadata": {},
   "outputs": [],
   "source": [
    "def add(num):\n",
    "    return(num+num)"
   ]
  },
  {
   "cell_type": "code",
   "execution_count": 36,
   "metadata": {},
   "outputs": [
    {
     "data": {
      "text/plain": [
       "4"
      ]
     },
     "execution_count": 36,
     "metadata": {},
     "output_type": "execute_result"
    }
   ],
   "source": [
    "add(2)"
   ]
  },
  {
   "cell_type": "markdown",
   "metadata": {
    "id": "KDwAKLr4jLRD",
    "slideshow": {
     "slide_type": "slide"
    }
   },
   "source": [
    "## But we need a sense of the probability"
   ]
  },
  {
   "cell_type": "code",
   "execution_count": null,
   "metadata": {
    "id": "oGync8TMjLRD",
    "slideshow": {
     "slide_type": "slide"
    }
   },
   "outputs": [],
   "source": [
    "## function to return probability\n",
    "## NOTICE it taps our earlier gender_data() function\n"
   ]
  },
  {
   "cell_type": "code",
   "execution_count": null,
   "metadata": {
    "id": "GzLI2q6FjLRF",
    "slideshow": {
     "slide_type": "slide"
    }
   },
   "outputs": [],
   "source": [
    "## test probability on \"Sandeep\"\n"
   ]
  },
  {
   "cell_type": "code",
   "execution_count": null,
   "metadata": {
    "id": "jG96kLxbjLRI",
    "slideshow": {
     "slide_type": "slide"
    }
   },
   "outputs": [],
   "source": [
    "## create new column called \"Probability\" in our df\n"
   ]
  },
  {
   "cell_type": "code",
   "execution_count": null,
   "metadata": {
    "id": "aXWATX0XjLRJ",
    "slideshow": {
     "slide_type": "slide"
    }
   },
   "outputs": [],
   "source": [
    "### FUNCTION to return certainty\n",
    "## NOTICE it taps our earlier gender_data() AND gender_probability() functions\n",
    "\n"
   ]
  },
  {
   "cell_type": "code",
   "execution_count": null,
   "metadata": {
    "id": "8p3RdHnVjLRL",
    "slideshow": {
     "slide_type": "slide"
    }
   },
   "outputs": [],
   "source": [
    "## get gender on name \"Pat\"\n"
   ]
  },
  {
   "cell_type": "code",
   "execution_count": null,
   "metadata": {
    "id": "7_a7T0V-jLRN",
    "slideshow": {
     "slide_type": "slide"
    }
   },
   "outputs": [],
   "source": [
    "## get probability on name \"Pat\"\n"
   ]
  },
  {
   "cell_type": "code",
   "execution_count": null,
   "metadata": {
    "id": "plFUpsSzjLRP",
    "slideshow": {
     "slide_type": "slide"
    }
   },
   "outputs": [],
   "source": [
    "## get gender certainty on name \"Pat\"\n"
   ]
  },
  {
   "cell_type": "code",
   "execution_count": null,
   "metadata": {
    "id": "QwfltGxdjLRR",
    "slideshow": {
     "slide_type": "slide"
    }
   },
   "outputs": [],
   "source": [
    "## create a column called \"Certainty\" in our df\n"
   ]
  },
  {
   "cell_type": "markdown",
   "metadata": {
    "id": "TWzxU2dWjLRS",
    "slideshow": {
     "slide_type": "slide"
    }
   },
   "source": [
    "## Slice flagged items for a manual check"
   ]
  },
  {
   "cell_type": "code",
   "execution_count": null,
   "metadata": {
    "id": "owlIxiAjjLRT",
    "slideshow": {
     "slide_type": "slide"
    }
   },
   "outputs": [],
   "source": [
    "## write pandas to create a slice\n"
   ]
  }
 ],
 "metadata": {
  "celltoolbar": "Slideshow",
  "colab": {
   "collapsed_sections": [],
   "name": "APAC week-13 gender estimator_BLANK.ipynb",
   "provenance": [
    {
     "file_id": "1qXX2xOtNO13b1TT-t7NmLo-gFljLzwVD",
     "timestamp": 1603223397806
    }
   ]
  },
  "kernelspec": {
   "display_name": "Python 3",
   "language": "python",
   "name": "python3"
  },
  "language_info": {
   "codemirror_mode": {
    "name": "ipython",
    "version": 3
   },
   "file_extension": ".py",
   "mimetype": "text/x-python",
   "name": "python",
   "nbconvert_exporter": "python",
   "pygments_lexer": "ipython3",
   "version": "3.8.3"
  }
 },
 "nbformat": 4,
 "nbformat_minor": 1
}
