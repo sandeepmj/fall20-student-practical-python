{
 "cells": [
  {
   "cell_type": "markdown",
   "metadata": {},
   "source": [
    "# Regular Expressions (regex)\n",
    "\n",
    "Pages we need to visit:\n",
    "\n",
    "- Example: http://dof.ca.gov/Forecasting/Economics/Economic_and_Revenue_Updates\n",
    "- Live Testing: https://regex101.com/\n",
    "- Tip sheet: http://sandeepmj.github.io/regex-email/regex-table\n",
    "- Common pattern finder: https://regexlib.com/Default.aspx\n",
    "\n",
    "Some dummy text:"
   ]
  },
  {
   "cell_type": "raw",
   "metadata": {},
   "source": [
    "12534 127 ab aba abba sandeepj@bloomberg.net abbba, abbbbba, (518) 469-4581 abcde.The dog is a not a hog. ABA ABBA ABBBA.\n",
    "\n",
    "\n",
    "Ab_CD123  123456 and 12456\ttor 12531245134562. 123867584789. $40.44 or $3 or $52,583.08 or $610,235.11\n",
    "\n",
    "The cat sat down and called 514-957-3453 while the other caaaaaat purred. This cat is in California while this caaaat is in Iraq, but none are in ct. My dog prefers cat food to dog food but hates fish food.My food tastes yummy!\n",
    "\n",
    "AB_cd \t<+>-.,!@# $%^&*();\\/|_^@1# (917) 488-5410\n",
    "\n",
    "*!dsar2d1\n",
    "\n",
    "I told him to search the thesaurus where sandeep.junnarkar@journalism.cuny.edu he'd be able to sjnews@gmail.com find words like them.\n",
    "\n",
    "abcdefgczhijklmnopqrstuvwxyz\tABCDEFGCZHIJKLMNOPQRSTUVWXYZ\n",
    "\n",
    "A h0g is a hog.\n",
    "\n",
    "Dog and dog and DOG. His number is 415.458.9163.\n",
    "\n",
    "&^%@ 129"
   ]
  },
  {
   "cell_type": "code",
   "execution_count": null,
   "metadata": {},
   "outputs": [],
   "source": [
    "## place dummy text into a variable called mydoc\n",
    "mydoc = '''\n",
    "12534 127 ab aba abba sandeepj@bloomberg.net abbba, abbbbba, (518) 469-4581 abcde.The dog is a not a hog. ABA ABBA ABBBA.\n",
    "\n",
    "\n",
    "Ab_CD123  123456 and 12456\ttor 12531245134562. 123867584789. $40.44 or $3 or $52,583.08 or $610,235.11\n",
    "\n",
    "The cat sat down and called 514-957-3453 while the other caaaaaat purred. This cat is in California while this caaaat is in Iraq, but none are in ct. My dog prefers cat food to dog food but hates fish food.My food tastes yummy!\n",
    "\n",
    "AB_cd \t<+>-.,!@# $%^&*();\\/|_^@1# (917) 488-5410\n",
    "\n",
    "*!dsar2d1\n",
    "\n",
    "I told him to search the thesaurus where sandeep.junnarkar@journalism.cuny.edu he'd be able to sjnews@gmail.com find words like them.\n",
    "\n",
    "abcdefgczhijklmnopqrstuvwxyz\tABCDEFGCZHIJKLMNOPQRSTUVWXYZ\n",
    "\n",
    "A h0g is a hog.\n",
    "\n",
    "Dog and dog and DOG. His number is 415.458.9163.\n",
    "\n",
    "&^%@ 129\n",
    "\n",
    "abba\n",
    "\n",
    "\n",
    "\n",
    "'''"
   ]
  },
  {
   "cell_type": "code",
   "execution_count": null,
   "metadata": {},
   "outputs": [],
   "source": [
    "!python --version"
   ]
  },
  {
   "cell_type": "code",
   "execution_count": null,
   "metadata": {},
   "outputs": [],
   "source": [
    "mydoc"
   ]
  },
  {
   "cell_type": "code",
   "execution_count": null,
   "metadata": {},
   "outputs": [],
   "source": [
    "import re\n",
    "import pandas as pd"
   ]
  },
  {
   "cell_type": "code",
   "execution_count": null,
   "metadata": {},
   "outputs": [],
   "source": [
    "## Run this cell\n",
    "some_text = \"The dog barked at the other dog.\""
   ]
  },
  {
   "cell_type": "markdown",
   "metadata": {},
   "source": [
    "## ```search```\n",
    "\n",
    "- returns the first instance of the search pattern"
   ]
  },
  {
   "cell_type": "markdown",
   "metadata": {},
   "source": [
    "#### Method 1. \n",
    "#### ```some_result = re.search(some_pattern, some_string)```"
   ]
  },
  {
   "cell_type": "code",
   "execution_count": null,
   "metadata": {},
   "outputs": [],
   "source": [
    "what = re.search(\"dog\", some_text)\n",
    "what"
   ]
  },
  {
   "cell_type": "markdown",
   "metadata": {},
   "source": [
    "#### Method 2.\n",
    "\n",
    "####  ```pattern_var = re.compile(\"some_pattern\")```\n",
    "\n",
    "#### ```a_result = pattern_var.search(some_string)```"
   ]
  },
  {
   "cell_type": "code",
   "execution_count": null,
   "metadata": {},
   "outputs": [],
   "source": [
    "my_pattern = re.compile(\"dog\")\n",
    "some_result = my_pattern.search(some_text)\n",
    "some_result"
   ]
  },
  {
   "cell_type": "markdown",
   "metadata": {},
   "source": [
    "#### The two methods are identical, but method 2 is more efficient since you store the pattern and reuse it.\n",
    "\n",
    "#### ```re.compile``` has other benefits we will get to soon."
   ]
  },
  {
   "cell_type": "code",
   "execution_count": null,
   "metadata": {},
   "outputs": [],
   "source": [
    "## what type of object is it?\n",
    "type(what)"
   ]
  },
  {
   "cell_type": "code",
   "execution_count": null,
   "metadata": {},
   "outputs": [],
   "source": [
    "## pull out location from the match object\n",
    "what.span()"
   ]
  },
  {
   "cell_type": "markdown",
   "metadata": {},
   "source": [
    "#### ```.group()``` returns the matched pattern in from the text"
   ]
  },
  {
   "cell_type": "code",
   "execution_count": null,
   "metadata": {},
   "outputs": [],
   "source": [
    "## pull out the matched pattern itself\n",
    "what.group()"
   ]
  },
  {
   "cell_type": "code",
   "execution_count": null,
   "metadata": {},
   "outputs": [],
   "source": [
    "## let's look for something that we know if NOT in the text\n",
    "hello_kitty = re.search(\"cat\", some_text)\n",
    "hello_kitty"
   ]
  },
  {
   "cell_type": "markdown",
   "metadata": {},
   "source": [
    "#### You can build conditional logic based on what is returned -- even if nothing is returned."
   ]
  },
  {
   "cell_type": "code",
   "execution_count": null,
   "metadata": {},
   "outputs": [],
   "source": [
    "if hello_kitty == None:\n",
    "    print(\"Your pattern was not found so we do step X...\")\n",
    "elif hello_kitty.group() == \"cat\":\n",
    "    print(\"Your pattern was found so we do step Y\")"
   ]
  },
  {
   "cell_type": "code",
   "execution_count": null,
   "metadata": {},
   "outputs": [],
   "source": [
    "some_text = \"The dog barked at the other dog and cat.\"\n",
    "hello_kitty = re.search(\"cat\", some_text)"
   ]
  },
  {
   "cell_type": "code",
   "execution_count": null,
   "metadata": {},
   "outputs": [],
   "source": [
    "if hello_kitty == None:\n",
    "    print(\"Your pattern was not found so we do step X...\")\n",
    "elif hello_kitty.group() == \"cat\":\n",
    "    print(\"Your pattern was found so we do step Y\")"
   ]
  },
  {
   "cell_type": "markdown",
   "metadata": {},
   "source": [
    "#### Let's actually use a regex pattern"
   ]
  },
  {
   "cell_type": "code",
   "execution_count": null,
   "metadata": {},
   "outputs": [],
   "source": [
    "## find all words and digits (excluding symbols)\n",
    "pat = re.compile('\\w+')"
   ]
  },
  {
   "cell_type": "code",
   "execution_count": null,
   "metadata": {},
   "outputs": [],
   "source": [
    "## let's run it on our mydoc string\n",
    "mymatch = re.search(pat,mydoc)\n",
    "mymatch"
   ]
  },
  {
   "cell_type": "code",
   "execution_count": null,
   "metadata": {},
   "outputs": [],
   "source": [
    "## put out the actual match\n",
    "mymatch.group()"
   ]
  },
  {
   "cell_type": "markdown",
   "metadata": {},
   "source": [
    "## ```findall```\n",
    "\n",
    "- Returns a list of all found items"
   ]
  },
  {
   "cell_type": "code",
   "execution_count": null,
   "metadata": {},
   "outputs": [],
   "source": [
    "print(pat.findall(mydoc))"
   ]
  },
  {
   "cell_type": "code",
   "execution_count": null,
   "metadata": {},
   "outputs": [],
   "source": [
    "## find any \"a\" followed by 1 or 2 \"b\"\n",
    "pat1 = re.compile('ab{1,2}')"
   ]
  },
  {
   "cell_type": "code",
   "execution_count": null,
   "metadata": {},
   "outputs": [],
   "source": [
    "pat1"
   ]
  },
  {
   "cell_type": "code",
   "execution_count": null,
   "metadata": {},
   "outputs": [],
   "source": [
    "print(pat1.findall(mydoc))"
   ]
  },
  {
   "cell_type": "code",
   "execution_count": null,
   "metadata": {},
   "outputs": [],
   "source": [
    "## find any \"a\" followed by 1 or 2 \"b\" ignore case\n",
    "pat2 = re.compile('ab{1,2}',\n",
    "                  re.I)"
   ]
  },
  {
   "cell_type": "code",
   "execution_count": null,
   "metadata": {},
   "outputs": [],
   "source": [
    "print(pat2.findall(mydoc))"
   ]
  },
  {
   "cell_type": "code",
   "execution_count": null,
   "metadata": {},
   "outputs": [],
   "source": [
    "## find \"dog\" lower case only\n",
    "pat3 = re.compile('dog')"
   ]
  },
  {
   "cell_type": "code",
   "execution_count": null,
   "metadata": {},
   "outputs": [],
   "source": [
    "print(pat3.findall(mydoc))"
   ]
  },
  {
   "cell_type": "markdown",
   "metadata": {},
   "source": [
    "### Flags\n",
    "\n",
    "- ```re.IGNORECASE``` or ```re.I``` for ignore case\n",
    "- ```re.MULTILINE¶``` or ```re.M``` for multiline\n",
    "- ```re.DOTALL``` or ```re.S``` for period includes new lines\n",
    "- ```re.VERBOSE``` or ```re.X``` for breaking up the regex\n",
    "\n",
    "<a href=\"https://docs.python.org/3/library/re.html#re.ASCII\">More on flags</a>."
   ]
  },
  {
   "cell_type": "code",
   "execution_count": null,
   "metadata": {},
   "outputs": [],
   "source": [
    "## find \"dog\" ignore case\n",
    "pat4 = re.compile('dog',\n",
    "                 re.IGNORECASE)"
   ]
  },
  {
   "cell_type": "code",
   "execution_count": null,
   "metadata": {},
   "outputs": [],
   "source": [
    "## find \"dog\" ignore case\n",
    "pat4 = re.compile('dog',\n",
    "                 re.I)"
   ]
  },
  {
   "cell_type": "code",
   "execution_count": null,
   "metadata": {},
   "outputs": [],
   "source": [
    "print(pat4.findall(mydoc))"
   ]
  },
  {
   "cell_type": "code",
   "execution_count": null,
   "metadata": {},
   "outputs": [],
   "source": [
    "## find all numbers that are a group that follow the pattern x2x on the page 1132611   527  349\n",
    "pat5 = re.compile(\"(\\\\b\\d2\\d\\\\b)\",\n",
    "                 re.I)"
   ]
  },
  {
   "cell_type": "code",
   "execution_count": null,
   "metadata": {},
   "outputs": [],
   "source": [
    "print(pat5.findall(mydoc))"
   ]
  },
  {
   "cell_type": "markdown",
   "metadata": {},
   "source": [
    "## ```finditer```\n",
    "\n",
    "- Returns a iterator.\n",
    "- More processing and memory efficient.\n",
    "- Even though it takes an extra step to extract data, it is considered more efficient"
   ]
  },
  {
   "cell_type": "code",
   "execution_count": null,
   "metadata": {},
   "outputs": [],
   "source": [
    "## let's run pat5 on mydoc but using finditer\n",
    "mymatches = re.finditer(pat5, mydoc)"
   ]
  },
  {
   "cell_type": "code",
   "execution_count": null,
   "metadata": {},
   "outputs": [],
   "source": [
    "## call matches\n",
    "mymatches"
   ]
  },
  {
   "cell_type": "code",
   "execution_count": null,
   "metadata": {},
   "outputs": [],
   "source": [
    "type(mymatches)"
   ]
  },
  {
   "cell_type": "code",
   "execution_count": null,
   "metadata": {},
   "outputs": [],
   "source": [
    "for match in mymatches:\n",
    "    print(match)"
   ]
  },
  {
   "cell_type": "markdown",
   "metadata": {},
   "source": [
    "<img src=\"../support_files/groups.png\">"
   ]
  },
  {
   "cell_type": "code",
   "execution_count": null,
   "metadata": {},
   "outputs": [],
   "source": [
    "## group() always returns ALL capture groups\n",
    "target_number = [match.group() for match in re.finditer(pat5, mydoc)]\n",
    "target_number"
   ]
  },
  {
   "cell_type": "code",
   "execution_count": null,
   "metadata": {},
   "outputs": [],
   "source": [
    "## group(0) always returns ALL capture groups\n",
    "target_number = [match.group(0) for match in re.finditer(pat5, mydoc)]\n",
    "target_number"
   ]
  },
  {
   "cell_type": "code",
   "execution_count": null,
   "metadata": {},
   "outputs": [],
   "source": [
    "## group(1) always returns ONLY the 1st capture group\n",
    "## if there were more groups, for example a second group, we'd pull it out using group(2)\n",
    "target_number = [match.group(1) for match in re.finditer(pat5, mydoc)]\n",
    "target_number"
   ]
  },
  {
   "cell_type": "markdown",
   "metadata": {},
   "source": [
    "### Finding phone numbers"
   ]
  },
  {
   "cell_type": "code",
   "execution_count": null,
   "metadata": {},
   "outputs": [],
   "source": [
    "## pattern for finding tel. in the format: xxx-yyy-zzzz\n",
    "telpat1 = re.compile(r'\\d{3}-\\d{3}-\\d{4}')"
   ]
  },
  {
   "cell_type": "code",
   "execution_count": null,
   "metadata": {},
   "outputs": [],
   "source": [
    "## find and store what is found with that pattern\n",
    "foundtel1 = telpat1.findall(mydoc)\n",
    "foundtel1"
   ]
  },
  {
   "cell_type": "code",
   "execution_count": null,
   "metadata": {},
   "outputs": [],
   "source": [
    "## pattern for finding tel. in the format: (xxx) yyy-zzzz\n",
    "telpat2 = re.compile(r'\\(\\d{3}\\)\\s\\d{3}-\\d{4}')"
   ]
  },
  {
   "cell_type": "code",
   "execution_count": null,
   "metadata": {},
   "outputs": [],
   "source": [
    "## print what is found with that pattern\n",
    "print(telpat2.findall(mydoc))"
   ]
  },
  {
   "cell_type": "code",
   "execution_count": null,
   "metadata": {},
   "outputs": [],
   "source": [
    "## find and store what is found with that pattern\n",
    "foundtel2 = telpat2.findall(mydoc)\n",
    "foundtel2"
   ]
  },
  {
   "cell_type": "code",
   "execution_count": null,
   "metadata": {},
   "outputs": [],
   "source": [
    "## pattern for finding all US numbers. In addition to the above, also xxx.yyy.zzzz\n",
    "telpat3 = re.compile(r'((\\(\\d{3}\\) ?)|(\\d{3}\\.)|(\\d{3}-))\\d{3}(-?|\\.?)?\\d{4}')"
   ]
  },
  {
   "cell_type": "code",
   "execution_count": null,
   "metadata": {},
   "outputs": [],
   "source": [
    "## find all and store\n",
    "foundtel3 = telpat3.findall(mydoc)"
   ]
  },
  {
   "cell_type": "code",
   "execution_count": null,
   "metadata": {},
   "outputs": [],
   "source": [
    "## type\n",
    "type(foundtel3)"
   ]
  },
  {
   "cell_type": "code",
   "execution_count": null,
   "metadata": {},
   "outputs": [],
   "source": [
    "## call it\n",
    "foundtel3"
   ]
  },
  {
   "cell_type": "code",
   "execution_count": null,
   "metadata": {},
   "outputs": [],
   "source": [
    "##NEED TO RUN THIS EVERYTIME I CHANGE GROUP NUMBER IN NEXT CELL\n",
    "## instead we use finditer\n",
    "telfind3 = re.finditer(telpat3, mydoc)\n",
    "type(telfind3)\n"
   ]
  },
  {
   "cell_type": "code",
   "execution_count": null,
   "metadata": {},
   "outputs": [],
   "source": [
    "## CHANGE GROUP NUMBERS TO DEMO\n",
    "numbs = []\n",
    "for tel in telfind3:\n",
    "#     print(tel)\n",
    "    numbs.append(tel.group())\n",
    "    print(tel.group())"
   ]
  },
  {
   "cell_type": "code",
   "execution_count": null,
   "metadata": {},
   "outputs": [],
   "source": [
    "type(telfind3)"
   ]
  },
  {
   "cell_type": "code",
   "execution_count": null,
   "metadata": {},
   "outputs": [],
   "source": [
    "## CALL THE LIST\n",
    "numbs"
   ]
  },
  {
   "cell_type": "code",
   "execution_count": null,
   "metadata": {},
   "outputs": [],
   "source": [
    "##LIST COMPREHENSION WAY\n",
    "## Switching groups more effective\n",
    "telphones = [match.group(0) for match in re.finditer(telpat3, mydoc)]\n",
    "telphones"
   ]
  },
  {
   "cell_type": "code",
   "execution_count": null,
   "metadata": {},
   "outputs": [],
   "source": [
    "##RUN THIS AGAIN IF YOU WANT NEXT STEP TO WORK\n",
    "telfind3 = re.finditer(telpat3, mydoc)\n",
    "type(telfind3)\n"
   ]
  },
  {
   "cell_type": "code",
   "execution_count": null,
   "metadata": {},
   "outputs": [],
   "source": [
    "## NOTE THAT YOU CAN ONLY RUN THIS DIRECTLY ON telfind3 IF YOU RUN THE PATTERN FIRST\n",
    "telphones = [match.group() for match in telfind3]\n",
    "telphones"
   ]
  },
  {
   "cell_type": "code",
   "execution_count": null,
   "metadata": {},
   "outputs": [],
   "source": [
    "telpat2 = r\"((\\(\\d{3}\\) ?)|(\\d{3}-))?\\d{3}-\\d{4}\"\n",
    "\n",
    "mydoc2 = (\"mydoc = '''12534 127  ab abba abbba, abbbbba, (518) 469-4581 abcde.The dog is a not a hog. ABA ABBA ABBBA.\\n\\n\"\n",
    "\t\"Ab_CD123  123456 and 12456\ttor 12531245134562. 123867584789. $40.44 or $3\\n\\n\"\n",
    "\t\"The cat sat down 514-957-3453 while the other caaaaaat purred. This cat is in California while this caaaat is in Iraq, but none are in ct.\\n\\n\"\n",
    "\t\"AB_cd \t<+>-.,!@# $%^&*();\\\\/|_^@1#\\n\\n\"\n",
    "\t\"*!dsar2d1\\n\\n\"\n",
    "\t\"I told him to search the thesaurus where he'd be able to find words like them.\\n\\n\"\n",
    "\t\"abcdefgczhijklmnopqrstuvwxyz\tABCDEFGCZHIJKLMNOPQRSTUVWXYZ\\n\\n\"\n",
    "\t\"A h0g is a hog.\\n\\n\"\n",
    "\t\"Dog and dog and DOG.\\n\\n\"\n",
    "\t\"&^%@ 129\\n\\n\"\n",
    "\t\"abba\\n\\n\"\n",
    "\t\"'''\")\n",
    "\n",
    "telfound2 = re.finditer(telpat2, mydoc2, re.MULTILINE)\n",
    "\n",
    "for matchNum, match in enumerate(telfound2, start=1):\n",
    "    print (\"Match {matchNum} was found at {start}-{end}: {match}\".format(matchNum = matchNum, start = match.start(), end = match.end(), match = match.group()))\n"
   ]
  },
  {
   "cell_type": "markdown",
   "metadata": {},
   "source": [
    "## Find all emails"
   ]
  },
  {
   "cell_type": "code",
   "execution_count": null,
   "metadata": {},
   "outputs": [],
   "source": [
    "## pattern for finding emails\n",
    "emailpat1 = re.compile(r'([a-z0-9][-a-z0-9_\\+\\.]*[a-z0-9])@([a-z0-9][-a-z0-9\\.]*[a-z0-9]\\.(arpa|root|aero|biz|cat|com|coop|edu|gov|info|int|jobs|mil|mobi|museum|name|net|org|pro|tel|travel|ac|ad|ae|af|ag|ai|al|am|an|ao|aq|ar|as|at|au|aw|ax|az|ba|bb|bd|be|bf|bg|bh|bi|bj|bm|bn|bo|br|bs|bt|bv|bw|by|bz|ca|cc|cd|cf|cg|ch|ci|ck|cl|cm|cn|co|cr|cu|cv|cx|cy|cz|de|dj|dk|dm|do|dz|ec|ee|eg|er|es|et|eu|fi|fj|fk|fm|fo|fr|ga|gb|gd|ge|gf|gg|gh|gi|gl|gm|gn|gp|gq|gr|gs|gt|gu|gw|gy|hk|hm|hn|hr|ht|hu|id|ie|il|im|in|io|iq|ir|is|it|je|jm|jo|jp|ke|kg|kh|ki|km|kn|kr|kw|ky|kz|la|lb|lc|li|lk|lr|ls|lt|lu|lv|ly|ma|mc|md|mg|mh|mk|ml|mm|mn|mo|mp|mq|mr|ms|mt|mu|mv|mw|mx|my|mz|na|nc|ne|nf|ng|ni|nl|no|np|nr|nu|nz|om|pa|pe|pf|pg|ph|pk|pl|pm|pn|pr|ps|pt|pw|py|qa|re|ro|ru|rw|sa|sb|sc|sd|se|sg|sh|si|sj|sk|sl|sm|sn|so|sr|st|su|sv|sy|sz|tc|td|tf|tg|th|tj|tk|tl|tm|tn|to|tp|tr|tt|tv|tw|tz|ua|ug|uk|um|us|uy|uz|va|vc|ve|vg|vi|vn|vu|wf|ws|ye|yt|yu|za|zm|zw)|([0-9]{1,3}\\.{3}[0-9]{1,3}))')"
   ]
  },
  {
   "cell_type": "code",
   "execution_count": null,
   "metadata": {},
   "outputs": [],
   "source": [
    "emails1 = emailpat1.findall(mydoc)\n",
    "emails1"
   ]
  },
  {
   "cell_type": "code",
   "execution_count": null,
   "metadata": {},
   "outputs": [],
   "source": [
    "## run it to find emails\n",
    "emails = [match.group() for match in re.finditer(emailpat1, mydoc)]\n",
    "emails"
   ]
  },
  {
   "cell_type": "markdown",
   "metadata": {},
   "source": [
    "## Find key data points from multiple documents\n",
    "\n",
    "- These documents must have pretty much an identical structure to them."
   ]
  },
  {
   "cell_type": "code",
   "execution_count": null,
   "metadata": {},
   "outputs": [],
   "source": [
    "import glob"
   ]
  },
  {
   "cell_type": "code",
   "execution_count": null,
   "metadata": {},
   "outputs": [],
   "source": [
    "## path to documents\n",
    "path = \"docs/*.txt\"\n",
    "myfiles = sorted(glob.glob(path))\n",
    "myfiles"
   ]
  },
  {
   "cell_type": "code",
   "execution_count": null,
   "metadata": {},
   "outputs": [],
   "source": [
    "## quick read reminder\n",
    "for file in myfiles:\n",
    "    \n",
    "    with open(file, \"r\") as document:\n",
    "        print(document.read())"
   ]
  },
  {
   "cell_type": "code",
   "execution_count": null,
   "metadata": {},
   "outputs": [],
   "source": [
    "## find date pattern\n",
    "for file in myfiles:\n",
    "    \n",
    "    with open(file, \"r\") as document:\n",
    "        all_text = document.read()\n",
    "        all_text = all_text.lower()\n",
    "        ## Matches dates of appeals request\n",
    "        date_pat = re.compile(r'request:\\s(\\w+\\s\\d{0,2},\\s\\d{4})')\n",
    "        date = [match.group(1) for match in re.finditer(date_pat, all_text)]\n",
    "        print(date)"
   ]
  },
  {
   "cell_type": "code",
   "execution_count": null,
   "metadata": {},
   "outputs": [],
   "source": [
    "## find date pattern and store findings in a list\n",
    "request_dates_list = []\n",
    "for file in myfiles:\n",
    "    \n",
    "    with open(file, \"r\") as document:\n",
    "        all_text = document.read()\n",
    "        all_text = all_text.lower()\n",
    "        ## Matches dates of appeals request\n",
    "        date_pat = re.compile(r'request:\\s(\\w+\\s\\d{0,2},\\s\\d{4})')\n",
    "        date = [match.group(1) for match in re.finditer(date_pat, all_text)]\n",
    "        request_date = date[0]\n",
    "        print(request_date)\n",
    "        request_dates_list.append(request_date)\n",
    "        "
   ]
  },
  {
   "cell_type": "code",
   "execution_count": null,
   "metadata": {},
   "outputs": [],
   "source": [
    "request_dates_list"
   ]
  },
  {
   "cell_type": "code",
   "execution_count": null,
   "metadata": {},
   "outputs": [],
   "source": [
    "## add case number pattern and store findings in a list\n",
    "request_dates_list = []\n",
    "case_numbers_list = []\n",
    "for file in myfiles:\n",
    "    \n",
    "    with open(file, \"r\") as document:\n",
    "        all_text = document.read()\n",
    "        all_text = all_text.lower()\n",
    "        ## Matches dates of appeals request\n",
    "        date_pat = re.compile(r'request:\\s(\\w+\\s\\d{0,2},\\s\\d{4})')\n",
    "        date = [match.group(1).replace('request:', \"\").strip() for match in re.finditer(date_pat, all_text)]\n",
    "        request_date = date[0]\n",
    "        print(request_date)\n",
    "        request_dates_list.append(request_date)\n",
    "        \n",
    "        case_pat = re.compile(r'case\\s#:\\s(\\d{7}\\w)')\n",
    "        case = [match.group(1).replace('case #:', \"\").strip() for match in re.finditer(case_pat, all_text)]\n",
    "        case_num = case[0]\n",
    "        case_numbers_list.append(case[0])\n",
    "        print(case_num)"
   ]
  },
  {
   "cell_type": "code",
   "execution_count": null,
   "metadata": {},
   "outputs": [],
   "source": [
    "case_numbers_list"
   ]
  },
  {
   "cell_type": "code",
   "execution_count": null,
   "metadata": {},
   "outputs": [],
   "source": [
    "## find decision pattern and store findings in a list\n",
    "\n",
    "request_dates_list = []\n",
    "case_numbers_list = []\n",
    "decisions_list = []\n",
    "for file in myfiles:\n",
    "    \n",
    "    with open(file, \"r\") as document:\n",
    "        all_text = document.read()\n",
    "        all_text = all_text.lower()\n",
    "        ## Matches dates of appeals request\n",
    "        date_pat = re.compile(r'request:\\s(\\w+\\s\\d{0,2},\\s\\d{4})')\n",
    "        date = [match.group(1).replace('request:', \"\").strip() for match in re.finditer(date_pat, all_text)]\n",
    "        request_date = date[0]\n",
    "        print(request_date)\n",
    "        request_dates_list.append(request_date)\n",
    "        \n",
    "        case_pat = re.compile(r'case\\s#:\\s(\\d{7}\\w)')\n",
    "        case = [match.group(1).replace('case #:', \"\").strip() for match in re.finditer(case_pat, all_text)]\n",
    "        case_num = case[0]\n",
    "        case_numbers_list.append(case[0])\n",
    "        print(case_num)\n",
    "        \n",
    "        decision_pat = re.compile(r'decision:\\n.+(is\\s\\w+)')\n",
    "        decision = [match.group(1).replace('is ', \"\").strip() for match in re.finditer(decision_pat, all_text)]\n",
    "        print(decision[0])\n",
    "        decisions_list.append(decision[0])"
   ]
  },
  {
   "cell_type": "code",
   "execution_count": null,
   "metadata": {},
   "outputs": [],
   "source": [
    "decisions_list"
   ]
  },
  {
   "cell_type": "code",
   "execution_count": null,
   "metadata": {},
   "outputs": [],
   "source": [
    "case_numbers_list"
   ]
  },
  {
   "cell_type": "code",
   "execution_count": null,
   "metadata": {},
   "outputs": [],
   "source": [
    "## find decision date pattern and store findings in a list\n",
    "## added source list too\n",
    "\n",
    "request_dates_list = []\n",
    "case_numbers_list = []\n",
    "decisions_list = []\n",
    "decision_date_list =[]\n",
    "source_list = []\n",
    "for file in myfiles:\n",
    "    source_list.append(file)\n",
    "    with open(file, \"r\") as document:\n",
    "        all_text = document.read()\n",
    "        all_text = all_text.lower()\n",
    "        ## Matches dates of appeals request\n",
    "        date_pat = re.compile(r'request:\\s(\\w+\\s\\d{0,2},\\s\\d{4})')\n",
    "        date = [match.group(1) for match in re.finditer(date_pat, all_text)]\n",
    "        request_date = date[0]\n",
    "        print(request_date)\n",
    "        request_dates_list.append(request_date)\n",
    "        \n",
    "        case_pat = re.compile(r'case\\s#:\\s(\\d{7}\\w)')\n",
    "        case = [match.group(1) for match in re.finditer(case_pat, all_text)]\n",
    "        case_num = case[0]\n",
    "        case_numbers_list.append(case[0])\n",
    "        print(case_num)\n",
    "        \n",
    "        decision_pat = re.compile(r'decision:\\n.+is\\s(\\w+)')\n",
    "        decision = [match.group(1) for match in re.finditer(decision_pat, all_text)]\n",
    "        print(decision[0])\n",
    "        decisions_list.append(decision[0])\n",
    "        \n",
    "        decision_date_pat = re.compile(r\"dated: albany, new york (\\d{1,2}\\/\\d{1,2}\\/\\d{4})\")\n",
    "        decision_date = [match.group(1) for match in re.finditer(decision_date_pat, all_text)]\n",
    "        print(decision_date[0])\n",
    "        decision_date_list.append(decision_date[0])"
   ]
  },
  {
   "cell_type": "code",
   "execution_count": null,
   "metadata": {},
   "outputs": [],
   "source": [
    "decision_date_list"
   ]
  },
  {
   "cell_type": "code",
   "execution_count": null,
   "metadata": {},
   "outputs": [],
   "source": [
    "source_list"
   ]
  },
  {
   "cell_type": "code",
   "execution_count": null,
   "metadata": {},
   "outputs": [],
   "source": [
    "## zip it all together\n",
    "final_decision = []\n",
    "for (request_date, case_number, decision, decision_date, source) in zip(request_dates_list, case_numbers_list, decisions_list, decision_date_list, source_list):\n",
    "    decision_dict = {\"request_date\": request_date, \"case_number\": case_number, \"decision\": decision, \"decision_date\": decision_date, \"source\": source}\n",
    "#     print(decision_dict)\n",
    "    final_decision.append(decision_dict)\n",
    "    \n",
    "final_decision"
   ]
  },
  {
   "cell_type": "code",
   "execution_count": null,
   "metadata": {},
   "outputs": [],
   "source": [
    "def export2csv(a_list, filename):\n",
    "    '''\n",
    "    provide list name first\n",
    "    provide filename as a string\n",
    "    '''\n",
    "    df = pd.DataFrame(a_list)\n",
    "    df.to_csv(filename, encoding='utf-8', index=False)\n",
    "    print(f\"{filename} is in your project folder!\")"
   ]
  },
  {
   "cell_type": "code",
   "execution_count": null,
   "metadata": {},
   "outputs": [],
   "source": [
    "export2csv(final_decision,\"decisions.csv\")"
   ]
  }
 ],
 "metadata": {
  "kernelspec": {
   "display_name": "Python 3",
   "language": "python",
   "name": "python3"
  },
  "language_info": {
   "codemirror_mode": {
    "name": "ipython",
    "version": 3
   },
   "file_extension": ".py",
   "mimetype": "text/x-python",
   "name": "python",
   "nbconvert_exporter": "python",
   "pygments_lexer": "ipython3",
   "version": "3.8.3"
  }
 },
 "nbformat": 4,
 "nbformat_minor": 4
}
