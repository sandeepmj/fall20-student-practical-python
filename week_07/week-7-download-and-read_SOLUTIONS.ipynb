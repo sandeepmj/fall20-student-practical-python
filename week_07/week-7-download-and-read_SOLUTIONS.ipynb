{
 "cells": [
  {
   "cell_type": "markdown",
   "metadata": {
    "colab_type": "text",
    "id": "fv1F1HyA9zmX"
   },
   "source": [
    "# Capture and organize data in downloaded files "
   ]
  },
  {
   "cell_type": "markdown",
   "metadata": {
    "colab_type": "text",
    "id": "EsXo4Upb9zmb"
   },
   "source": [
    "We have downloaded some ```.txt``` files in our most recent scrape.\n",
    "\n",
    "We will read those files using Python and export data to csv. (are you seeing a pattern yet?)"
   ]
  },
  {
   "cell_type": "markdown",
   "metadata": {
    "colab_type": "text",
    "id": "31QNpfY1VHIO"
   },
   "source": [
    "## First we scrape the files from a website"
   ]
  },
  {
   "cell_type": "markdown",
   "metadata": {
    "colab_type": "text",
    "id": "lyvc6CPd-FUC"
   },
   "source": [
    "# Import libraries\n"
   ]
  },
  {
   "cell_type": "code",
   "execution_count": null,
   "metadata": {
    "colab": {
     "base_uri": "https://localhost:8080/",
     "height": 190
    },
    "colab_type": "code",
    "executionInfo": {
     "elapsed": 5246,
     "status": "ok",
     "timestamp": 1597326923407,
     "user": {
      "displayName": "Sandeep Junnarkar",
      "photoUrl": "https://lh3.googleusercontent.com/a-/AOh14GiXFlfYxd-VnGWNgEX_xPZ5y0ArzL8Civ0hXRAmQg=s64",
      "userId": "06745672863539931083"
     },
     "user_tz": 240
    },
    "id": "HmKF4BcHA0bu",
    "outputId": "613f07a2-9677-4645-bd5e-dbc197cd502a"
   },
   "outputs": [],
   "source": [
    "## Install wget\n",
    "!pip install wget"
   ]
  },
  {
   "cell_type": "code",
   "execution_count": null,
   "metadata": {
    "colab": {},
    "colab_type": "code",
    "id": "m2ru6dyM9zmb"
   },
   "outputs": [],
   "source": [
    "# import libraries\n",
    "from bs4 import BeautifulSoup  ## scrape info from web pages\n",
    "import requests ## get web pages from server\n",
    "import time # time is required. we will use its sleep function\n",
    "from random import randrange # generate random numbers\n",
    "import wget # can put down documents, files from websites\n",
    "import pandas as pd ## to export csv file\n",
    "## in order to export our file to our computer drive, you need this only in Colab:\n",
    "# from google.colab import files"
   ]
  },
  {
   "cell_type": "markdown",
   "metadata": {
    "colab_type": "text",
    "id": "-idAcOFD-MyZ"
   },
   "source": [
    "# Assign url to scrape"
   ]
  },
  {
   "cell_type": "code",
   "execution_count": null,
   "metadata": {
    "colab": {},
    "colab_type": "code",
    "id": "NXQd686f9zmf"
   },
   "outputs": [],
   "source": [
    "# url to scrape\n",
    "url = \"https://sandeepmj.github.io/scrape-example-page/pages.html\""
   ]
  },
  {
   "cell_type": "markdown",
   "metadata": {
    "colab_type": "text",
    "id": "DWmEWPWU-Ze4"
   },
   "source": [
    "# Turn page into soup"
   ]
  },
  {
   "cell_type": "code",
   "execution_count": null,
   "metadata": {
    "colab": {
     "base_uri": "https://localhost:8080/",
     "height": 1000
    },
    "colab_type": "code",
    "executionInfo": {
     "elapsed": 962,
     "status": "ok",
     "timestamp": 1597326931757,
     "user": {
      "displayName": "Sandeep Junnarkar",
      "photoUrl": "https://lh3.googleusercontent.com/a-/AOh14GiXFlfYxd-VnGWNgEX_xPZ5y0ArzL8Civ0hXRAmQg=s64",
      "userId": "06745672863539931083"
     },
     "user_tz": 240
    },
    "id": "jf3EU0Y49zmi",
    "outputId": "1c01513b-e8bb-49e7-86b1-dad903f2549b"
   },
   "outputs": [],
   "source": [
    "## get url and print but hard to read. will do prettify next\n",
    "page = requests.get(url)\n",
    "soup = BeautifulSoup(page.content,\"html.parser\")\n",
    "print(soup.prettify())"
   ]
  },
  {
   "cell_type": "markdown",
   "metadata": {
    "colab_type": "text",
    "id": "yhvrVAk1-4Ub"
   },
   "source": [
    "# Get all ```txt``` files"
   ]
  },
  {
   "cell_type": "markdown",
   "metadata": {
    "colab_type": "text",
    "id": "_dTG3PEs9zml"
   },
   "source": [
    "### Find all txt files store in list called ```txt_holder```"
   ]
  },
  {
   "cell_type": "code",
   "execution_count": null,
   "metadata": {
    "colab": {
     "base_uri": "https://localhost:8080/",
     "height": 238
    },
    "colab_type": "code",
    "executionInfo": {
     "elapsed": 377,
     "status": "ok",
     "timestamp": 1597326936030,
     "user": {
      "displayName": "Sandeep Junnarkar",
      "photoUrl": "https://lh3.googleusercontent.com/a-/AOh14GiXFlfYxd-VnGWNgEX_xPZ5y0ArzL8Civ0hXRAmQg=s64",
      "userId": "06745672863539931083"
     },
     "user_tz": 240
    },
    "id": "RD0WyGKx9zml",
    "outputId": "0b3a2869-c065-41a1-964c-e521c4d577e2"
   },
   "outputs": [],
   "source": [
    "txt_holder = soup.find_all(\"ul\", class_=\"txts\")\n",
    "txt_holder"
   ]
  },
  {
   "cell_type": "markdown",
   "metadata": {
    "colab_type": "text",
    "id": "onvbxZnq9zmo"
   },
   "source": [
    "## Find all the ```a``` tags "
   ]
  },
  {
   "cell_type": "code",
   "execution_count": null,
   "metadata": {
    "colab": {
     "base_uri": "https://localhost:8080/",
     "height": 187
    },
    "colab_type": "code",
    "executionInfo": {
     "elapsed": 283,
     "status": "ok",
     "timestamp": 1597326940193,
     "user": {
      "displayName": "Sandeep Junnarkar",
      "photoUrl": "https://lh3.googleusercontent.com/a-/AOh14GiXFlfYxd-VnGWNgEX_xPZ5y0ArzL8Civ0hXRAmQg=s64",
      "userId": "06745672863539931083"
     },
     "user_tz": 240
    },
    "id": "XNFF0jf69zmo",
    "outputId": "3278edb7-33a4-46f4-8ae4-789c095bc807"
   },
   "outputs": [],
   "source": [
    "for txt_files in txt_holder:\n",
    "  txt_file_links = txt_files.find_all(\"a\")\n",
    "\n",
    "txt_file_links"
   ]
  },
  {
   "cell_type": "markdown",
   "metadata": {
    "colab_type": "text",
    "id": "vlPz2MoE9zmr"
   },
   "source": [
    "## What is missing from the URLs?"
   ]
  },
  {
   "cell_type": "code",
   "execution_count": null,
   "metadata": {
    "colab": {},
    "colab_type": "code",
    "id": "OyEikPWI9zms"
   },
   "outputs": [],
   "source": [
    "base_url = \"https://sandeepmj.github.io/scrape-example-page/\""
   ]
  },
  {
   "cell_type": "markdown",
   "metadata": {
    "colab_type": "text",
    "id": "rcbLVbUd9zmw"
   },
   "source": [
    "## Create a list of the full URLs\n",
    "\n",
    "Without all the ```html```"
   ]
  },
  {
   "cell_type": "code",
   "execution_count": null,
   "metadata": {
    "colab": {
     "base_uri": "https://localhost:8080/",
     "height": 187
    },
    "colab_type": "code",
    "executionInfo": {
     "elapsed": 296,
     "status": "ok",
     "timestamp": 1597326948921,
     "user": {
      "displayName": "Sandeep Junnarkar",
      "photoUrl": "https://lh3.googleusercontent.com/a-/AOh14GiXFlfYxd-VnGWNgEX_xPZ5y0ArzL8Civ0hXRAmQg=s64",
      "userId": "06745672863539931083"
     },
     "user_tz": 240
    },
    "id": "Rq1OjoT09zmw",
    "outputId": "d8967e8b-b0c4-4328-f2bd-cf4157c9585d"
   },
   "outputs": [],
   "source": [
    "all_text_links = [base_url + txt_file_link.get(\"href\") for txt_file_link in txt_file_links]\n",
    "all_text_links"
   ]
  },
  {
   "cell_type": "code",
   "execution_count": null,
   "metadata": {
    "colab": {
     "base_uri": "https://localhost:8080/",
     "height": 34
    },
    "colab_type": "code",
    "executionInfo": {
     "elapsed": 299,
     "status": "ok",
     "timestamp": 1597326958100,
     "user": {
      "displayName": "Sandeep Junnarkar",
      "photoUrl": "https://lh3.googleusercontent.com/a-/AOh14GiXFlfYxd-VnGWNgEX_xPZ5y0ArzL8Civ0hXRAmQg=s64",
      "userId": "06745672863539931083"
     },
     "user_tz": 240
    },
    "id": "62m9LHdXsSTy",
    "outputId": "bad39aa5-d8f4-49c4-8118-01a07d26cc02"
   },
   "outputs": [],
   "source": [
    "len(all_text_links)"
   ]
  },
  {
   "cell_type": "markdown",
   "metadata": {},
   "source": [
    "## Switch to os module lesson"
   ]
  },
  {
   "cell_type": "markdown",
   "metadata": {
    "colab_type": "text",
    "id": "jBZjf_ue9zmz"
   },
   "source": [
    "## Download all the ```txt``` documents"
   ]
  },
  {
   "cell_type": "code",
   "execution_count": null,
   "metadata": {},
   "outputs": [],
   "source": [
    "import os\n",
    "from pathlib import Path"
   ]
  },
  {
   "cell_type": "markdown",
   "metadata": {},
   "source": [
    "## where am i?"
   ]
  },
  {
   "cell_type": "code",
   "execution_count": null,
   "metadata": {},
   "outputs": [],
   "source": [
    "pwd"
   ]
  },
  {
   "cell_type": "markdown",
   "metadata": {},
   "source": [
    "## list what's in the directory"
   ]
  },
  {
   "cell_type": "code",
   "execution_count": null,
   "metadata": {},
   "outputs": [],
   "source": [
    "ls"
   ]
  },
  {
   "cell_type": "code",
   "execution_count": null,
   "metadata": {},
   "outputs": [],
   "source": [
    "## store downloading files in an output folder\n",
    "output_path = Path('downloaded_files/') ## the path\n",
    "output_path.mkdir(exist_ok=True) ## create director if it doesn't already exist"
   ]
  },
  {
   "cell_type": "markdown",
   "metadata": {},
   "source": [
    "## confirm directory was created"
   ]
  },
  {
   "cell_type": "code",
   "execution_count": null,
   "metadata": {},
   "outputs": [],
   "source": [
    "ls"
   ]
  },
  {
   "cell_type": "code",
   "execution_count": null,
   "metadata": {},
   "outputs": [],
   "source": [
    "## cd into that folder\n",
    "os.chdir(output_path)"
   ]
  },
  {
   "cell_type": "markdown",
   "metadata": {},
   "source": [
    "### confirm we are in the correct directory"
   ]
  },
  {
   "cell_type": "code",
   "execution_count": null,
   "metadata": {},
   "outputs": [],
   "source": [
    "pwd"
   ]
  },
  {
   "cell_type": "markdown",
   "metadata": {},
   "source": [
    "### We list its content to confirm it is empty"
   ]
  },
  {
   "cell_type": "code",
   "execution_count": null,
   "metadata": {},
   "outputs": [],
   "source": [
    "ls"
   ]
  },
  {
   "cell_type": "markdown",
   "metadata": {},
   "source": [
    "## Run the downloader script"
   ]
  },
  {
   "cell_type": "code",
   "execution_count": null,
   "metadata": {
    "colab": {
     "base_uri": "https://localhost:8080/",
     "height": 357
    },
    "colab_type": "code",
    "executionInfo": {
     "elapsed": 39984,
     "status": "ok",
     "timestamp": 1597326999921,
     "user": {
      "displayName": "Sandeep Junnarkar",
      "photoUrl": "https://lh3.googleusercontent.com/a-/AOh14GiXFlfYxd-VnGWNgEX_xPZ5y0ArzL8Civ0hXRAmQg=s64",
      "userId": "06745672863539931083"
     },
     "user_tz": 240
    },
    "id": "f4Rcx8FX9zmz",
    "outputId": "82888468-7034-470e-f02c-c0ae086becf9"
   },
   "outputs": [],
   "source": [
    "link_number = len(all_text_links)\n",
    "link_count = 1\n",
    "for link in all_text_links:\n",
    "  print(f\"Downloading link {link_count} of {link_number}\")\n",
    "  link_count += 1\n",
    "  wget.download(link, \"\")\n",
    "  snooze = randrange(3,6)\n",
    "  print(f\"Delaying for {snooze} seconds.\")\n",
    "  time.sleep(snooze)\n",
    " "
   ]
  },
  {
   "cell_type": "markdown",
   "metadata": {},
   "source": [
    "### Confirm it's content"
   ]
  },
  {
   "cell_type": "code",
   "execution_count": null,
   "metadata": {},
   "outputs": [],
   "source": [
    "ls"
   ]
  },
  {
   "cell_type": "code",
   "execution_count": null,
   "metadata": {
    "colab": {},
    "colab_type": "code",
    "id": "-WlhyJBwDalv"
   },
   "outputs": [],
   "source": [
    "## import the glob library for collecting specific files into a list\n",
    "import glob "
   ]
  },
  {
   "cell_type": "code",
   "execution_count": null,
   "metadata": {
    "colab": {
     "base_uri": "https://localhost:8080/",
     "height": 187
    },
    "colab_type": "code",
    "executionInfo": {
     "elapsed": 256,
     "status": "ok",
     "timestamp": 1597327022045,
     "user": {
      "displayName": "Sandeep Junnarkar",
      "photoUrl": "https://lh3.googleusercontent.com/a-/AOh14GiXFlfYxd-VnGWNgEX_xPZ5y0ArzL8Civ0hXRAmQg=s64",
      "userId": "06745672863539931083"
     },
     "user_tz": 240
    },
    "id": "Ezd1IYJQD95X",
    "outputId": "39ce57e1-f284-4b41-bd73-c885caf73050"
   },
   "outputs": [],
   "source": [
    "## let's capture the files in a list\n",
    "## unlike earlier when when we capture the locations,\n",
    "## these are the actual files with their contents.\n",
    "myfiles = sorted(glob.glob('*.txt'))\n",
    "myfiles"
   ]
  },
  {
   "cell_type": "code",
   "execution_count": null,
   "metadata": {
    "colab": {
     "base_uri": "https://localhost:8080/",
     "height": 187
    },
    "colab_type": "code",
    "executionInfo": {
     "elapsed": 358,
     "status": "ok",
     "timestamp": 1597327038088,
     "user": {
      "displayName": "Sandeep Junnarkar",
      "photoUrl": "https://lh3.googleusercontent.com/a-/AOh14GiXFlfYxd-VnGWNgEX_xPZ5y0ArzL8Civ0hXRAmQg=s64",
      "userId": "06745672863539931083"
     },
     "user_tz": 240
    },
    "id": "fvax9kwamuMx",
    "outputId": "9863f477-a45c-4377-91b8-8a5d82f092d2"
   },
   "outputs": [],
   "source": [
    "#let's turn each file into readable content\n",
    "for myfile in myfiles:\n",
    "  with open(myfile, \"r\") as textfile:\n",
    "    print(type(textfile))"
   ]
  },
  {
   "cell_type": "markdown",
   "metadata": {
    "colab_type": "text",
    "id": "OdcgUwoknrrd"
   },
   "source": [
    "## We can interpret this ```<class '_io.TextIOWrapper'>``` to read the actual contents"
   ]
  },
  {
   "cell_type": "code",
   "execution_count": null,
   "metadata": {
    "colab": {
     "base_uri": "https://localhost:8080/",
     "height": 1000
    },
    "colab_type": "code",
    "executionInfo": {
     "elapsed": 260,
     "status": "ok",
     "timestamp": 1597327042749,
     "user": {
      "displayName": "Sandeep Junnarkar",
      "photoUrl": "https://lh3.googleusercontent.com/a-/AOh14GiXFlfYxd-VnGWNgEX_xPZ5y0ArzL8Civ0hXRAmQg=s64",
      "userId": "06745672863539931083"
     },
     "user_tz": 240
    },
    "id": "fqN9xmTuD-Ao",
    "outputId": "63f4c376-9bcb-4d7e-f575-98c95c047d13"
   },
   "outputs": [],
   "source": [
    "## let's see what the first line of each file contains\n",
    "\n",
    "for myfile in myfiles:\n",
    "  with open(myfile, \"r\") as textfile:\n",
    "    print(f\"Source: {myfile}\")\n",
    "    first_line = textfile.readline()\n",
    "    print(f\"\\n{first_line} \\\n",
    "          \\n\\n**********\")"
   ]
  },
  {
   "cell_type": "code",
   "execution_count": null,
   "metadata": {
    "colab": {},
    "colab_type": "code",
    "id": "WmZYM2D4D99U"
   },
   "outputs": [],
   "source": [
    "## let's see what each entire file contains\n",
    "\n",
    "for myfile in myfiles:\n",
    "  with open(myfile, \"r\") as textfile:\n",
    "    print(f\"File number: {myfile}\")\n",
    "    all_text = textfile.read()\n",
    "    print(f\"\\n{all_text} \\\n",
    "          \\n\\n**********\")\n",
    "\n"
   ]
  },
  {
   "cell_type": "code",
   "execution_count": null,
   "metadata": {
    "colab": {},
    "colab_type": "code",
    "id": "oU_37TIvD-Dl"
   },
   "outputs": [],
   "source": [
    "## let read all the lines and put into a list\n",
    "\n",
    "## let's see what the first line of file contains\n",
    "\n",
    "for myfile in myfiles:\n",
    "  with open(myfile, \"r\") as textfile:\n",
    "    print(f\"File number: {myfile}\")\n",
    "    lines_list = textfile.readlines()\n",
    "    print(lines_list)\n",
    "    "
   ]
  },
  {
   "cell_type": "code",
   "execution_count": null,
   "metadata": {
    "colab": {},
    "colab_type": "code",
    "id": "y72rctb5D-Gu"
   },
   "outputs": [],
   "source": [
    "## Now let's place clients and decisions into variables called client and decision\n",
    "\n",
    "for myfile in myfiles:\n",
    "  with open(myfile, \"r\") as textfile:\n",
    "    print(f\"File number: {myfile}\")\n",
    "    lines_list = textfile.readlines()\n",
    "    client = lines_list[0]\n",
    "    decision = lines_list[2]\n",
    "    print(client)\n",
    "    print(decision)"
   ]
  },
  {
   "cell_type": "code",
   "execution_count": null,
   "metadata": {
    "colab": {},
    "colab_type": "code",
    "id": "5yuvCxJoD-KT"
   },
   "outputs": [],
   "source": [
    "## let's remove the word client and the extra line\n",
    "for myfile in myfiles:\n",
    "  with open(myfile, \"r\") as textfile:\n",
    "    print(f\"File number: {myfile}\")\n",
    "    lines_list = textfile.readlines()\n",
    "    client = lines_list[0].replace(\"Client: \",\"\").replace(\"\\n\",\"\")\n",
    "    decision = lines_list[2]\n",
    "    print(client)\n",
    "    print(decision)\n",
    "    print(\"\\n********************\\n\")\n"
   ]
  },
  {
   "cell_type": "code",
   "execution_count": null,
   "metadata": {
    "colab": {},
    "colab_type": "code",
    "id": "opp5s8STjCye"
   },
   "outputs": [],
   "source": [
    "## We don't want an entire sentence – just what the decision was.\n",
    "## we just want to know the status of lease in one word renew or terminate\n",
    "\n",
    "for myfile in myfiles:\n",
    "  with open(myfile, \"r\") as textfile:\n",
    "    print(f\"File number: {myfile}\")\n",
    "    lines_list = textfile.readlines()\n",
    "    client = lines_list[0].replace(\"Client: \",\"\").replace(\"\\n\",\"\")\n",
    "    decision = lines_list[2]\n",
    "    if \"renew rental\" in decision:\n",
    "      decision = \"renew\"\n",
    "    else:\n",
    "      decision = \"terminate\"\n",
    "    print(client)\n",
    "    print(decision)\n",
    "    print(\"\\n********************\\n\")"
   ]
  },
  {
   "cell_type": "code",
   "execution_count": null,
   "metadata": {
    "colab": {},
    "colab_type": "code",
    "id": "9hEhNKkXjYHT"
   },
   "outputs": [],
   "source": [
    "## We want to store in a list to export as CSV file\n",
    "decisions = []\n",
    "for myfile in myfiles:\n",
    "  with open(myfile, \"r\") as textfile:\n",
    "    # print(f\"File number: {myfile}\")\n",
    "    lines_list = textfile.readlines()\n",
    "    client = lines_list[0].replace(\"Client: \",\"\").replace(\"\\n\",\"\")\n",
    "    decision = lines_list[2]\n",
    "    if \"renew rental\" in decision:\n",
    "      decision = \"renew\"\n",
    "    else:\n",
    "      decision = \"terminate\"\n",
    "\n",
    "    decision_dict = {\"client\": client, \"decision\": decision, \"source\": myfile}\n",
    "    decisions.append(decision_dict)\n",
    "decisions"
   ]
  },
  {
   "cell_type": "markdown",
   "metadata": {},
   "source": [
    "### Confirm where we are path-wise"
   ]
  },
  {
   "cell_type": "code",
   "execution_count": null,
   "metadata": {},
   "outputs": [],
   "source": [
    "pwd"
   ]
  },
  {
   "cell_type": "code",
   "execution_count": null,
   "metadata": {},
   "outputs": [],
   "source": [
    "os.chdir(\"Dropbox/coding/courses/instructor-practical-python/week_07/\")"
   ]
  },
  {
   "cell_type": "markdown",
   "metadata": {},
   "source": [
    "### Create new results directory (note we come out of the downloaded_files folder first)"
   ]
  },
  {
   "cell_type": "code",
   "execution_count": null,
   "metadata": {},
   "outputs": [],
   "source": [
    "result_path = Path('../results/') ## the path\n",
    "result_path.mkdir(exist_ok=True) ## create director if it doesn't already exist"
   ]
  },
  {
   "cell_type": "code",
   "execution_count": null,
   "metadata": {},
   "outputs": [],
   "source": [
    "### cd into our results folder:"
   ]
  },
  {
   "cell_type": "code",
   "execution_count": null,
   "metadata": {},
   "outputs": [],
   "source": [
    "os.chdir(result_path)"
   ]
  },
  {
   "cell_type": "markdown",
   "metadata": {},
   "source": [
    "### Confirm we are in the results folder"
   ]
  },
  {
   "cell_type": "code",
   "execution_count": null,
   "metadata": {},
   "outputs": [],
   "source": [
    "pwd"
   ]
  },
  {
   "cell_type": "code",
   "execution_count": null,
   "metadata": {
    "colab": {},
    "colab_type": "code",
    "id": "sIw6MAQNkazG"
   },
   "outputs": [],
   "source": [
    "## Export as CSV\n",
    "\n",
    "## use pandas to write to csv file\n",
    "## we already imported pandas as pd\n",
    "filename = \"lease_decisions.csv\" ## what are file name is\n",
    "df = pd.DataFrame(decisions) ## we turn our list of dicts into a dataframe which we're call df\n",
    "df\n",
    "df.to_csv(filename, encoding='utf-8', index=False) ## export to csv as utf-8 coding (it just has to be this)\n",
    "print(f\"{filename} is in your results folder!\") ## a print out that tells us the file is ready"
   ]
  },
  {
   "cell_type": "code",
   "execution_count": null,
   "metadata": {},
   "outputs": [],
   "source": []
  }
 ],
 "metadata": {
  "celltoolbar": "Slideshow",
  "colab": {
   "collapsed_sections": [],
   "name": "Week_8_in_class_exercise_download_and_read.ipynb",
   "provenance": [],
   "toc_visible": true
  },
  "kernelspec": {
   "display_name": "Python 3",
   "language": "python",
   "name": "python3"
  },
  "language_info": {
   "codemirror_mode": {
    "name": "ipython",
    "version": 3
   },
   "file_extension": ".py",
   "mimetype": "text/x-python",
   "name": "python",
   "nbconvert_exporter": "python",
   "pygments_lexer": "ipython3",
   "version": "3.8.3"
  }
 },
 "nbformat": 4,
 "nbformat_minor": 1
}
