{
 "cells": [
  {
   "cell_type": "markdown",
   "metadata": {},
   "source": [
    "# Homework:\n",
    "\n",
    "## Create structured data from unstructured data\n",
    "\n",
    "Use the ```reading txt.zip``` that contains more than a dozen files. You'll have to manually unzip it for now. Tap the week 7 lesson to do:\n",
    "\n",
    "• Analyze ONLY the .txt files (but do not physically remove the other files from this folder).\n",
    "\n",
    "• Output a CSV file that has 4 columns: year, cognition_related , medical_condition, care_hours.\n",
    "\n",
    "• In the cognition_related column, enter True if the condition is related to Dementia or Alzheimer's disease. False if it is not.\n",
    "\n",
    "• In the medical_conditions column, enter either “Dementia\" or “Alzheimer’s\" or “Not Specified” depending on the case.\n",
    "\n",
    "• In the care_hours column, enter either 12, 24 or “Not Specified\".\n",
    "• Export the CSV to your downloads."
   ]
  },
  {
   "cell_type": "code",
   "execution_count": null,
   "metadata": {},
   "outputs": [],
   "source": []
  }
 ],
 "metadata": {
  "colab": {
   "collapsed_sections": [],
   "name": "APAC Homework-for-week-8 Solution.ipynb",
   "provenance": []
  },
  "kernelspec": {
   "display_name": "Python 3",
   "language": "python",
   "name": "python3"
  },
  "language_info": {
   "codemirror_mode": {
    "name": "ipython",
    "version": 3
   },
   "file_extension": ".py",
   "mimetype": "text/x-python",
   "name": "python",
   "nbconvert_exporter": "python",
   "pygments_lexer": "ipython3",
   "version": "3.8.3"
  }
 },
 "nbformat": 4,
 "nbformat_minor": 1
}
