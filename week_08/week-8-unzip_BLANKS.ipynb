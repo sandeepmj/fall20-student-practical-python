{
 "cells": [
  {
   "cell_type": "markdown",
   "metadata": {
    "id": "XBTj3QNSHJZ8"
   },
   "source": [
    "# Zipped Folders\n",
    "\n",
    "We might encounter a zipped/compressed folders or folders that contain the files we need. Instead of manually unzipping them, we can deploy Python.\n",
    "\n",
    "[Download this file](https://www.dropbox.com/s/zm4xp8xh92m7ta9/manyFiles.zip?dl=0) (Google Drive will unzip it automatically, but look for the zipped folder in your downloads).\n",
    "\n"
   ]
  },
  {
   "cell_type": "code",
   "execution_count": null,
   "metadata": {
    "executionInfo": {
     "elapsed": 270,
     "status": "ok",
     "timestamp": 1602640229814,
     "user": {
      "displayName": "Sandeep Junnarkar",
      "photoUrl": "",
      "userId": "15658885848901522782"
     },
     "user_tz": 240
    },
    "id": "eQ_GuWHqMVOC"
   },
   "outputs": [],
   "source": [
    "## package needed\n",
    "from zipfile import ZipFile"
   ]
  },
  {
   "cell_type": "code",
   "execution_count": null,
   "metadata": {
    "colab": {
     "base_uri": "https://localhost:8080/",
     "height": 34
    },
    "executionInfo": {
     "elapsed": 277,
     "status": "ok",
     "timestamp": 1602641149373,
     "user": {
      "displayName": "Sandeep Junnarkar",
      "photoUrl": "",
      "userId": "15658885848901522782"
     },
     "user_tz": 240
    },
    "id": "HbheZ5DrMVOJ",
    "outputId": "59d5ccfd-ce45-443c-c828-d9b0fe0b12d4"
   },
   "outputs": [],
   "source": [
    "## ZipFile is from the package we imported\n",
    "## my_folder_object is what i am calling the resulting object\n"
   ]
  },
  {
   "cell_type": "code",
   "execution_count": null,
   "metadata": {},
   "outputs": [],
   "source": [
    "## code to unzip the folder in the same director\n"
   ]
  },
  {
   "cell_type": "code",
   "execution_count": null,
   "metadata": {
    "executionInfo": {
     "elapsed": 282,
     "status": "ok",
     "timestamp": 1602640616386,
     "user": {
      "displayName": "Sandeep Junnarkar",
      "photoUrl": "",
      "userId": "15658885848901522782"
     },
     "user_tz": 240
    },
    "id": "FSKGW1T4MVOL"
   },
   "outputs": [],
   "source": [
    "## extract into a separate directory called \"unzipped_files\"\n"
   ]
  },
  {
   "cell_type": "code",
   "execution_count": null,
   "metadata": {
    "colab": {
     "base_uri": "https://localhost:8080/",
     "height": 70
    },
    "executionInfo": {
     "elapsed": 364,
     "status": "ok",
     "timestamp": 1602641015552,
     "user": {
      "displayName": "Sandeep Junnarkar",
      "photoUrl": "",
      "userId": "15658885848901522782"
     },
     "user_tz": 240
    },
    "id": "aU2Yl-GuMVOO",
    "outputId": "8e53a637-3794-4928-be5d-2e427467353e"
   },
   "outputs": [],
   "source": [
    "## extract only a type of file within my zipped folder\n",
    "## extract only the .csv file(s)\n",
    "\n"
   ]
  },
  {
   "cell_type": "code",
   "execution_count": null,
   "metadata": {
    "colab": {
     "base_uri": "https://localhost:8080/",
     "height": 507
    },
    "executionInfo": {
     "elapsed": 269,
     "status": "ok",
     "timestamp": 1602641731085,
     "user": {
      "displayName": "Sandeep Junnarkar",
      "photoUrl": "",
      "userId": "15658885848901522782"
     },
     "user_tz": 240
    },
    "id": "xEQbGZLQ1e6X",
    "outputId": "fdd3d803-a819-49c7-df3e-a2665ed53668"
   },
   "outputs": [],
   "source": [
    "## unzip and gather only the IMAGE files\n",
    "\n",
    "    \n"
   ]
  }
 ],
 "metadata": {
  "colab": {
   "collapsed_sections": [],
   "name": "APAC week-12-unzip_Solutions.ipynb",
   "provenance": []
  },
  "kernelspec": {
   "display_name": "Python 3",
   "language": "python",
   "name": "python3"
  },
  "language_info": {
   "codemirror_mode": {
    "name": "ipython",
    "version": 3
   },
   "file_extension": ".py",
   "mimetype": "text/x-python",
   "name": "python",
   "nbconvert_exporter": "python",
   "pygments_lexer": "ipython3",
   "version": "3.8.3"
  }
 },
 "nbformat": 4,
 "nbformat_minor": 1
}
