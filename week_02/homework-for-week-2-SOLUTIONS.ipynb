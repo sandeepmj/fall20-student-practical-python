{
 "cells": [
  {
   "cell_type": "markdown",
   "metadata": {},
   "source": [
    "# Week 1 - Homework\n"
   ]
  },
  {
   "cell_type": "markdown",
   "metadata": {},
   "source": [
    "## Working with Numbers"
   ]
  },
  {
   "cell_type": "code",
   "execution_count": null,
   "metadata": {},
   "outputs": [],
   "source": [
    "## create a variable called sales equal to 45.3 million\n",
    "## print it as \"Sales totalled $45,300,000 in 2019\" using f-string literal (0 decimal places)\n",
    "## use thousands separator/digit group separator to make it easier to read\n",
    "sales = 45_300_000\n",
    "print(f\"Sales equaled ${sales:,.0f} in 2019. \")"
   ]
  },
  {
   "cell_type": "code",
   "execution_count": null,
   "metadata": {},
   "outputs": [],
   "source": [
    "## create a variable called apple_cap equal to $1.41 trillion in scientific notation\n",
    "## Print it like you did above but to no decimal places.\n",
    "apple_cap = 1.41E12\n",
    "print(f\"${apple_cap:,.0f}\")"
   ]
  },
  {
   "cell_type": "markdown",
   "metadata": {},
   "source": [
    "## Working with Lists"
   ]
  },
  {
   "cell_type": "code",
   "execution_count": 1,
   "metadata": {},
   "outputs": [
    {
     "data": {
      "text/plain": [
       "['Bankruptcy',\n",
       " 'Mergers',\n",
       " 'Acquisitions',\n",
       " 'Short selling',\n",
       " 'Liquidations',\n",
       " 'Equity']"
      ]
     },
     "execution_count": 1,
     "metadata": {},
     "output_type": "execute_result"
    }
   ],
   "source": [
    "## Combine the two lists into a single list called combined_list\n",
    "terms_1 = [\"Bankruptcy\", \"Mergers\", \"Acquisitions\"]\n",
    "terms_2 = [\"Short selling\", \"Liquidations\", \"Equity\"]\n",
    "\n",
    "# method 1\n",
    "# combined_list = terms_1 + terms_2\n",
    "\n",
    "\n",
    "# method 2\n",
    "# terms_1.extend(terms_2)\n",
    "# combined_list = terms_1\n",
    "\n",
    "# method 3 (PREFERRED)\n",
    "combined_list = [*terms_1, *terms_2]\n",
    "\n",
    "## show the new list:\n",
    "combined_list"
   ]
  },
  {
   "cell_type": "markdown",
   "metadata": {},
   "source": [
    "## Working with List of Dictionaries\n",
    "\n",
    "#### Create a list of dictionaries called \"donations\" using the content from the image below:\n",
    "\n",
    "![alt text](https://raw.githubusercontent.com/sandeepmj/practical_python_exercises/master/support_files/donors.png)\n",
    "\n",
    "## If you want to copy and paste the content, click <a href=\"https://github.com/sandeepmj/practical_python_exercises/blob/master/support_files/giving.xlsx?raw=true\" target=\"blank\">here</a> to download the Excel file.\n",
    "More instructions in the next cell:"
   ]
  },
  {
   "cell_type": "code",
   "execution_count": 6,
   "metadata": {},
   "outputs": [
    {
     "data": {
      "text/plain": [
       "[1,\n",
       " 'Holiday',\n",
       " {'year': 2017,\n",
       "  'donor': 'David Koch Charitable Foundation',\n",
       "  'grantee': 'City Center for Music and Drama',\n",
       "  'amount': 15000000.0},\n",
       " {'year': 2013,\n",
       "  'donor': 'Bradley Impact Fund',\n",
       "  'grantee': 'Young Americans',\n",
       "  'amount': 11000.0},\n",
       " {'year': 2016,\n",
       "  'donor': 'Mercer Family Foundation',\n",
       "  'grantee': 'The Becket Fund',\n",
       "  'amount': 250000.0},\n",
       " {'year': 2012,\n",
       "  'donor': 'Charles Koch Foundation',\n",
       "  'grantee': 'The Phillips Foundation',\n",
       "  'amount': 25000.0},\n",
       " {'year': 2017,\n",
       "  'donor': 'Barbara And Barre Seid Foundation',\n",
       "  'grantee': 'Boys Scouts of America',\n",
       "  'amount': 2634600.0}]"
      ]
     },
     "execution_count": 6,
     "metadata": {},
     "output_type": "execute_result"
    }
   ],
   "source": [
    "## You may copy the contents of each cell in the XLSX file, but...\n",
    "## ...type out all the code.\n",
    "## print the dictionary\n",
    "\n",
    "\n",
    "donations = [\n",
    "    {\"year\": 2017, \"donor\": \"David Koch Charitable Foundation\", \"grantee\": \"City Center for Music and Drama\", \"amount\": 15E6}, \n",
    "    {\"year\": 2013, \"donor\": \"Bradley Impact Fund\", \"grantee\": \"Young Americans\", \"amount\": 11E3}, \n",
    "    {\"year\": 2016, \"donor\": \"Mercer Family Foundation\", \"grantee\": \"The Becket Fund\", \"amount\": 250E3}, \n",
    "    {\"year\": 2012, \"donor\": \"Charles Koch Foundation\", \"grantee\": \"The Phillips Foundation\", \"amount\": 25E3},\n",
    "    {\"year\": 2017, \"donor\": \"Barbara And Barre Seid Foundation\", \"grantee\": \"Boys Scouts of America\", \"amount\": 26346E2}\n",
    "]\n",
    "donations"
   ]
  },
  {
   "cell_type": "code",
   "execution_count": 7,
   "metadata": {},
   "outputs": [
    {
     "data": {
      "text/plain": [
       "list"
      ]
     },
     "execution_count": 7,
     "metadata": {},
     "output_type": "execute_result"
    }
   ],
   "source": [
    "type(donations)"
   ]
  },
  {
   "cell_type": "code",
   "execution_count": 8,
   "metadata": {},
   "outputs": [
    {
     "name": "stdout",
     "output_type": "stream",
     "text": [
      "<class 'int'>\n",
      "<class 'str'>\n",
      "<class 'dict'>\n",
      "<class 'dict'>\n",
      "<class 'dict'>\n",
      "<class 'dict'>\n",
      "<class 'dict'>\n"
     ]
    }
   ],
   "source": [
    "for thing in donations:\n",
    "    print(type(thing))"
   ]
  },
  {
   "cell_type": "code",
   "execution_count": 2,
   "metadata": {},
   "outputs": [
    {
     "data": {
      "text/plain": [
       "5"
      ]
     },
     "execution_count": 2,
     "metadata": {},
     "output_type": "execute_result"
    }
   ],
   "source": [
    "## How many items are in this list?\n",
    "## Don't just manually count them.\n",
    "## There will come a time when you will have thousands of items!\n",
    "len(donations)"
   ]
  },
  {
   "cell_type": "code",
   "execution_count": null,
   "metadata": {},
   "outputs": [],
   "source": [
    "## How many key/value pairs are there in the last dictionary\n",
    "len(donations[4])"
   ]
  },
  {
   "cell_type": "code",
   "execution_count": null,
   "metadata": {},
   "outputs": [],
   "source": [
    "## Add one more key/value pair to the first item in the dictionary\n",
    "## Add: \"category\": \"youth\"\n",
    "donations[0].update({\"category\": \"youth\"})\n",
    "donations"
   ]
  },
  {
   "cell_type": "code",
   "execution_count": null,
   "metadata": {},
   "outputs": [],
   "source": [
    "## Show the 3rd item in the list (including keys and values)\n",
    "donations[2]"
   ]
  },
  {
   "cell_type": "code",
   "execution_count": null,
   "metadata": {},
   "outputs": [],
   "source": [
    "##show the 2nd through last:\n",
    "donations[1:5]"
   ]
  },
  {
   "cell_type": "code",
   "execution_count": null,
   "metadata": {},
   "outputs": [],
   "source": [
    "## Go full circle and create a list that holds just the column headers.\n",
    "## Call that list \"csv_columns\"\n",
    "## print the list\n",
    "csv_columns = [*donations[0]]\n",
    "# csv_columns = list(donations[0])\n",
    "csv_columns"
   ]
  },
  {
   "cell_type": "markdown",
   "metadata": {},
   "source": [
    "### Removing items from a dictionary\n",
    "We realize the first item in the list of dictionaries is the only one with \"category\" key. "
   ]
  },
  {
   "cell_type": "code",
   "execution_count": null,
   "metadata": {},
   "outputs": [],
   "source": [
    "## Remove that single key/value pair prior to the next task.\n",
    "del donations[0][\"category\"]\n",
    "donations[0]"
   ]
  },
  {
   "cell_type": "code",
   "execution_count": null,
   "metadata": {},
   "outputs": [],
   "source": [
    "## Create the column headers again\n",
    "## Call that list \"csv_columns\"\n",
    "## print the list\n",
    "csv_columns = [*donations[0]]\n",
    "# csv_columns = list(donations[0])\n",
    "csv_columns"
   ]
  },
  {
   "cell_type": "markdown",
   "metadata": {},
   "source": [
    "### What are relevant journalistic uses for the various methods above?\n",
    "\n",
    "#### 1. Making numbers more readable (using f-string literal formatting)\n",
    "#### 2. Organizing data points after acquiring them through scraping (creating lists, dictionaries and lists of dictionaries)\n",
    "#### 3. Confirming that we have unique values (or removing duplicates in a data set)\n",
    "#### 4. Creating column headers to prepare data for export to a CSV file"
   ]
  }
 ],
 "metadata": {
  "kernelspec": {
   "display_name": "Python 3",
   "language": "python",
   "name": "python3"
  },
  "language_info": {
   "codemirror_mode": {
    "name": "ipython",
    "version": 3
   },
   "file_extension": ".py",
   "mimetype": "text/x-python",
   "name": "python",
   "nbconvert_exporter": "python",
   "pygments_lexer": "ipython3",
   "version": "3.8.3"
  }
 },
 "nbformat": 4,
 "nbformat_minor": 2
}
