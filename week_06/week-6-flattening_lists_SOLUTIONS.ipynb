{
 "cells": [
  {
   "cell_type": "markdown",
   "metadata": {
    "slideshow": {
     "slide_type": "slide"
    }
   },
   "source": [
    "# Flattening a List of Iterables"
   ]
  },
  {
   "cell_type": "code",
   "execution_count": null,
   "metadata": {
    "slideshow": {
     "slide_type": "slide"
    }
   },
   "outputs": [],
   "source": [
    "## you have a list that contains lists\n",
    "big_list = [[1, 2, 3], [4, 5, 6], [7], [8, 9]]\n",
    "big_list"
   ]
  },
  {
   "cell_type": "code",
   "execution_count": null,
   "metadata": {
    "slideshow": {
     "slide_type": "slide"
    }
   },
   "outputs": [],
   "source": [
    "## let's do something simple like add 10 to each item in the list\n",
    "\n",
    "## THIS WILL BREAK!\n",
    "\n",
    "for number in big_list:\n",
    "    print(f\"{number + 10}\")"
   ]
  },
  {
   "cell_type": "code",
   "execution_count": null,
   "metadata": {},
   "outputs": [],
   "source": [
    "## what actually is in this list?\n",
    "for number in big_list:\n",
    "    print(number)\n",
    "    print(type(number))"
   ]
  },
  {
   "cell_type": "markdown",
   "metadata": {
    "slideshow": {
     "slide_type": "slide"
    }
   },
   "source": [
    "<img src=\"../support_files/flat_fl.png\" width=\"75%\">"
   ]
  },
  {
   "cell_type": "code",
   "execution_count": null,
   "metadata": {
    "slideshow": {
     "slide_type": "slide"
    }
   },
   "outputs": [],
   "source": [
    "## for loop to create a flat_list\n",
    "flat_list = []\n",
    "\n",
    "for sub_list in big_list:\n",
    "    for item in sub_list:\n",
    "        flat_list.append(item)\n",
    "        \n",
    "flat_list"
   ]
  },
  {
   "cell_type": "markdown",
   "metadata": {},
   "source": [
    "<img src=\"../support_files/flat_lc.png\" width=\"75%\">"
   ]
  },
  {
   "cell_type": "code",
   "execution_count": null,
   "metadata": {
    "slideshow": {
     "slide_type": "slide"
    }
   },
   "outputs": [],
   "source": [
    "## list comprehension to create a flat_list_lc\n",
    "\n",
    "flat_list_lc = [item for sub_list in big_list for item in sub_list]\n",
    "\n",
    "flat_list_lc"
   ]
  },
  {
   "cell_type": "markdown",
   "metadata": {
    "slideshow": {
     "slide_type": "slide"
    }
   },
   "source": [
    "### ```itertools```\n",
    "\n",
    "```itertools``` is a native Python module that allows efficient processing of iterables.\n",
    "\n",
    "<a href=\"https://docs.python.org/3/library/itertools.html\">More info</a> on all itertools methods."
   ]
  },
  {
   "cell_type": "code",
   "execution_count": null,
   "metadata": {
    "slideshow": {
     "slide_type": "slide"
    }
   },
   "outputs": [],
   "source": [
    "## use itertools\n",
    "import itertools\n",
    "list(itertools.chain(*big_list))"
   ]
  },
  {
   "cell_type": "markdown",
   "metadata": {
    "slideshow": {
     "slide_type": "slide"
    }
   },
   "source": [
    "### Flatten a list of tuples"
   ]
  },
  {
   "cell_type": "code",
   "execution_count": null,
   "metadata": {
    "slideshow": {
     "slide_type": "slide"
    }
   },
   "outputs": [],
   "source": [
    "## a list of tuples that are the a number and its square\n",
    "my_tupes = [(1,1), (2,4), (3,9), (4,16)]\n",
    "my_tupes"
   ]
  },
  {
   "cell_type": "code",
   "execution_count": null,
   "metadata": {
    "slideshow": {
     "slide_type": "slide"
    }
   },
   "outputs": [],
   "source": [
    "## flatten using a for loop and place in a list called flat_tupes\n",
    "\n",
    "flat_tupes = []\n",
    "for sub_list in my_tupes:\n",
    "    for tup in sub_list:\n",
    "        flat_tupes.append(tup)\n",
    "\n",
    "        \n",
    "flat_tupes\n",
    "        "
   ]
  },
  {
   "cell_type": "code",
   "execution_count": null,
   "metadata": {
    "slideshow": {
     "slide_type": "slide"
    }
   },
   "outputs": [],
   "source": [
    "## flatten using list comprehension and place in list called flat_tupes_lc\n",
    "flat_tupes_lc = [tup for sub_list in my_tupes for tup in sub_list]\n",
    "flat_tupes_lc"
   ]
  },
  {
   "cell_type": "code",
   "execution_count": null,
   "metadata": {
    "slideshow": {
     "slide_type": "slide"
    }
   },
   "outputs": [],
   "source": [
    "list(itertools.chain(*my_tupes))"
   ]
  },
  {
   "cell_type": "code",
   "execution_count": null,
   "metadata": {
    "slideshow": {
     "slide_type": "slide"
    }
   },
   "outputs": [],
   "source": []
  }
 ],
 "metadata": {
  "celltoolbar": "Slideshow",
  "kernelspec": {
   "display_name": "Python 3",
   "language": "python",
   "name": "python3"
  },
  "language_info": {
   "codemirror_mode": {
    "name": "ipython",
    "version": 3
   },
   "file_extension": ".py",
   "mimetype": "text/x-python",
   "name": "python",
   "nbconvert_exporter": "python",
   "pygments_lexer": "ipython3",
   "version": "3.8.3"
  }
 },
 "nbformat": 4,
 "nbformat_minor": 4
}
