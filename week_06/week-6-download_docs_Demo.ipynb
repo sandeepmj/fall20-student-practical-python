{
 "cells": [
  {
   "cell_type": "markdown",
   "metadata": {
    "slideshow": {
     "slide_type": "slide"
    }
   },
   "source": [
    "# Scraping Files from Websites "
   ]
  },
  {
   "cell_type": "markdown",
   "metadata": {
    "slideshow": {
     "slide_type": "slide"
    }
   },
   "source": [
    "### You need to create a data set that tracks how many companies the <a href=\"https://www.sec.gov/litigation/suspensions.shtml\">SEC suspended</a> between 2019 and 1999. You find the data at:\n",
    "\n",
    "```https://www.sec.gov/litigation/suspensions.shtml```\n",
    "\n"
   ]
  },
  {
   "cell_type": "markdown",
   "metadata": {
    "slideshow": {
     "slide_type": "slide"
    }
   },
   "source": [
    "### We want to write a scraper that aggregates:\n",
    "\n",
    "* Date of suspension\n",
    "* Company name\n",
    "* Order\n",
    "* Release (the PDFs in the XX-YYYYY format)"
   ]
  },
  {
   "cell_type": "markdown",
   "metadata": {
    "slideshow": {
     "slide_type": "slide"
    }
   },
   "source": [
    "# The Challenge?"
   ]
  },
  {
   "cell_type": "markdown",
   "metadata": {
    "slideshow": {
     "slide_type": "slide"
    }
   },
   "source": [
    "### Details are actually in PDFs!"
   ]
  },
  {
   "cell_type": "markdown",
   "metadata": {
    "slideshow": {
     "slide_type": "slide"
    }
   },
   "source": [
    "# Demo downloading files from websites "
   ]
  },
  {
   "cell_type": "markdown",
   "metadata": {
    "slideshow": {
     "slide_type": "slide"
    }
   },
   "source": [
    "There are ```txt``` and ```pdf``` files on:\n",
    "\n",
    "```https://sandeepmj.github.io/scrape-example-page/pages.html```\n",
    "\n",
    "Do the following:\n",
    "\n",
    "1. Download all ```txt``` files.\n",
    "2. Download all ```pdf``` files.\n",
    "3. Download all files as one."
   ]
  },
  {
   "cell_type": "code",
   "execution_count": 1,
   "metadata": {
    "slideshow": {
     "slide_type": "slide"
    }
   },
   "outputs": [],
   "source": [
    "# import libraries\n",
    "from bs4 import BeautifulSoup  ## scrape info from web pages\n",
    "import requests ## get web pages from server\n",
    "import time # time is required. we will use its sleep function\n",
    "from random import randrange # generate random numbers\n",
    "\n",
    "# from google.colab import files ## code for downloading in google colab"
   ]
  },
  {
   "cell_type": "code",
   "execution_count": 2,
   "metadata": {
    "slideshow": {
     "slide_type": "slide"
    }
   },
   "outputs": [],
   "source": [
    "# url to scrape\n",
    "url = \"https://sandeepmj.github.io/scrape-example-page/pages.html\""
   ]
  },
  {
   "cell_type": "markdown",
   "metadata": {
    "slideshow": {
     "slide_type": "slide"
    }
   },
   "source": [
    "## Turn page into soup"
   ]
  },
  {
   "cell_type": "code",
   "execution_count": 3,
   "metadata": {
    "slideshow": {
     "slide_type": "slide"
    }
   },
   "outputs": [
    {
     "name": "stdout",
     "output_type": "stream",
     "text": [
      "<html lang=\"en\">\n",
      "<head>\n",
      "<!-- Makes the page responsive and scaled to be read easily -->\n",
      "<meta content=\"width=device-width, initial-scale=1\" name=\"viewport\"/>\n",
      "<!-- Links to stylesheet -->\n",
      "<link href=\"style.css\" rel=\"stylesheet\" type=\"text/css\"/>\n",
      "<!-- Remember to update page title -->\n",
      "<title>List of Documents</title>\n",
      "</head>\n",
      "<body>\n",
      "<!-- All content goes here -->\n",
      "<div class=\"container\">\n",
      "<h1>Documents to Download</h1>\n",
      "<li>Junk Li tag</li>\n",
      "<li>Junk Li tag</li>\n",
      "<ul class=\"txts downloadable\">\n",
      "<p class=\"pages\">Download this list of text documents</p>\n",
      "<li>Text Document <a href=\"files/text_doc_01.txt\">1</a> </li>\n",
      "<li>Text Document <a href=\"files/text_doc_02.txt\">2</a></li>\n",
      "<li>Text Document <a href=\"files/text_doc_03.txt\">3</a></li>\n",
      "<li>Text Document <a href=\"files/text_doc_04.txt\">4</a></li>\n",
      "<li>Text Document <a href=\"files/text_doc_05.txt\">5</a></li>\n",
      "<li>Text Document <a href=\"files/text_doc_06.txt\">6</a></li>\n",
      "<li>Text Document <a href=\"files/text_doc_07.txt\">7</a></li>\n",
      "<li>Text Document <a href=\"files/text_doc_08.txt\">8</a></li>\n",
      "<li>Text Document <a href=\"files/text_doc_09.txt\">9</a></li>\n",
      "<li>Text Document <a href=\"files/text_doc_10.txt\">10</a></li>\n",
      "</ul>\n",
      "<li>Junk Li tag</li>\n",
      "<li>Junk Li tag</li>\n",
      "<ul class=\"pdfs downloadable\">\n",
      "<p class=\"pages\">Download this list of PDFs</p>\n",
      "<li>PDF Document <a href=\"files/pdf_1.pdf\">1</a> </li>\n",
      "<li>PDF Document <a href=\"files/pdf_2.pdf\">2</a></li>\n",
      "<li>PDF Document <a href=\"files/pdf_3.pdf\">3</a></li>\n",
      "<li>PDF Document <a href=\"files/pdf_4.pdf\">4</a></li>\n",
      "<li>PDF Document <a href=\"files/pdf_5.pdf\">5</a></li>\n",
      "<li>PDF Document <a href=\"files/pdf_6.pdf\">6</a></li>\n",
      "<li>PDF Document <a href=\"files/pdf_7.pdf\">7</a></li>\n",
      "<li>PDF Document <a href=\"files/pdf_8.pdf\">8</a></li>\n",
      "<li>PDF Document <a href=\"files/pdf_9.pdf\">9</a></li>\n",
      "<li>PDF Document <a href=\"files/pdf_10.pdf\">10</a></li>\n",
      "</ul>\n",
      "<li>Junk Li tag</li>\n",
      "<li>Junk Li tag</li>\n",
      "</div>\n",
      "</body>\n",
      "</html>\n"
     ]
    }
   ],
   "source": [
    "## get url and print but hard to read. will do prettify next\n",
    "page = requests.get(url)\n",
    "soup = BeautifulSoup(page.content, \"html.parser\")\n",
    "print(soup)"
   ]
  },
  {
   "cell_type": "markdown",
   "metadata": {
    "slideshow": {
     "slide_type": "slide"
    }
   },
   "source": [
    "## Find all txt files"
   ]
  },
  {
   "cell_type": "code",
   "execution_count": 4,
   "metadata": {
    "collapsed": true,
    "slideshow": {
     "slide_type": "slide"
    }
   },
   "outputs": [
    {
     "name": "stdout",
     "output_type": "stream",
     "text": [
      "[<ul class=\"txts downloadable\">\n",
      "<p class=\"pages\">Download this list of text documents</p>\n",
      "<li>Text Document <a href=\"files/text_doc_01.txt\">1</a> </li>\n",
      "<li>Text Document <a href=\"files/text_doc_02.txt\">2</a></li>\n",
      "<li>Text Document <a href=\"files/text_doc_03.txt\">3</a></li>\n",
      "<li>Text Document <a href=\"files/text_doc_04.txt\">4</a></li>\n",
      "<li>Text Document <a href=\"files/text_doc_05.txt\">5</a></li>\n",
      "<li>Text Document <a href=\"files/text_doc_06.txt\">6</a></li>\n",
      "<li>Text Document <a href=\"files/text_doc_07.txt\">7</a></li>\n",
      "<li>Text Document <a href=\"files/text_doc_08.txt\">8</a></li>\n",
      "<li>Text Document <a href=\"files/text_doc_09.txt\">9</a></li>\n",
      "<li>Text Document <a href=\"files/text_doc_10.txt\">10</a></li>\n",
      "</ul>]\n"
     ]
    }
   ],
   "source": [
    "## save in list called txt_holder\n",
    "txt_holder = soup.find_all(\"ul\", class_=\"txts\")\n",
    "print(txt_holder)"
   ]
  },
  {
   "cell_type": "markdown",
   "metadata": {
    "slideshow": {
     "slide_type": "slide"
    }
   },
   "source": [
    "## Find all the ```a``` tags "
   ]
  },
  {
   "cell_type": "code",
   "execution_count": 7,
   "metadata": {
    "collapsed": true,
    "slideshow": {
     "slide_type": "slide"
    }
   },
   "outputs": [
    {
     "name": "stdout",
     "output_type": "stream",
     "text": [
      "[<a href=\"files/text_doc_01.txt\">1</a>, <a href=\"files/text_doc_02.txt\">2</a>, <a href=\"files/text_doc_03.txt\">3</a>, <a href=\"files/text_doc_04.txt\">4</a>, <a href=\"files/text_doc_05.txt\">5</a>, <a href=\"files/text_doc_06.txt\">6</a>, <a href=\"files/text_doc_07.txt\">7</a>, <a href=\"files/text_doc_08.txt\">8</a>, <a href=\"files/text_doc_09.txt\">9</a>, <a href=\"files/text_doc_10.txt\">10</a>]\n",
      "<class 'bs4.element.ResultSet'>\n"
     ]
    }
   ],
   "source": [
    "## for loop\n",
    "for txt_files in txt_holder:\n",
    "    txt_file_links = txt_files.find_all(\"a\")\n",
    "    print(txt_file_links)\n",
    "    print(type(txt_file_links))"
   ]
  },
  {
   "cell_type": "code",
   "execution_count": 8,
   "metadata": {},
   "outputs": [
    {
     "data": {
      "text/plain": [
       "[<a href=\"files/text_doc_01.txt\">1</a>,\n",
       " <a href=\"files/text_doc_02.txt\">2</a>,\n",
       " <a href=\"files/text_doc_03.txt\">3</a>,\n",
       " <a href=\"files/text_doc_04.txt\">4</a>,\n",
       " <a href=\"files/text_doc_05.txt\">5</a>,\n",
       " <a href=\"files/text_doc_06.txt\">6</a>,\n",
       " <a href=\"files/text_doc_07.txt\">7</a>,\n",
       " <a href=\"files/text_doc_08.txt\">8</a>,\n",
       " <a href=\"files/text_doc_09.txt\">9</a>,\n",
       " <a href=\"files/text_doc_10.txt\">10</a>]"
      ]
     },
     "execution_count": 8,
     "metadata": {},
     "output_type": "execute_result"
    }
   ],
   "source": [
    "## look at the links\n",
    "txt_file_links\n"
   ]
  },
  {
   "cell_type": "markdown",
   "metadata": {
    "slideshow": {
     "slide_type": "slide"
    }
   },
   "source": [
    "## What is missing from the URLs?"
   ]
  },
  {
   "cell_type": "code",
   "execution_count": 10,
   "metadata": {
    "slideshow": {
     "slide_type": "slide"
    }
   },
   "outputs": [],
   "source": [
    "base_url = \"https://sandeepmj.github.io/scrape-example-page/\""
   ]
  },
  {
   "cell_type": "markdown",
   "metadata": {
    "slideshow": {
     "slide_type": "slide"
    }
   },
   "source": [
    "## Create a list of the full URLs\n",
    "\n",
    "Without all the ```html```"
   ]
  },
  {
   "cell_type": "code",
   "execution_count": 12,
   "metadata": {},
   "outputs": [
    {
     "data": {
      "text/plain": [
       "['https://sandeepmj.github.io/scrape-example-page/files/text_doc_01.txt',\n",
       " 'https://sandeepmj.github.io/scrape-example-page/files/text_doc_02.txt',\n",
       " 'https://sandeepmj.github.io/scrape-example-page/files/text_doc_03.txt',\n",
       " 'https://sandeepmj.github.io/scrape-example-page/files/text_doc_04.txt',\n",
       " 'https://sandeepmj.github.io/scrape-example-page/files/text_doc_05.txt',\n",
       " 'https://sandeepmj.github.io/scrape-example-page/files/text_doc_06.txt',\n",
       " 'https://sandeepmj.github.io/scrape-example-page/files/text_doc_07.txt',\n",
       " 'https://sandeepmj.github.io/scrape-example-page/files/text_doc_08.txt',\n",
       " 'https://sandeepmj.github.io/scrape-example-page/files/text_doc_09.txt',\n",
       " 'https://sandeepmj.github.io/scrape-example-page/files/text_doc_10.txt']"
      ]
     },
     "execution_count": 12,
     "metadata": {},
     "output_type": "execute_result"
    }
   ],
   "source": [
    "## lc\n",
    "all_txt_links = [base_url + txt_link.get(\"href\")\\\n",
    "                 for txt_link in txt_file_links]\n",
    "all_txt_links"
   ]
  },
  {
   "cell_type": "markdown",
   "metadata": {
    "slideshow": {
     "slide_type": "slide"
    }
   },
   "source": [
    "## Download all the ```txt``` documents"
   ]
  },
  {
   "cell_type": "code",
   "execution_count": 16,
   "metadata": {},
   "outputs": [
    {
     "name": "stdout",
     "output_type": "stream",
     "text": [
      "Requirement already satisfied: wget in /Users/sandeep.junnarkar/opt/anaconda3/lib/python3.8/site-packages (3.2)\n",
      "Note: you may need to restart the kernel to use updated packages.\n"
     ]
    }
   ],
   "source": [
    "pip install wget"
   ]
  },
  {
   "cell_type": "code",
   "execution_count": 17,
   "metadata": {},
   "outputs": [],
   "source": [
    "\n",
    "import wget # can put down documents, files from websites"
   ]
  },
  {
   "cell_type": "code",
   "execution_count": 25,
   "metadata": {
    "slideshow": {
     "slide_type": "slide"
    }
   },
   "outputs": [
    {
     "name": "stdout",
     "output_type": "stream",
     "text": [
      "Downloaded link 1\n",
      "Snoozing for 4 seconds before scraping next link\n",
      "Downloaded link 2\n",
      "Snoozing for 4 seconds before scraping next link\n",
      "Downloaded link 3\n",
      "Snoozing for 3 seconds before scraping next link\n",
      "Downloaded link 4\n",
      "Snoozing for 5 seconds before scraping next link\n"
     ]
    }
   ],
   "source": [
    "## download with timer\n",
    "link_numbers = len(all_txt_links)\n",
    "\n",
    "link_count = 1\n",
    "\n",
    "for link in all_txt_links[3:7]:\n",
    "    print(f\"Downloaded link {link_count}  of {link_numbers}\")\n",
    "    wget.download(link)\n",
    "    link_count += 1\n",
    "    snooze = randrange(3,6)\n",
    "    print(f\"Snoozing for {snooze} seconds before scraping next link\")\n",
    "    time.sleep(snooze)"
   ]
  },
  {
   "cell_type": "markdown",
   "metadata": {
    "slideshow": {
     "slide_type": "slide"
    }
   },
   "source": [
    "# Find all ```pdf``` files"
   ]
  },
  {
   "cell_type": "code",
   "execution_count": 26,
   "metadata": {
    "slideshow": {
     "slide_type": "slide"
    }
   },
   "outputs": [
    {
     "data": {
      "text/plain": [
       "[<ul class=\"pdfs downloadable\">\n",
       " <p class=\"pages\">Download this list of PDFs</p>\n",
       " <li>PDF Document <a href=\"files/pdf_1.pdf\">1</a> </li>\n",
       " <li>PDF Document <a href=\"files/pdf_2.pdf\">2</a></li>\n",
       " <li>PDF Document <a href=\"files/pdf_3.pdf\">3</a></li>\n",
       " <li>PDF Document <a href=\"files/pdf_4.pdf\">4</a></li>\n",
       " <li>PDF Document <a href=\"files/pdf_5.pdf\">5</a></li>\n",
       " <li>PDF Document <a href=\"files/pdf_6.pdf\">6</a></li>\n",
       " <li>PDF Document <a href=\"files/pdf_7.pdf\">7</a></li>\n",
       " <li>PDF Document <a href=\"files/pdf_8.pdf\">8</a></li>\n",
       " <li>PDF Document <a href=\"files/pdf_9.pdf\">9</a></li>\n",
       " <li>PDF Document <a href=\"files/pdf_10.pdf\">10</a></li>\n",
       " </ul>]"
      ]
     },
     "execution_count": 26,
     "metadata": {},
     "output_type": "execute_result"
    }
   ],
   "source": [
    "## grab pdfs\n",
    "pdf_holder = soup.find_all(\"ul\", class_=\"pdfs\")\n",
    "pdf_holder"
   ]
  },
  {
   "cell_type": "markdown",
   "metadata": {
    "slideshow": {
     "slide_type": "slide"
    }
   },
   "source": [
    "## Find all the ```a``` tags "
   ]
  },
  {
   "cell_type": "code",
   "execution_count": 28,
   "metadata": {
    "slideshow": {
     "slide_type": "slide"
    }
   },
   "outputs": [
    {
     "name": "stdout",
     "output_type": "stream",
     "text": [
      "<class 'bs4.element.ResultSet'>\n"
     ]
    },
    {
     "data": {
      "text/plain": [
       "[<a href=\"files/pdf_1.pdf\">1</a>,\n",
       " <a href=\"files/pdf_2.pdf\">2</a>,\n",
       " <a href=\"files/pdf_3.pdf\">3</a>,\n",
       " <a href=\"files/pdf_4.pdf\">4</a>,\n",
       " <a href=\"files/pdf_5.pdf\">5</a>,\n",
       " <a href=\"files/pdf_6.pdf\">6</a>,\n",
       " <a href=\"files/pdf_7.pdf\">7</a>,\n",
       " <a href=\"files/pdf_8.pdf\">8</a>,\n",
       " <a href=\"files/pdf_9.pdf\">9</a>,\n",
       " <a href=\"files/pdf_10.pdf\">10</a>]"
      ]
     },
     "execution_count": 28,
     "metadata": {},
     "output_type": "execute_result"
    }
   ],
   "source": [
    "## for loop store in all_pdf_links_fl\n",
    "for pdf_files in pdf_holder:\n",
    "    pdf_file_links = pdf_files.find_all(\"a\")\n",
    "    print(type(pdf_file_links))\n",
    "    \n",
    "pdf_file_links"
   ]
  },
  {
   "cell_type": "markdown",
   "metadata": {
    "slideshow": {
     "slide_type": "slide"
    }
   },
   "source": [
    "## Find all the ```a``` tags \n",
    "\n",
    "Without all the ```html```"
   ]
  },
  {
   "cell_type": "code",
   "execution_count": 30,
   "metadata": {
    "slideshow": {
     "slide_type": "slide"
    }
   },
   "outputs": [
    {
     "data": {
      "text/plain": [
       "['https://sandeepmj.github.io/scrape-example-page/files/pdf_1.pdf',\n",
       " 'https://sandeepmj.github.io/scrape-example-page/files/pdf_2.pdf',\n",
       " 'https://sandeepmj.github.io/scrape-example-page/files/pdf_3.pdf',\n",
       " 'https://sandeepmj.github.io/scrape-example-page/files/pdf_4.pdf',\n",
       " 'https://sandeepmj.github.io/scrape-example-page/files/pdf_5.pdf',\n",
       " 'https://sandeepmj.github.io/scrape-example-page/files/pdf_6.pdf',\n",
       " 'https://sandeepmj.github.io/scrape-example-page/files/pdf_7.pdf',\n",
       " 'https://sandeepmj.github.io/scrape-example-page/files/pdf_8.pdf',\n",
       " 'https://sandeepmj.github.io/scrape-example-page/files/pdf_9.pdf',\n",
       " 'https://sandeepmj.github.io/scrape-example-page/files/pdf_10.pdf']"
      ]
     },
     "execution_count": 30,
     "metadata": {},
     "output_type": "execute_result"
    }
   ],
   "source": [
    "## lc store in all_pdf_links\n",
    "all_pdf_links = [base_url + pdf_file_link.get(\"href\")\\\n",
    "                 for pdf_file_link in pdf_file_links]\n",
    "all_pdf_links"
   ]
  },
  {
   "cell_type": "markdown",
   "metadata": {
    "slideshow": {
     "slide_type": "slide"
    }
   },
   "source": [
    "## Download all the ```pdf``` documents"
   ]
  },
  {
   "cell_type": "code",
   "execution_count": 31,
   "metadata": {
    "slideshow": {
     "slide_type": "slide"
    }
   },
   "outputs": [
    {
     "name": "stdout",
     "output_type": "stream",
     "text": [
      "Downloaded link 1 of 10\n",
      "snoozing for 3 seconds before scraping next link.\n",
      "Downloaded link 2 of 10\n",
      "snoozing for 3 seconds before scraping next link.\n",
      "Downloaded link 3 of 10\n",
      "snoozing for 4 seconds before scraping next link.\n",
      "Downloaded link 4 of 10\n",
      "snoozing for 3 seconds before scraping next link.\n",
      "Downloaded link 5 of 10\n",
      "snoozing for 4 seconds before scraping next link.\n",
      "Downloaded link 6 of 10\n",
      "snoozing for 4 seconds before scraping next link.\n",
      "Downloaded link 7 of 10\n",
      "snoozing for 5 seconds before scraping next link.\n",
      "Downloaded link 8 of 10\n",
      "snoozing for 5 seconds before scraping next link.\n",
      "Downloaded link 9 of 10\n",
      "snoozing for 4 seconds before scraping next link.\n",
      "Downloaded link 10 of 10\n",
      "snoozing for 5 seconds before scraping next link.\n"
     ]
    }
   ],
   "source": [
    "links_number = len(all_pdf_links)\n",
    "link_count = 1\n",
    "for link in all_pdf_links:\n",
    "    print(f\"Downloaded link {link_count} of {links_number}\")\n",
    "    #files.download(wget.download(link)) ## needed in colab instead of next line\n",
    "    wget.download(link)\n",
    "    link_count += 1\n",
    "    snooze = randrange(3,6)\n",
    "    print(f\"snoozing for {snooze} seconds before scraping next link.\")\n",
    "    time.sleep(snooze)"
   ]
  },
  {
   "cell_type": "markdown",
   "metadata": {
    "slideshow": {
     "slide_type": "slide"
    }
   },
   "source": [
    "# Find all the files and download at one go"
   ]
  },
  {
   "cell_type": "code",
   "execution_count": 32,
   "metadata": {
    "slideshow": {
     "slide_type": "slide"
    }
   },
   "outputs": [
    {
     "data": {
      "text/plain": [
       "[<li>Junk Li tag</li>,\n",
       " <li>Junk Li tag</li>,\n",
       " <li>Text Document <a href=\"files/text_doc_01.txt\">1</a> </li>,\n",
       " <li>Text Document <a href=\"files/text_doc_02.txt\">2</a></li>,\n",
       " <li>Text Document <a href=\"files/text_doc_03.txt\">3</a></li>,\n",
       " <li>Text Document <a href=\"files/text_doc_04.txt\">4</a></li>,\n",
       " <li>Text Document <a href=\"files/text_doc_05.txt\">5</a></li>,\n",
       " <li>Text Document <a href=\"files/text_doc_06.txt\">6</a></li>,\n",
       " <li>Text Document <a href=\"files/text_doc_07.txt\">7</a></li>,\n",
       " <li>Text Document <a href=\"files/text_doc_08.txt\">8</a></li>,\n",
       " <li>Text Document <a href=\"files/text_doc_09.txt\">9</a></li>,\n",
       " <li>Text Document <a href=\"files/text_doc_10.txt\">10</a></li>,\n",
       " <li>Junk Li tag</li>,\n",
       " <li>Junk Li tag</li>,\n",
       " <li>PDF Document <a href=\"files/pdf_1.pdf\">1</a> </li>,\n",
       " <li>PDF Document <a href=\"files/pdf_2.pdf\">2</a></li>,\n",
       " <li>PDF Document <a href=\"files/pdf_3.pdf\">3</a></li>,\n",
       " <li>PDF Document <a href=\"files/pdf_4.pdf\">4</a></li>,\n",
       " <li>PDF Document <a href=\"files/pdf_5.pdf\">5</a></li>,\n",
       " <li>PDF Document <a href=\"files/pdf_6.pdf\">6</a></li>,\n",
       " <li>PDF Document <a href=\"files/pdf_7.pdf\">7</a></li>,\n",
       " <li>PDF Document <a href=\"files/pdf_8.pdf\">8</a></li>,\n",
       " <li>PDF Document <a href=\"files/pdf_9.pdf\">9</a></li>,\n",
       " <li>PDF Document <a href=\"files/pdf_10.pdf\">10</a></li>,\n",
       " <li>Junk Li tag</li>,\n",
       " <li>Junk Li tag</li>]"
      ]
     },
     "execution_count": 32,
     "metadata": {},
     "output_type": "execute_result"
    }
   ],
   "source": [
    "## find all files in our soup\n",
    "all_holder = soup.find_all(\"li\")\n",
    "all_holder"
   ]
  },
  {
   "cell_type": "markdown",
   "metadata": {
    "slideshow": {
     "slide_type": "slide"
    }
   },
   "source": [
    "## Stop...we can't throw such a wide net!"
   ]
  },
  {
   "cell_type": "markdown",
   "metadata": {
    "slideshow": {
     "slide_type": "slide"
    }
   },
   "source": [
    "# Target the class ```downloadable```"
   ]
  },
  {
   "cell_type": "code",
   "execution_count": 36,
   "metadata": {
    "slideshow": {
     "slide_type": "slide"
    }
   },
   "outputs": [
    {
     "data": {
      "text/plain": [
       "[<ul class=\"txts downloadable\">\n",
       " <p class=\"pages\">Download this list of text documents</p>\n",
       " <li>Text Document <a href=\"files/text_doc_01.txt\">1</a> </li>\n",
       " <li>Text Document <a href=\"files/text_doc_02.txt\">2</a></li>\n",
       " <li>Text Document <a href=\"files/text_doc_03.txt\">3</a></li>\n",
       " <li>Text Document <a href=\"files/text_doc_04.txt\">4</a></li>\n",
       " <li>Text Document <a href=\"files/text_doc_05.txt\">5</a></li>\n",
       " <li>Text Document <a href=\"files/text_doc_06.txt\">6</a></li>\n",
       " <li>Text Document <a href=\"files/text_doc_07.txt\">7</a></li>\n",
       " <li>Text Document <a href=\"files/text_doc_08.txt\">8</a></li>\n",
       " <li>Text Document <a href=\"files/text_doc_09.txt\">9</a></li>\n",
       " <li>Text Document <a href=\"files/text_doc_10.txt\">10</a></li>\n",
       " </ul>,\n",
       " <ul class=\"pdfs downloadable\">\n",
       " <p class=\"pages\">Download this list of PDFs</p>\n",
       " <li>PDF Document <a href=\"files/pdf_1.pdf\">1</a> </li>\n",
       " <li>PDF Document <a href=\"files/pdf_2.pdf\">2</a></li>\n",
       " <li>PDF Document <a href=\"files/pdf_3.pdf\">3</a></li>\n",
       " <li>PDF Document <a href=\"files/pdf_4.pdf\">4</a></li>\n",
       " <li>PDF Document <a href=\"files/pdf_5.pdf\">5</a></li>\n",
       " <li>PDF Document <a href=\"files/pdf_6.pdf\">6</a></li>\n",
       " <li>PDF Document <a href=\"files/pdf_7.pdf\">7</a></li>\n",
       " <li>PDF Document <a href=\"files/pdf_8.pdf\">8</a></li>\n",
       " <li>PDF Document <a href=\"files/pdf_9.pdf\">9</a></li>\n",
       " <li>PDF Document <a href=\"files/pdf_10.pdf\">10</a></li>\n",
       " </ul>]"
      ]
     },
     "execution_count": 36,
     "metadata": {},
     "output_type": "execute_result"
    }
   ],
   "source": [
    "## find all files in our soup\n",
    "docs_holder = soup.find_all(\"ul\", class_=\"downloadable\")\n",
    "docs_holder"
   ]
  },
  {
   "cell_type": "code",
   "execution_count": 35,
   "metadata": {
    "slideshow": {
     "slide_type": "slide"
    }
   },
   "outputs": [
    {
     "data": {
      "text/plain": [
       "bs4.element.ResultSet"
      ]
     },
     "execution_count": 35,
     "metadata": {},
     "output_type": "execute_result"
    }
   ],
   "source": [
    "## type?\n",
    "type(docs_holder)"
   ]
  },
  {
   "cell_type": "code",
   "execution_count": 38,
   "metadata": {
    "collapsed": true
   },
   "outputs": [
    {
     "name": "stdout",
     "output_type": "stream",
     "text": [
      "<ul class=\"txts downloadable\">\n",
      "<p class=\"pages\">Download this list of text documents</p>\n",
      "<li>Text Document <a href=\"files/text_doc_01.txt\">1</a> </li>\n",
      "<li>Text Document <a href=\"files/text_doc_02.txt\">2</a></li>\n",
      "<li>Text Document <a href=\"files/text_doc_03.txt\">3</a></li>\n",
      "<li>Text Document <a href=\"files/text_doc_04.txt\">4</a></li>\n",
      "<li>Text Document <a href=\"files/text_doc_05.txt\">5</a></li>\n",
      "<li>Text Document <a href=\"files/text_doc_06.txt\">6</a></li>\n",
      "<li>Text Document <a href=\"files/text_doc_07.txt\">7</a></li>\n",
      "<li>Text Document <a href=\"files/text_doc_08.txt\">8</a></li>\n",
      "<li>Text Document <a href=\"files/text_doc_09.txt\">9</a></li>\n",
      "<li>Text Document <a href=\"files/text_doc_10.txt\">10</a></li>\n",
      "</ul>\n",
      "************************\n",
      "<ul class=\"pdfs downloadable\">\n",
      "<p class=\"pages\">Download this list of PDFs</p>\n",
      "<li>PDF Document <a href=\"files/pdf_1.pdf\">1</a> </li>\n",
      "<li>PDF Document <a href=\"files/pdf_2.pdf\">2</a></li>\n",
      "<li>PDF Document <a href=\"files/pdf_3.pdf\">3</a></li>\n",
      "<li>PDF Document <a href=\"files/pdf_4.pdf\">4</a></li>\n",
      "<li>PDF Document <a href=\"files/pdf_5.pdf\">5</a></li>\n",
      "<li>PDF Document <a href=\"files/pdf_6.pdf\">6</a></li>\n",
      "<li>PDF Document <a href=\"files/pdf_7.pdf\">7</a></li>\n",
      "<li>PDF Document <a href=\"files/pdf_8.pdf\">8</a></li>\n",
      "<li>PDF Document <a href=\"files/pdf_9.pdf\">9</a></li>\n",
      "<li>PDF Document <a href=\"files/pdf_10.pdf\">10</a></li>\n",
      "</ul>\n",
      "************************\n"
     ]
    }
   ],
   "source": [
    "for item in docs_holder:\n",
    "    print(item)\n",
    "    print(\"************************\")"
   ]
  },
  {
   "cell_type": "markdown",
   "metadata": {
    "slideshow": {
     "slide_type": "slide"
    }
   },
   "source": [
    "### We run into problems because we have a list of lists\n",
    "\n",
    "#### Quick detour to flatten list lesson"
   ]
  },
  {
   "cell_type": "code",
   "execution_count": 41,
   "metadata": {
    "collapsed": true,
    "slideshow": {
     "slide_type": "slide"
    }
   },
   "outputs": [
    {
     "data": {
      "text/plain": [
       "[[<li>Text Document <a href=\"files/text_doc_01.txt\">1</a> </li>,\n",
       "  <li>Text Document <a href=\"files/text_doc_02.txt\">2</a></li>,\n",
       "  <li>Text Document <a href=\"files/text_doc_03.txt\">3</a></li>,\n",
       "  <li>Text Document <a href=\"files/text_doc_04.txt\">4</a></li>,\n",
       "  <li>Text Document <a href=\"files/text_doc_05.txt\">5</a></li>,\n",
       "  <li>Text Document <a href=\"files/text_doc_06.txt\">6</a></li>,\n",
       "  <li>Text Document <a href=\"files/text_doc_07.txt\">7</a></li>,\n",
       "  <li>Text Document <a href=\"files/text_doc_08.txt\">8</a></li>,\n",
       "  <li>Text Document <a href=\"files/text_doc_09.txt\">9</a></li>,\n",
       "  <li>Text Document <a href=\"files/text_doc_10.txt\">10</a></li>],\n",
       " [<li>PDF Document <a href=\"files/pdf_1.pdf\">1</a> </li>,\n",
       "  <li>PDF Document <a href=\"files/pdf_2.pdf\">2</a></li>,\n",
       "  <li>PDF Document <a href=\"files/pdf_3.pdf\">3</a></li>,\n",
       "  <li>PDF Document <a href=\"files/pdf_4.pdf\">4</a></li>,\n",
       "  <li>PDF Document <a href=\"files/pdf_5.pdf\">5</a></li>,\n",
       "  <li>PDF Document <a href=\"files/pdf_6.pdf\">6</a></li>,\n",
       "  <li>PDF Document <a href=\"files/pdf_7.pdf\">7</a></li>,\n",
       "  <li>PDF Document <a href=\"files/pdf_8.pdf\">8</a></li>,\n",
       "  <li>PDF Document <a href=\"files/pdf_9.pdf\">9</a></li>,\n",
       "  <li>PDF Document <a href=\"files/pdf_10.pdf\">10</a></li>]]"
      ]
     },
     "execution_count": 41,
     "metadata": {},
     "output_type": "execute_result"
    }
   ],
   "source": [
    "## because docs_holder has p tags, newlines, etc. we need to focus it\n",
    "all_li = [myLi.find_all(\"li\") for myLi in docs_holder]\n",
    "all_li"
   ]
  },
  {
   "cell_type": "markdown",
   "metadata": {
    "slideshow": {
     "slide_type": "slide"
    }
   },
   "source": [
    "## itertools"
   ]
  },
  {
   "cell_type": "code",
   "execution_count": 42,
   "metadata": {
    "slideshow": {
     "slide_type": "slide"
    }
   },
   "outputs": [
    {
     "data": {
      "text/plain": [
       "[<li>Text Document <a href=\"files/text_doc_01.txt\">1</a> </li>,\n",
       " <li>Text Document <a href=\"files/text_doc_02.txt\">2</a></li>,\n",
       " <li>Text Document <a href=\"files/text_doc_03.txt\">3</a></li>,\n",
       " <li>Text Document <a href=\"files/text_doc_04.txt\">4</a></li>,\n",
       " <li>Text Document <a href=\"files/text_doc_05.txt\">5</a></li>,\n",
       " <li>Text Document <a href=\"files/text_doc_06.txt\">6</a></li>,\n",
       " <li>Text Document <a href=\"files/text_doc_07.txt\">7</a></li>,\n",
       " <li>Text Document <a href=\"files/text_doc_08.txt\">8</a></li>,\n",
       " <li>Text Document <a href=\"files/text_doc_09.txt\">9</a></li>,\n",
       " <li>Text Document <a href=\"files/text_doc_10.txt\">10</a></li>,\n",
       " <li>PDF Document <a href=\"files/pdf_1.pdf\">1</a> </li>,\n",
       " <li>PDF Document <a href=\"files/pdf_2.pdf\">2</a></li>,\n",
       " <li>PDF Document <a href=\"files/pdf_3.pdf\">3</a></li>,\n",
       " <li>PDF Document <a href=\"files/pdf_4.pdf\">4</a></li>,\n",
       " <li>PDF Document <a href=\"files/pdf_5.pdf\">5</a></li>,\n",
       " <li>PDF Document <a href=\"files/pdf_6.pdf\">6</a></li>,\n",
       " <li>PDF Document <a href=\"files/pdf_7.pdf\">7</a></li>,\n",
       " <li>PDF Document <a href=\"files/pdf_8.pdf\">8</a></li>,\n",
       " <li>PDF Document <a href=\"files/pdf_9.pdf\">9</a></li>,\n",
       " <li>PDF Document <a href=\"files/pdf_10.pdf\">10</a></li>]"
      ]
     },
     "execution_count": 42,
     "metadata": {},
     "output_type": "execute_result"
    }
   ],
   "source": [
    "## let's use itertools to flatten the list\n",
    "import itertools\n",
    "\n",
    "list(itertools.chain(*all_li))"
   ]
  },
  {
   "cell_type": "code",
   "execution_count": 50,
   "metadata": {
    "slideshow": {
     "slide_type": "slide"
    }
   },
   "outputs": [
    {
     "data": {
      "text/plain": [
       "['https://sandeepmj.github.io/scrape-example-page/files/text_doc_01.txt',\n",
       " 'https://sandeepmj.github.io/scrape-example-page/files/text_doc_02.txt',\n",
       " 'https://sandeepmj.github.io/scrape-example-page/files/text_doc_03.txt',\n",
       " 'https://sandeepmj.github.io/scrape-example-page/files/text_doc_04.txt',\n",
       " 'https://sandeepmj.github.io/scrape-example-page/files/text_doc_05.txt',\n",
       " 'https://sandeepmj.github.io/scrape-example-page/files/text_doc_06.txt',\n",
       " 'https://sandeepmj.github.io/scrape-example-page/files/text_doc_07.txt',\n",
       " 'https://sandeepmj.github.io/scrape-example-page/files/text_doc_08.txt',\n",
       " 'https://sandeepmj.github.io/scrape-example-page/files/text_doc_09.txt',\n",
       " 'https://sandeepmj.github.io/scrape-example-page/files/text_doc_10.txt',\n",
       " 'https://sandeepmj.github.io/scrape-example-page/files/pdf_1.pdf',\n",
       " 'https://sandeepmj.github.io/scrape-example-page/files/pdf_2.pdf',\n",
       " 'https://sandeepmj.github.io/scrape-example-page/files/pdf_3.pdf',\n",
       " 'https://sandeepmj.github.io/scrape-example-page/files/pdf_4.pdf',\n",
       " 'https://sandeepmj.github.io/scrape-example-page/files/pdf_5.pdf',\n",
       " 'https://sandeepmj.github.io/scrape-example-page/files/pdf_6.pdf',\n",
       " 'https://sandeepmj.github.io/scrape-example-page/files/pdf_7.pdf',\n",
       " 'https://sandeepmj.github.io/scrape-example-page/files/pdf_8.pdf',\n",
       " 'https://sandeepmj.github.io/scrape-example-page/files/pdf_9.pdf',\n",
       " 'https://sandeepmj.github.io/scrape-example-page/files/pdf_10.pdf']"
      ]
     },
     "execution_count": 50,
     "metadata": {},
     "output_type": "execute_result"
    }
   ],
   "source": [
    "## let's blend BeautifulSoup and itertools\n",
    "all_links = [base_url + url.find(\"a\").get(\"href\")\\\n",
    "            for url in list(itertools.chain(*all_li))]\n",
    "\n",
    "all_links"
   ]
  },
  {
   "cell_type": "markdown",
   "metadata": {
    "slideshow": {
     "slide_type": "slide"
    }
   },
   "source": [
    "## For Loop"
   ]
  },
  {
   "cell_type": "code",
   "execution_count": null,
   "metadata": {
    "slideshow": {
     "slide_type": "slide"
    }
   },
   "outputs": [],
   "source": [
    "## Flatten via for loop\n"
   ]
  },
  {
   "cell_type": "markdown",
   "metadata": {
    "slideshow": {
     "slide_type": "slide"
    }
   },
   "source": [
    "## List Comprehension"
   ]
  },
  {
   "cell_type": "code",
   "execution_count": 55,
   "metadata": {
    "slideshow": {
     "slide_type": "slide"
    }
   },
   "outputs": [
    {
     "data": {
      "text/plain": [
       "[[<a href=\"files/text_doc_01.txt\">1</a>,\n",
       "  <a href=\"files/text_doc_02.txt\">2</a>,\n",
       "  <a href=\"files/text_doc_03.txt\">3</a>,\n",
       "  <a href=\"files/text_doc_04.txt\">4</a>,\n",
       "  <a href=\"files/text_doc_05.txt\">5</a>,\n",
       "  <a href=\"files/text_doc_06.txt\">6</a>,\n",
       "  <a href=\"files/text_doc_07.txt\">7</a>,\n",
       "  <a href=\"files/text_doc_08.txt\">8</a>,\n",
       "  <a href=\"files/text_doc_09.txt\">9</a>,\n",
       "  <a href=\"files/text_doc_10.txt\">10</a>],\n",
       " [<a href=\"files/pdf_1.pdf\">1</a>,\n",
       "  <a href=\"files/pdf_2.pdf\">2</a>,\n",
       "  <a href=\"files/pdf_3.pdf\">3</a>,\n",
       "  <a href=\"files/pdf_4.pdf\">4</a>,\n",
       "  <a href=\"files/pdf_5.pdf\">5</a>,\n",
       "  <a href=\"files/pdf_6.pdf\">6</a>,\n",
       "  <a href=\"files/pdf_7.pdf\">7</a>,\n",
       "  <a href=\"files/pdf_8.pdf\">8</a>,\n",
       "  <a href=\"files/pdf_9.pdf\">9</a>,\n",
       "  <a href=\"files/pdf_10.pdf\">10</a>]]"
      ]
     },
     "execution_count": 55,
     "metadata": {},
     "output_type": "execute_result"
    }
   ],
   "source": [
    "# step 1\n",
    "docs_holder_all_a = [item.find_all(\"a\") for item in docs_holder]\n",
    "docs_holder_all_a"
   ]
  },
  {
   "cell_type": "code",
   "execution_count": 53,
   "metadata": {
    "slideshow": {
     "slide_type": "slide"
    }
   },
   "outputs": [
    {
     "data": {
      "text/plain": [
       "['https://sandeepmj.github.io/scrape-example-page/files/text_doc_01.txt',\n",
       " 'https://sandeepmj.github.io/scrape-example-page/files/text_doc_02.txt',\n",
       " 'https://sandeepmj.github.io/scrape-example-page/files/text_doc_03.txt',\n",
       " 'https://sandeepmj.github.io/scrape-example-page/files/text_doc_04.txt',\n",
       " 'https://sandeepmj.github.io/scrape-example-page/files/text_doc_05.txt',\n",
       " 'https://sandeepmj.github.io/scrape-example-page/files/text_doc_06.txt',\n",
       " 'https://sandeepmj.github.io/scrape-example-page/files/text_doc_07.txt',\n",
       " 'https://sandeepmj.github.io/scrape-example-page/files/text_doc_08.txt',\n",
       " 'https://sandeepmj.github.io/scrape-example-page/files/text_doc_09.txt',\n",
       " 'https://sandeepmj.github.io/scrape-example-page/files/text_doc_10.txt',\n",
       " 'https://sandeepmj.github.io/scrape-example-page/files/pdf_1.pdf',\n",
       " 'https://sandeepmj.github.io/scrape-example-page/files/pdf_2.pdf',\n",
       " 'https://sandeepmj.github.io/scrape-example-page/files/pdf_3.pdf',\n",
       " 'https://sandeepmj.github.io/scrape-example-page/files/pdf_4.pdf',\n",
       " 'https://sandeepmj.github.io/scrape-example-page/files/pdf_5.pdf',\n",
       " 'https://sandeepmj.github.io/scrape-example-page/files/pdf_6.pdf',\n",
       " 'https://sandeepmj.github.io/scrape-example-page/files/pdf_7.pdf',\n",
       " 'https://sandeepmj.github.io/scrape-example-page/files/pdf_8.pdf',\n",
       " 'https://sandeepmj.github.io/scrape-example-page/files/pdf_9.pdf',\n",
       " 'https://sandeepmj.github.io/scrape-example-page/files/pdf_10.pdf']"
      ]
     },
     "execution_count": 53,
     "metadata": {},
     "output_type": "execute_result"
    }
   ],
   "source": [
    "# step 2\n",
    "all_urls_lc = [base_url+item.get(\"href\") for sub_list in docs_holder_all_a for item in sub_list]\n",
    "all_urls_lc"
   ]
  },
  {
   "cell_type": "markdown",
   "metadata": {
    "slideshow": {
     "slide_type": "slide"
    }
   },
   "source": [
    "## Download all documents"
   ]
  },
  {
   "cell_type": "code",
   "execution_count": 49,
   "metadata": {
    "slideshow": {
     "slide_type": "slide"
    }
   },
   "outputs": [
    {
     "name": "stdout",
     "output_type": "stream",
     "text": [
      "Downloaded link 1 of 20\n",
      "snoozing for 4 seconds before scraping next link.\n",
      "Downloaded link 2 of 20\n",
      "snoozing for 3 seconds before scraping next link.\n",
      "Downloaded link 3 of 20\n",
      "snoozing for 4 seconds before scraping next link.\n",
      "Downloaded link 4 of 20\n",
      "snoozing for 5 seconds before scraping next link.\n",
      "Downloaded link 5 of 20\n",
      "snoozing for 5 seconds before scraping next link.\n",
      "Downloaded link 6 of 20\n",
      "snoozing for 3 seconds before scraping next link.\n",
      "Downloaded link 7 of 20\n",
      "snoozing for 3 seconds before scraping next link.\n",
      "Downloaded link 8 of 20\n",
      "snoozing for 5 seconds before scraping next link.\n",
      "Downloaded link 9 of 20\n",
      "snoozing for 3 seconds before scraping next link.\n",
      "Downloaded link 10 of 20\n",
      "snoozing for 4 seconds before scraping next link.\n",
      "Downloaded link 11 of 20\n",
      "snoozing for 3 seconds before scraping next link.\n",
      "Downloaded link 12 of 20\n",
      "snoozing for 4 seconds before scraping next link.\n",
      "Downloaded link 13 of 20\n",
      "snoozing for 3 seconds before scraping next link.\n",
      "Downloaded link 14 of 20\n",
      "snoozing for 3 seconds before scraping next link.\n",
      "Downloaded link 15 of 20\n",
      "snoozing for 3 seconds before scraping next link.\n",
      "Downloaded link 16 of 20\n",
      "snoozing for 4 seconds before scraping next link.\n",
      "Downloaded link 17 of 20\n",
      "snoozing for 3 seconds before scraping next link.\n",
      "Downloaded link 18 of 20\n",
      "snoozing for 5 seconds before scraping next link.\n",
      "Downloaded link 19 of 20\n",
      "snoozing for 4 seconds before scraping next link.\n",
      "Downloaded link 20 of 20\n",
      "snoozing for 3 seconds before scraping next link.\n"
     ]
    }
   ],
   "source": [
    "## careful to put in a list name we just processed (via lc, fl, itertools)\n",
    "links_number = len(all_links)\n",
    "link_count = 1\n",
    "for link in all_links:\n",
    "    print(f\"Downloaded link {link_count} of {links_number}\")\n",
    "    wget.download(link)\n",
    "    link_count += 1\n",
    "    snooze = randrange(3,6)\n",
    "    print(f\"snoozing for {snooze} seconds before scraping next link.\")\n",
    "    time.sleep(snooze)"
   ]
  },
  {
   "cell_type": "code",
   "execution_count": null,
   "metadata": {},
   "outputs": [],
   "source": []
  }
 ],
 "metadata": {
  "celltoolbar": "Slideshow",
  "kernelspec": {
   "display_name": "Python 3",
   "language": "python",
   "name": "python3"
  },
  "language_info": {
   "codemirror_mode": {
    "name": "ipython",
    "version": 3
   },
   "file_extension": ".py",
   "mimetype": "text/x-python",
   "name": "python",
   "nbconvert_exporter": "python",
   "pygments_lexer": "ipython3",
   "version": "3.8.3"
  }
 },
 "nbformat": 4,
 "nbformat_minor": 4
}
