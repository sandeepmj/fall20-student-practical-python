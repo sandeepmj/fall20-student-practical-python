{
 "cells": [
  {
   "cell_type": "markdown",
   "metadata": {
    "slideshow": {
     "slide_type": "slide"
    }
   },
   "source": [
    "# Week 3 - Conditionals"
   ]
  },
  {
   "cell_type": "code",
   "execution_count": 13,
   "metadata": {
    "slideshow": {
     "slide_type": "slide"
    }
   },
   "outputs": [
    {
     "data": {
      "text/plain": [
       "[41, -61, 75, 30, -78, -58, 64, -2, 93, 31]"
      ]
     },
     "execution_count": 13,
     "metadata": {},
     "output_type": "execute_result"
    }
   ],
   "source": [
    "## create a list of 10 random numbers anywhere from -100 to 100 \n",
    "##name the list numbers\n",
    "from random import sample\n",
    "numbers = sample(range(-100, 100), 10)\n",
    "numbers"
   ]
  },
  {
   "cell_type": "markdown",
   "metadata": {
    "slideshow": {
     "slide_type": "slide"
    }
   },
   "source": [
    "## Create conditional statements that tell us if the last number and the penultimate number are positive or negative.\n",
    "## Print a sentence that reads:\n",
    "```\n",
    "\"The last number [what is it?] is [positive or negative] while \n",
    " the penultimate number [what is it?] is [negative or positive].\"\n",
    "```"
   ]
  },
  {
   "cell_type": "code",
   "execution_count": 2,
   "metadata": {
    "slideshow": {
     "slide_type": "slide"
    }
   },
   "outputs": [
    {
     "name": "stdout",
     "output_type": "stream",
     "text": [
      "The last number (-50) is negative while the  penultimate number (25) is positive\n"
     ]
    }
   ],
   "source": [
    "## if else statements\n",
    "if numbers[-2] > 0:\n",
    "    penultimate_status = \"positive\"\n",
    "    \n",
    "else: penultimate_status = \"negative\"\n",
    "        \n",
    "if numbers[-1] > 0:\n",
    "    last_status = \"positive\"\n",
    "else: last_status = \"negative\"\n",
    "        \n",
    "print(f\"The last number ({numbers[-1]}) is {last_status} while \\\n",
    "the  penultimate number ({numbers[-2]}) is {penultimate_status}\")"
   ]
  },
  {
   "cell_type": "markdown",
   "metadata": {
    "slideshow": {
     "slide_type": "slide"
    }
   },
   "source": [
    "## Tenary Expression\n",
    "```variable = value1 if some_condition else value2```"
   ]
  },
  {
   "cell_type": "code",
   "execution_count": 5,
   "metadata": {
    "slideshow": {
     "slide_type": "slide"
    }
   },
   "outputs": [
    {
     "name": "stdout",
     "output_type": "stream",
     "text": [
      "The last number (-50) is negative while the penultimate number (25) is positive.\n"
     ]
    }
   ],
   "source": [
    "## ternary expression\n",
    "# as ternary expression\n",
    "penultimate_status = \"positive\" if numbers[-2] > 0 else \"negative\"\n",
    "\n",
    "last_status = \"positive\" if numbers[-1] > 0 else \"negative\"\n",
    "\n",
    "print(f\"The last number ({numbers[-1]}) is {last_status} while \\\n",
    "the penultimate number ({numbers[-2]}) is {penultimate_status}.\")"
   ]
  },
  {
   "cell_type": "markdown",
   "metadata": {
    "slideshow": {
     "slide_type": "slide"
    }
   },
   "source": [
    "## Multiple Tenary Expression\n",
    "```variable = value1 if condition1 else value2 if condition2 else value3 ```"
   ]
  },
  {
   "cell_type": "code",
   "execution_count": 8,
   "metadata": {
    "slideshow": {
     "slide_type": "slide"
    }
   },
   "outputs": [],
   "source": [
    "## A simple example\n",
    "x, y = 4, 10"
   ]
  },
  {
   "cell_type": "code",
   "execution_count": 9,
   "metadata": {
    "slideshow": {
     "slide_type": "slide"
    }
   },
   "outputs": [
    {
     "name": "stdout",
     "output_type": "stream",
     "text": [
      "x (4) is less than y (10)\n"
     ]
    }
   ],
   "source": [
    "'''\n",
    "write a simple if else statement that prints out x is greater than y,\n",
    "or y is greater than x or if they are equal.\n",
    "'''\n",
    "if x > y:\n",
    "    print(f\"x ({x}) is greater than y ({y})\")\n",
    "elif x < y:\n",
    "    print(f\"x ({x}) is less than y ({y})\")\n",
    "else:\n",
    "    print(f\"x ({x}) is equal to y ({y})\")"
   ]
  },
  {
   "cell_type": "code",
   "execution_count": 10,
   "metadata": {
    "slideshow": {
     "slide_type": "slide"
    }
   },
   "outputs": [
    {
     "name": "stdout",
     "output_type": "stream",
     "text": [
      "x (4) is less than y (10)\n"
     ]
    }
   ],
   "source": [
    "## Now as a ternary\n",
    "print(f\"x ({x}) is greater than y ({y})\" if x > y else f\"x ({x}) is less than y ({y})\" if x < y\\\n",
    "      else \"x and y are equal\") "
   ]
  },
  {
   "cell_type": "markdown",
   "metadata": {},
   "source": [
    "## Conditionals as Tuples\n",
    "\n",
    "```(\"False: Does not meet condition\", \"True: Meets condition\")[conditional expression]```"
   ]
  },
  {
   "cell_type": "code",
   "execution_count": 50,
   "metadata": {},
   "outputs": [],
   "source": [
    "## assign variable\n",
    "age = 20"
   ]
  },
  {
   "cell_type": "code",
   "execution_count": 51,
   "metadata": {},
   "outputs": [
    {
     "data": {
      "text/plain": [
       "'Too young to buy alcohol legally'"
      ]
     },
     "execution_count": 51,
     "metadata": {},
     "output_type": "execute_result"
    }
   ],
   "source": [
    "## ternary conditional here:\n",
    "(\"Too young to buy alcohol legally!\", \"Can buy alcohol legally!\") [age >= 21]"
   ]
  }
 ],
 "metadata": {
  "celltoolbar": "Slideshow",
  "kernelspec": {
   "display_name": "Python 3",
   "language": "python",
   "name": "python3"
  },
  "language_info": {
   "codemirror_mode": {
    "name": "ipython",
    "version": 3
   },
   "file_extension": ".py",
   "mimetype": "text/x-python",
   "name": "python",
   "nbconvert_exporter": "python",
   "pygments_lexer": "ipython3",
   "version": "3.7.7"
  }
 },
 "nbformat": 4,
 "nbformat_minor": 2
}
